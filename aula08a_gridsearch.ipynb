{
  "nbformat": 4,
  "nbformat_minor": 0,
  "metadata": {
    "colab": {
      "provenance": [],
      "authorship_tag": "ABX9TyMM5YwO8Dr/+PqasaO6VZH+",
      "include_colab_link": true
    },
    "kernelspec": {
      "name": "python3",
      "display_name": "Python 3"
    },
    "language_info": {
      "name": "python"
    }
  },
  "cells": [
    {
      "cell_type": "markdown",
      "metadata": {
        "id": "view-in-github",
        "colab_type": "text"
      },
      "source": [
        "<a href=\"https://colab.research.google.com/github/fboldt/aulas-am-bsi/blob/main/aula08a_gridsearch.ipynb\" target=\"_parent\"><img src=\"https://colab.research.google.com/assets/colab-badge.svg\" alt=\"Open In Colab\"/></a>"
      ]
    },
    {
      "cell_type": "code",
      "execution_count": 1,
      "metadata": {
        "colab": {
          "base_uri": "https://localhost:8080/"
        },
        "id": "CHfN1b8b7PM_",
        "outputId": "4be7f0c0-6434-4e93-cee3-523347e39e6f"
      },
      "outputs": [
        {
          "output_type": "stream",
          "name": "stdout",
          "text": [
            "(20640, 8)\n",
            "(20640,)\n"
          ]
        }
      ],
      "source": [
        "from sklearn.datasets import fetch_california_housing\n",
        "X, y = fetch_california_housing(return_X_y=True)\n",
        "print(X.shape)\n",
        "print(y.shape)"
      ]
    },
    {
      "cell_type": "code",
      "source": [
        "from sklearn.model_selection import train_test_split\n",
        "X_train, X_test, y_train, y_test = train_test_split(X, y, test_size=0.2, random_state=42)"
      ],
      "metadata": {
        "id": "IxzMHXwU8icH"
      },
      "execution_count": 2,
      "outputs": []
    },
    {
      "cell_type": "code",
      "source": [
        "from sklearn.neighbors import KNeighborsRegressor\n",
        "from sklearn.model_selection import cross_validate, RepeatedKFold\n",
        "from sklearn.metrics import mean_squared_error, make_scorer\n",
        "from pprint import pprint\n",
        "\n",
        "model = KNeighborsRegressor()\n",
        "cv_results = cross_validate(model, X_train, y_train,\n",
        "                            scoring=make_scorer(mean_squared_error,\n",
        "                                                greater_is_better=False),\n",
        "                            cv=RepeatedKFold(random_state=42))\n",
        "pprint(cv_results[\"test_score\"])\n",
        "print(-cv_results[\"test_score\"].mean())"
      ],
      "metadata": {
        "colab": {
          "base_uri": "https://localhost:8080/"
        },
        "id": "lw2GQvy48nDv",
        "outputId": "cbfae9a2-4b6f-4e8c-d875-c04d3b2093b6"
      },
      "execution_count": 43,
      "outputs": [
        {
          "output_type": "stream",
          "name": "stdout",
          "text": [
            "array([-1.18524116, -1.19013495, -1.12879538, -1.18676733, -1.15676888,\n",
            "       -1.1420879 , -1.15799134, -1.16516211, -1.13602265, -1.1973055 ,\n",
            "       -1.16670956, -1.09981222, -1.15610153, -1.17902185, -1.21826766,\n",
            "       -1.20761351, -1.13712936, -1.17066561, -1.18063579, -1.14921065,\n",
            "       -1.19177045, -1.1541786 , -1.11959564, -1.22977481, -1.13986357,\n",
            "       -1.1845105 , -1.18842799, -1.14175786, -1.15733026, -1.16753095,\n",
            "       -1.1863551 , -1.14473653, -1.17102301, -1.17592068, -1.08693629,\n",
            "       -1.18910672, -1.13286923, -1.14988504, -1.12560535, -1.18600182,\n",
            "       -1.13996562, -1.20064038, -1.16476542, -1.15095958, -1.14469295,\n",
            "       -1.19940538, -1.14174529, -1.16222469, -1.21523372, -1.1252499 ])\n",
            "1.163590164678313\n"
          ]
        }
      ]
    },
    {
      "cell_type": "code",
      "source": [
        "from sklearn.model_selection import GridSearchCV\n",
        "\n",
        "model = KNeighborsRegressor()\n",
        "param_grid = {'n_neighbors': [1, 7, 15]}\n",
        "grid_search15 = GridSearchCV(model, param_grid,\n",
        "                           verbose=3, cv=5,\n",
        "                           scoring=make_scorer(mean_squared_error,\n",
        "                                               greater_is_better=False))\n",
        "grid_search15.fit(X_train, y_train)\n",
        "print(grid_search15.best_params_)\n",
        "print(grid_search15.best_score_)"
      ],
      "metadata": {
        "colab": {
          "base_uri": "https://localhost:8080/"
        },
        "id": "3Qrmy_cn_0ke",
        "outputId": "5945d69a-cc85-4901-9323-fb3f637bc558"
      },
      "execution_count": 52,
      "outputs": [
        {
          "output_type": "stream",
          "name": "stdout",
          "text": [
            "Fitting 5 folds for each of 3 candidates, totalling 15 fits\n",
            "[CV 1/5] END ....................n_neighbors=1;, score=-1.640 total time=   0.1s\n",
            "[CV 2/5] END ....................n_neighbors=1;, score=-1.584 total time=   0.1s\n",
            "[CV 3/5] END ....................n_neighbors=1;, score=-1.605 total time=   0.1s\n",
            "[CV 4/5] END ....................n_neighbors=1;, score=-1.668 total time=   0.1s\n",
            "[CV 5/5] END ....................n_neighbors=1;, score=-1.700 total time=   0.1s\n",
            "[CV 1/5] END ....................n_neighbors=7;, score=-1.169 total time=   0.1s\n",
            "[CV 2/5] END ....................n_neighbors=7;, score=-1.102 total time=   0.0s\n",
            "[CV 3/5] END ....................n_neighbors=7;, score=-1.177 total time=   0.0s\n",
            "[CV 4/5] END ....................n_neighbors=7;, score=-1.118 total time=   0.0s\n",
            "[CV 5/5] END ....................n_neighbors=7;, score=-1.188 total time=   0.0s\n",
            "[CV 1/5] END ...................n_neighbors=15;, score=-1.189 total time=   0.0s\n",
            "[CV 2/5] END ...................n_neighbors=15;, score=-1.128 total time=   0.0s\n",
            "[CV 3/5] END ...................n_neighbors=15;, score=-1.182 total time=   0.0s\n",
            "[CV 4/5] END ...................n_neighbors=15;, score=-1.148 total time=   0.0s\n",
            "[CV 5/5] END ...................n_neighbors=15;, score=-1.193 total time=   0.0s\n",
            "{'n_neighbors': 7}\n",
            "-1.1507053954163518\n"
          ]
        }
      ]
    },
    {
      "cell_type": "code",
      "source": [
        "grid_search15.cv_results_"
      ],
      "metadata": {
        "colab": {
          "base_uri": "https://localhost:8080/"
        },
        "id": "1QRQ2qzwBF9O",
        "outputId": "62fa553b-913d-4f3a-a6a8-865588440d4b"
      },
      "execution_count": 53,
      "outputs": [
        {
          "output_type": "execute_result",
          "data": {
            "text/plain": [
              "{'mean_fit_time': array([0.02906671, 0.02195845, 0.01396613]),\n",
              " 'std_fit_time': array([0.00842474, 0.01511751, 0.00043933]),\n",
              " 'mean_score_time': array([0.03128133, 0.02161198, 0.02453361]),\n",
              " 'std_score_time': array([0.00453506, 0.00359757, 0.00070049]),\n",
              " 'param_n_neighbors': masked_array(data=[1, 7, 15],\n",
              "              mask=[False, False, False],\n",
              "        fill_value=999999),\n",
              " 'params': [{'n_neighbors': 1}, {'n_neighbors': 7}, {'n_neighbors': 15}],\n",
              " 'split0_test_score': array([-1.64016411, -1.1686111 , -1.18855646]),\n",
              " 'split1_test_score': array([-1.58396547, -1.10206736, -1.12772748]),\n",
              " 'split2_test_score': array([-1.60530779, -1.17697416, -1.18227675]),\n",
              " 'split3_test_score': array([-1.66800696, -1.11827646, -1.148229  ]),\n",
              " 'split4_test_score': array([-1.7002368 , -1.18759791, -1.19309341]),\n",
              " 'mean_test_score': array([-1.63953623, -1.1507054 , -1.16797662]),\n",
              " 'std_test_score': array([0.0418455 , 0.0340265 , 0.02556888]),\n",
              " 'rank_test_score': array([3, 1, 2], dtype=int32)}"
            ]
          },
          "metadata": {},
          "execution_count": 53
        }
      ]
    },
    {
      "cell_type": "code",
      "source": [
        "model = KNeighborsRegressor()\n",
        "param_grid = {'n_neighbors': [1, 7, 15]}\n",
        "grid_search150 = GridSearchCV(model, param_grid,\n",
        "                           verbose=3, cv=RepeatedKFold(random_state=42),\n",
        "                           scoring=make_scorer(mean_squared_error,\n",
        "                                               greater_is_better=False))\n",
        "grid_search150.fit(X_train, y_train)\n",
        "print(grid_search150.best_params_)\n",
        "print(grid_search150.best_score_)"
      ],
      "metadata": {
        "colab": {
          "base_uri": "https://localhost:8080/"
        },
        "id": "jy26vgUcBXYO",
        "outputId": "95cb805a-dbcf-456c-b49c-ec9233fb5ecc"
      },
      "execution_count": 51,
      "outputs": [
        {
          "output_type": "stream",
          "name": "stdout",
          "text": [
            "Fitting 50 folds for each of 3 candidates, totalling 150 fits\n",
            "[CV 1/50] END ...................n_neighbors=1;, score=-1.683 total time=   0.0s\n",
            "[CV 2/50] END ...................n_neighbors=1;, score=-1.623 total time=   0.0s\n",
            "[CV 3/50] END ...................n_neighbors=1;, score=-1.669 total time=   0.0s\n",
            "[CV 4/50] END ...................n_neighbors=1;, score=-1.674 total time=   0.0s\n",
            "[CV 5/50] END ...................n_neighbors=1;, score=-1.620 total time=   0.0s\n",
            "[CV 6/50] END ...................n_neighbors=1;, score=-1.635 total time=   0.0s\n",
            "[CV 7/50] END ...................n_neighbors=1;, score=-1.602 total time=   0.0s\n",
            "[CV 8/50] END ...................n_neighbors=1;, score=-1.604 total time=   0.0s\n",
            "[CV 9/50] END ...................n_neighbors=1;, score=-1.628 total time=   0.0s\n",
            "[CV 10/50] END ..................n_neighbors=1;, score=-1.682 total time=   0.0s\n",
            "[CV 11/50] END ..................n_neighbors=1;, score=-1.705 total time=   0.0s\n",
            "[CV 12/50] END ..................n_neighbors=1;, score=-1.549 total time=   0.0s\n",
            "[CV 13/50] END ..................n_neighbors=1;, score=-1.679 total time=   0.0s\n",
            "[CV 14/50] END ..................n_neighbors=1;, score=-1.658 total time=   0.0s\n",
            "[CV 15/50] END ..................n_neighbors=1;, score=-1.735 total time=   0.0s\n",
            "[CV 16/50] END ..................n_neighbors=1;, score=-1.720 total time=   0.0s\n",
            "[CV 17/50] END ..................n_neighbors=1;, score=-1.670 total time=   0.0s\n",
            "[CV 18/50] END ..................n_neighbors=1;, score=-1.569 total time=   0.0s\n",
            "[CV 19/50] END ..................n_neighbors=1;, score=-1.687 total time=   0.0s\n",
            "[CV 20/50] END ..................n_neighbors=1;, score=-1.566 total time=   0.0s\n",
            "[CV 21/50] END ..................n_neighbors=1;, score=-1.718 total time=   0.0s\n",
            "[CV 22/50] END ..................n_neighbors=1;, score=-1.636 total time=   0.0s\n",
            "[CV 23/50] END ..................n_neighbors=1;, score=-1.562 total time=   0.0s\n",
            "[CV 24/50] END ..................n_neighbors=1;, score=-1.704 total time=   0.0s\n",
            "[CV 25/50] END ..................n_neighbors=1;, score=-1.645 total time=   0.0s\n",
            "[CV 26/50] END ..................n_neighbors=1;, score=-1.743 total time=   0.0s\n",
            "[CV 27/50] END ..................n_neighbors=1;, score=-1.585 total time=   0.0s\n",
            "[CV 28/50] END ..................n_neighbors=1;, score=-1.629 total time=   0.0s\n",
            "[CV 29/50] END ..................n_neighbors=1;, score=-1.570 total time=   0.0s\n",
            "[CV 30/50] END ..................n_neighbors=1;, score=-1.642 total time=   0.0s\n",
            "[CV 31/50] END ..................n_neighbors=1;, score=-1.715 total time=   0.0s\n",
            "[CV 32/50] END ..................n_neighbors=1;, score=-1.562 total time=   0.0s\n",
            "[CV 33/50] END ..................n_neighbors=1;, score=-1.603 total time=   0.0s\n",
            "[CV 34/50] END ..................n_neighbors=1;, score=-1.605 total time=   0.0s\n",
            "[CV 35/50] END ..................n_neighbors=1;, score=-1.579 total time=   0.0s\n",
            "[CV 36/50] END ..................n_neighbors=1;, score=-1.665 total time=   0.0s\n",
            "[CV 37/50] END ..................n_neighbors=1;, score=-1.653 total time=   0.0s\n",
            "[CV 38/50] END ..................n_neighbors=1;, score=-1.623 total time=   0.0s\n",
            "[CV 39/50] END ..................n_neighbors=1;, score=-1.614 total time=   0.0s\n",
            "[CV 40/50] END ..................n_neighbors=1;, score=-1.656 total time=   0.0s\n",
            "[CV 41/50] END ..................n_neighbors=1;, score=-1.594 total time=   0.0s\n",
            "[CV 42/50] END ..................n_neighbors=1;, score=-1.685 total time=   0.0s\n",
            "[CV 43/50] END ..................n_neighbors=1;, score=-1.727 total time=   0.0s\n",
            "[CV 44/50] END ..................n_neighbors=1;, score=-1.641 total time=   0.0s\n",
            "[CV 45/50] END ..................n_neighbors=1;, score=-1.687 total time=   0.0s\n",
            "[CV 46/50] END ..................n_neighbors=1;, score=-1.600 total time=   0.0s\n",
            "[CV 47/50] END ..................n_neighbors=1;, score=-1.562 total time=   0.0s\n",
            "[CV 48/50] END ..................n_neighbors=1;, score=-1.699 total time=   0.0s\n",
            "[CV 49/50] END ..................n_neighbors=1;, score=-1.684 total time=   0.0s\n",
            "[CV 50/50] END ..................n_neighbors=1;, score=-1.604 total time=   0.0s\n",
            "[CV 1/50] END ...................n_neighbors=7;, score=-1.180 total time=   0.0s\n",
            "[CV 2/50] END ...................n_neighbors=7;, score=-1.166 total time=   0.0s\n",
            "[CV 3/50] END ...................n_neighbors=7;, score=-1.131 total time=   0.0s\n",
            "[CV 4/50] END ...................n_neighbors=7;, score=-1.161 total time=   0.0s\n",
            "[CV 5/50] END ...................n_neighbors=7;, score=-1.138 total time=   0.0s\n",
            "[CV 6/50] END ...................n_neighbors=7;, score=-1.126 total time=   0.0s\n",
            "[CV 7/50] END ...................n_neighbors=7;, score=-1.144 total time=   0.0s\n",
            "[CV 8/50] END ...................n_neighbors=7;, score=-1.172 total time=   0.0s\n",
            "[CV 9/50] END ...................n_neighbors=7;, score=-1.132 total time=   0.0s\n",
            "[CV 10/50] END ..................n_neighbors=7;, score=-1.176 total time=   0.0s\n",
            "[CV 11/50] END ..................n_neighbors=7;, score=-1.176 total time=   0.0s\n",
            "[CV 12/50] END ..................n_neighbors=7;, score=-1.082 total time=   0.0s\n",
            "[CV 13/50] END ..................n_neighbors=7;, score=-1.142 total time=   0.0s\n",
            "[CV 14/50] END ..................n_neighbors=7;, score=-1.160 total time=   0.0s\n",
            "[CV 15/50] END ..................n_neighbors=7;, score=-1.195 total time=   0.0s\n",
            "[CV 16/50] END ..................n_neighbors=7;, score=-1.185 total time=   0.0s\n",
            "[CV 17/50] END ..................n_neighbors=7;, score=-1.136 total time=   0.0s\n",
            "[CV 18/50] END ..................n_neighbors=7;, score=-1.154 total time=   0.0s\n",
            "[CV 19/50] END ..................n_neighbors=7;, score=-1.176 total time=   0.0s\n",
            "[CV 20/50] END ..................n_neighbors=7;, score=-1.133 total time=   0.0s\n",
            "[CV 21/50] END ..................n_neighbors=7;, score=-1.170 total time=   0.0s\n",
            "[CV 22/50] END ..................n_neighbors=7;, score=-1.148 total time=   0.0s\n",
            "[CV 23/50] END ..................n_neighbors=7;, score=-1.114 total time=   0.0s\n",
            "[CV 24/50] END ..................n_neighbors=7;, score=-1.191 total time=   0.0s\n",
            "[CV 25/50] END ..................n_neighbors=7;, score=-1.129 total time=   0.0s\n",
            "[CV 26/50] END ..................n_neighbors=7;, score=-1.170 total time=   0.0s\n",
            "[CV 27/50] END ..................n_neighbors=7;, score=-1.170 total time=   0.0s\n",
            "[CV 28/50] END ..................n_neighbors=7;, score=-1.137 total time=   0.0s\n",
            "[CV 29/50] END ..................n_neighbors=7;, score=-1.154 total time=   0.0s\n",
            "[CV 30/50] END ..................n_neighbors=7;, score=-1.142 total time=   0.0s\n",
            "[CV 31/50] END ..................n_neighbors=7;, score=-1.170 total time=   0.0s\n",
            "[CV 32/50] END ..................n_neighbors=7;, score=-1.145 total time=   0.0s\n",
            "[CV 33/50] END ..................n_neighbors=7;, score=-1.164 total time=   0.0s\n",
            "[CV 34/50] END ..................n_neighbors=7;, score=-1.152 total time=   0.0s\n",
            "[CV 35/50] END ..................n_neighbors=7;, score=-1.105 total time=   0.0s\n",
            "[CV 36/50] END ..................n_neighbors=7;, score=-1.180 total time=   0.0s\n",
            "[CV 37/50] END ..................n_neighbors=7;, score=-1.135 total time=   0.0s\n",
            "[CV 38/50] END ..................n_neighbors=7;, score=-1.145 total time=   0.0s\n",
            "[CV 39/50] END ..................n_neighbors=7;, score=-1.111 total time=   0.0s\n",
            "[CV 40/50] END ..................n_neighbors=7;, score=-1.170 total time=   0.0s\n",
            "[CV 41/50] END ..................n_neighbors=7;, score=-1.120 total time=   0.0s\n",
            "[CV 42/50] END ..................n_neighbors=7;, score=-1.195 total time=   0.0s\n",
            "[CV 43/50] END ..................n_neighbors=7;, score=-1.145 total time=   0.0s\n",
            "[CV 44/50] END ..................n_neighbors=7;, score=-1.144 total time=   0.0s\n",
            "[CV 45/50] END ..................n_neighbors=7;, score=-1.134 total time=   0.0s\n",
            "[CV 46/50] END ..................n_neighbors=7;, score=-1.178 total time=   0.0s\n",
            "[CV 47/50] END ..................n_neighbors=7;, score=-1.126 total time=   0.0s\n",
            "[CV 48/50] END ..................n_neighbors=7;, score=-1.151 total time=   0.0s\n",
            "[CV 49/50] END ..................n_neighbors=7;, score=-1.204 total time=   0.0s\n",
            "[CV 50/50] END ..................n_neighbors=7;, score=-1.113 total time=   0.0s\n",
            "[CV 1/50] END ..................n_neighbors=15;, score=-1.190 total time=   0.0s\n",
            "[CV 2/50] END ..................n_neighbors=15;, score=-1.179 total time=   0.0s\n",
            "[CV 3/50] END ..................n_neighbors=15;, score=-1.165 total time=   0.0s\n",
            "[CV 4/50] END ..................n_neighbors=15;, score=-1.194 total time=   0.1s\n",
            "[CV 5/50] END ..................n_neighbors=15;, score=-1.126 total time=   0.0s\n",
            "[CV 6/50] END ..................n_neighbors=15;, score=-1.136 total time=   0.0s\n",
            "[CV 7/50] END ..................n_neighbors=15;, score=-1.188 total time=   0.0s\n",
            "[CV 8/50] END ..................n_neighbors=15;, score=-1.175 total time=   0.0s\n",
            "[CV 9/50] END ..................n_neighbors=15;, score=-1.168 total time=   0.0s\n",
            "[CV 10/50] END .................n_neighbors=15;, score=-1.203 total time=   0.0s\n",
            "[CV 11/50] END .................n_neighbors=15;, score=-1.198 total time=   0.0s\n",
            "[CV 12/50] END .................n_neighbors=15;, score=-1.107 total time=   0.0s\n",
            "[CV 13/50] END .................n_neighbors=15;, score=-1.163 total time=   0.1s\n",
            "[CV 14/50] END .................n_neighbors=15;, score=-1.202 total time=   0.1s\n",
            "[CV 15/50] END .................n_neighbors=15;, score=-1.213 total time=   0.2s\n",
            "[CV 16/50] END .................n_neighbors=15;, score=-1.202 total time=   0.2s\n",
            "[CV 17/50] END .................n_neighbors=15;, score=-1.164 total time=   0.1s\n",
            "[CV 18/50] END .................n_neighbors=15;, score=-1.179 total time=   0.2s\n",
            "[CV 19/50] END .................n_neighbors=15;, score=-1.174 total time=   0.2s\n",
            "[CV 20/50] END .................n_neighbors=15;, score=-1.157 total time=   0.2s\n",
            "[CV 21/50] END .................n_neighbors=15;, score=-1.188 total time=   0.2s\n",
            "[CV 22/50] END .................n_neighbors=15;, score=-1.165 total time=   0.2s\n",
            "[CV 23/50] END .................n_neighbors=15;, score=-1.146 total time=   0.4s\n",
            "[CV 24/50] END .................n_neighbors=15;, score=-1.218 total time=   0.4s\n",
            "[CV 25/50] END .................n_neighbors=15;, score=-1.166 total time=   0.3s\n",
            "[CV 26/50] END .................n_neighbors=15;, score=-1.198 total time=   0.1s\n",
            "[CV 27/50] END .................n_neighbors=15;, score=-1.195 total time=   0.1s\n",
            "[CV 28/50] END .................n_neighbors=15;, score=-1.147 total time=   0.1s\n",
            "[CV 29/50] END .................n_neighbors=15;, score=-1.183 total time=   0.1s\n",
            "[CV 30/50] END .................n_neighbors=15;, score=-1.162 total time=   0.1s\n",
            "[CV 31/50] END .................n_neighbors=15;, score=-1.204 total time=   0.1s\n",
            "[CV 32/50] END .................n_neighbors=15;, score=-1.154 total time=   0.1s\n",
            "[CV 33/50] END .................n_neighbors=15;, score=-1.186 total time=   0.0s\n",
            "[CV 34/50] END .................n_neighbors=15;, score=-1.156 total time=   0.0s\n",
            "[CV 35/50] END .................n_neighbors=15;, score=-1.143 total time=   0.0s\n",
            "[CV 36/50] END .................n_neighbors=15;, score=-1.193 total time=   0.0s\n",
            "[CV 37/50] END .................n_neighbors=15;, score=-1.145 total time=   0.0s\n",
            "[CV 38/50] END .................n_neighbors=15;, score=-1.180 total time=   0.0s\n",
            "[CV 39/50] END .................n_neighbors=15;, score=-1.132 total time=   0.0s\n",
            "[CV 40/50] END .................n_neighbors=15;, score=-1.194 total time=   0.0s\n",
            "[CV 41/50] END .................n_neighbors=15;, score=-1.130 total time=   0.0s\n",
            "[CV 42/50] END .................n_neighbors=15;, score=-1.233 total time=   0.0s\n",
            "[CV 43/50] END .................n_neighbors=15;, score=-1.149 total time=   0.0s\n",
            "[CV 44/50] END .................n_neighbors=15;, score=-1.179 total time=   0.0s\n",
            "[CV 45/50] END .................n_neighbors=15;, score=-1.152 total time=   0.0s\n",
            "[CV 46/50] END .................n_neighbors=15;, score=-1.225 total time=   0.0s\n",
            "[CV 47/50] END .................n_neighbors=15;, score=-1.147 total time=   0.0s\n",
            "[CV 48/50] END .................n_neighbors=15;, score=-1.170 total time=   0.0s\n",
            "[CV 49/50] END .................n_neighbors=15;, score=-1.204 total time=   0.0s\n",
            "[CV 50/50] END .................n_neighbors=15;, score=-1.119 total time=   0.0s\n",
            "{'n_neighbors': 7}\n",
            "-1.151544044997222\n"
          ]
        }
      ]
    },
    {
      "cell_type": "code",
      "source": [
        "param_grid = {'n_neighbors': [1, 7, 15],\n",
        "              'metric': ['euclidean',\n",
        "                         'manhattan',\n",
        "                         'chebyshev',\n",
        "                         'minkowski',\n",
        "                         'cosine']}\n",
        "grid_search75 = GridSearchCV(model, param_grid,\n",
        "                           verbose=3, cv=5,\n",
        "                           scoring=make_scorer(mean_squared_error,\n",
        "                                               greater_is_better=False))\n",
        "grid_search75.fit(X_train, y_train)\n",
        "print(grid_search75.best_params_)\n",
        "print(grid_search75.best_score_)"
      ],
      "metadata": {
        "colab": {
          "base_uri": "https://localhost:8080/"
        },
        "id": "3ks5O_TBBu3G",
        "outputId": "e7ec7ef5-5a35-4d9a-9313-99de1f05e7cc"
      },
      "execution_count": 54,
      "outputs": [
        {
          "output_type": "stream",
          "name": "stdout",
          "text": [
            "Fitting 5 folds for each of 15 candidates, totalling 75 fits\n",
            "[CV 1/5] END ..metric=euclidean, n_neighbors=1;, score=-1.640 total time=   0.0s\n",
            "[CV 2/5] END ..metric=euclidean, n_neighbors=1;, score=-1.584 total time=   0.0s\n",
            "[CV 3/5] END ..metric=euclidean, n_neighbors=1;, score=-1.605 total time=   0.0s\n",
            "[CV 4/5] END ..metric=euclidean, n_neighbors=1;, score=-1.668 total time=   0.0s\n",
            "[CV 5/5] END ..metric=euclidean, n_neighbors=1;, score=-1.700 total time=   0.0s\n",
            "[CV 1/5] END ..metric=euclidean, n_neighbors=7;, score=-1.169 total time=   0.0s\n",
            "[CV 2/5] END ..metric=euclidean, n_neighbors=7;, score=-1.102 total time=   0.0s\n",
            "[CV 3/5] END ..metric=euclidean, n_neighbors=7;, score=-1.177 total time=   0.0s\n",
            "[CV 4/5] END ..metric=euclidean, n_neighbors=7;, score=-1.118 total time=   0.0s\n",
            "[CV 5/5] END ..metric=euclidean, n_neighbors=7;, score=-1.188 total time=   0.0s\n",
            "[CV 1/5] END .metric=euclidean, n_neighbors=15;, score=-1.189 total time=   0.0s\n",
            "[CV 2/5] END .metric=euclidean, n_neighbors=15;, score=-1.128 total time=   0.0s\n",
            "[CV 3/5] END .metric=euclidean, n_neighbors=15;, score=-1.182 total time=   0.0s\n",
            "[CV 4/5] END .metric=euclidean, n_neighbors=15;, score=-1.148 total time=   0.0s\n",
            "[CV 5/5] END .metric=euclidean, n_neighbors=15;, score=-1.193 total time=   0.0s\n",
            "[CV 1/5] END ..metric=manhattan, n_neighbors=1;, score=-1.538 total time=   0.0s\n",
            "[CV 2/5] END ..metric=manhattan, n_neighbors=1;, score=-1.462 total time=   0.0s\n",
            "[CV 3/5] END ..metric=manhattan, n_neighbors=1;, score=-1.471 total time=   0.0s\n",
            "[CV 4/5] END ..metric=manhattan, n_neighbors=1;, score=-1.561 total time=   0.0s\n",
            "[CV 5/5] END ..metric=manhattan, n_neighbors=1;, score=-1.567 total time=   0.0s\n",
            "[CV 1/5] END ..metric=manhattan, n_neighbors=7;, score=-1.048 total time=   0.0s\n",
            "[CV 2/5] END ..metric=manhattan, n_neighbors=7;, score=-0.979 total time=   0.0s\n",
            "[CV 3/5] END ..metric=manhattan, n_neighbors=7;, score=-1.039 total time=   0.0s\n",
            "[CV 4/5] END ..metric=manhattan, n_neighbors=7;, score=-0.996 total time=   0.1s\n",
            "[CV 5/5] END ..metric=manhattan, n_neighbors=7;, score=-1.053 total time=   0.0s\n",
            "[CV 1/5] END .metric=manhattan, n_neighbors=15;, score=-1.054 total time=   0.0s\n",
            "[CV 2/5] END .metric=manhattan, n_neighbors=15;, score=-0.997 total time=   0.0s\n",
            "[CV 3/5] END .metric=manhattan, n_neighbors=15;, score=-1.051 total time=   0.0s\n",
            "[CV 4/5] END .metric=manhattan, n_neighbors=15;, score=-1.017 total time=   0.0s\n",
            "[CV 5/5] END .metric=manhattan, n_neighbors=15;, score=-1.065 total time=   0.0s\n",
            "[CV 1/5] END ..metric=chebyshev, n_neighbors=1;, score=-1.699 total time=   0.0s\n",
            "[CV 2/5] END ..metric=chebyshev, n_neighbors=1;, score=-1.704 total time=   0.0s\n",
            "[CV 3/5] END ..metric=chebyshev, n_neighbors=1;, score=-1.774 total time=   0.0s\n",
            "[CV 4/5] END ..metric=chebyshev, n_neighbors=1;, score=-1.683 total time=   0.0s\n",
            "[CV 5/5] END ..metric=chebyshev, n_neighbors=1;, score=-1.768 total time=   0.0s\n",
            "[CV 1/5] END ..metric=chebyshev, n_neighbors=7;, score=-1.240 total time=   0.0s\n",
            "[CV 2/5] END ..metric=chebyshev, n_neighbors=7;, score=-1.168 total time=   0.0s\n",
            "[CV 3/5] END ..metric=chebyshev, n_neighbors=7;, score=-1.239 total time=   0.0s\n",
            "[CV 4/5] END ..metric=chebyshev, n_neighbors=7;, score=-1.188 total time=   0.0s\n",
            "[CV 5/5] END ..metric=chebyshev, n_neighbors=7;, score=-1.243 total time=   0.0s\n",
            "[CV 1/5] END .metric=chebyshev, n_neighbors=15;, score=-1.289 total time=   0.0s\n",
            "[CV 2/5] END .metric=chebyshev, n_neighbors=15;, score=-1.207 total time=   0.0s\n",
            "[CV 3/5] END .metric=chebyshev, n_neighbors=15;, score=-1.273 total time=   0.0s\n",
            "[CV 4/5] END .metric=chebyshev, n_neighbors=15;, score=-1.221 total time=   0.0s\n",
            "[CV 5/5] END .metric=chebyshev, n_neighbors=15;, score=-1.260 total time=   0.0s\n",
            "[CV 1/5] END ..metric=minkowski, n_neighbors=1;, score=-1.640 total time=   0.0s\n",
            "[CV 2/5] END ..metric=minkowski, n_neighbors=1;, score=-1.584 total time=   0.0s\n",
            "[CV 3/5] END ..metric=minkowski, n_neighbors=1;, score=-1.605 total time=   0.0s\n",
            "[CV 4/5] END ..metric=minkowski, n_neighbors=1;, score=-1.668 total time=   0.0s\n",
            "[CV 5/5] END ..metric=minkowski, n_neighbors=1;, score=-1.700 total time=   0.0s\n",
            "[CV 1/5] END ..metric=minkowski, n_neighbors=7;, score=-1.169 total time=   0.0s\n",
            "[CV 2/5] END ..metric=minkowski, n_neighbors=7;, score=-1.102 total time=   0.0s\n",
            "[CV 3/5] END ..metric=minkowski, n_neighbors=7;, score=-1.177 total time=   0.0s\n",
            "[CV 4/5] END ..metric=minkowski, n_neighbors=7;, score=-1.118 total time=   0.0s\n",
            "[CV 5/5] END ..metric=minkowski, n_neighbors=7;, score=-1.188 total time=   0.0s\n",
            "[CV 1/5] END .metric=minkowski, n_neighbors=15;, score=-1.189 total time=   0.0s\n",
            "[CV 2/5] END .metric=minkowski, n_neighbors=15;, score=-1.128 total time=   0.0s\n",
            "[CV 3/5] END .metric=minkowski, n_neighbors=15;, score=-1.182 total time=   0.0s\n",
            "[CV 4/5] END .metric=minkowski, n_neighbors=15;, score=-1.148 total time=   0.0s\n",
            "[CV 5/5] END .metric=minkowski, n_neighbors=15;, score=-1.193 total time=   0.0s\n",
            "[CV 1/5] END .....metric=cosine, n_neighbors=1;, score=-1.210 total time=   0.8s\n",
            "[CV 2/5] END .....metric=cosine, n_neighbors=1;, score=-1.142 total time=   0.9s\n",
            "[CV 3/5] END .....metric=cosine, n_neighbors=1;, score=-1.200 total time=   0.9s\n",
            "[CV 4/5] END .....metric=cosine, n_neighbors=1;, score=-1.135 total time=   1.0s\n",
            "[CV 5/5] END .....metric=cosine, n_neighbors=1;, score=-1.163 total time=   0.7s\n",
            "[CV 1/5] END .....metric=cosine, n_neighbors=7;, score=-0.792 total time=   0.7s\n",
            "[CV 2/5] END .....metric=cosine, n_neighbors=7;, score=-0.747 total time=   0.7s\n",
            "[CV 3/5] END .....metric=cosine, n_neighbors=7;, score=-0.831 total time=   0.7s\n",
            "[CV 4/5] END .....metric=cosine, n_neighbors=7;, score=-0.761 total time=   0.7s\n",
            "[CV 5/5] END .....metric=cosine, n_neighbors=7;, score=-0.805 total time=   0.8s\n",
            "[CV 1/5] END ....metric=cosine, n_neighbors=15;, score=-0.835 total time=   1.3s\n",
            "[CV 2/5] END ....metric=cosine, n_neighbors=15;, score=-0.778 total time=   0.8s\n",
            "[CV 3/5] END ....metric=cosine, n_neighbors=15;, score=-0.865 total time=   0.8s\n",
            "[CV 4/5] END ....metric=cosine, n_neighbors=15;, score=-0.794 total time=   0.9s\n",
            "[CV 5/5] END ....metric=cosine, n_neighbors=15;, score=-0.831 total time=   0.9s\n",
            "{'metric': 'cosine', 'n_neighbors': 7}\n",
            "-0.787213177977574\n"
          ]
        }
      ]
    },
    {
      "cell_type": "code",
      "source": [
        "models = [grid_search15, grid_search150, grid_search75]\n",
        "mnames = ['grid_search15', 'grid_search150', 'grid_search75']\n",
        "for model, mname in zip(models, mnames):\n",
        "    print(f\"{mname}:\\t{mean_squared_error(y_test, model.predict(X_test))}\")"
      ],
      "metadata": {
        "colab": {
          "base_uri": "https://localhost:8080/"
        },
        "id": "bIluVqEXFjg1",
        "outputId": "e07f131b-0eb6-487e-973f-98367aae4e4b"
      },
      "execution_count": 55,
      "outputs": [
        {
          "output_type": "stream",
          "name": "stdout",
          "text": [
            "grid_search15:\t1.1045381245194705\n",
            "grid_search150:\t1.1045381245194705\n",
            "grid_search75:\t0.7317450185058525\n"
          ]
        }
      ]
    },
    {
      "cell_type": "code",
      "source": [
        "from sklearn.model_selection import KFold\n",
        "\n",
        "for model, mname in zip(models, mnames):\n",
        "  model.verbose = 0\n",
        "  scores = cross_validate(model, X_train, y_train,\n",
        "                          scoring=make_scorer(mean_squared_error,\n",
        "                                              greater_is_better=False),\n",
        "                          cv=KFold(shuffle=True, random_state=42))\n",
        "  print(f\"{mname}:\\t{-scores['test_score'].mean()}\")"
      ],
      "metadata": {
        "colab": {
          "base_uri": "https://localhost:8080/"
        },
        "id": "BMhMgkbwGSY9",
        "outputId": "3b6f121c-0712-47ef-e56b-1c66ebef58ec"
      },
      "execution_count": 58,
      "outputs": [
        {
          "output_type": "stream",
          "name": "stdout",
          "text": [
            "grid_search15:\t1.1549140028608806\n",
            "grid_search150:\t1.1549140028608806\n",
            "grid_search75:\t0.7812890024464838\n"
          ]
        }
      ]
    },
    {
      "cell_type": "code",
      "source": [
        "from sklearn.preprocessing import StandardScaler\n",
        "from sklearn.pipeline import Pipeline\n",
        "\n",
        "model = Pipeline([('scaler', StandardScaler()),\n",
        "                  ('model', KNeighborsRegressor())])\n",
        "scores = cross_validate(model, X_train, y_train,\n",
        "                        scoring=make_scorer(mean_squared_error,\n",
        "                                            greater_is_better=False),\n",
        "                        cv=KFold(shuffle=True, random_state=42))\n",
        "print(f\"Pipeline:\\t{-scores['test_score'].mean()}\")"
      ],
      "metadata": {
        "colab": {
          "base_uri": "https://localhost:8080/"
        },
        "id": "ufJC-yNtHkBk",
        "outputId": "5a7c9f45-fb4e-497a-d78d-2e23f09dc8a4"
      },
      "execution_count": 60,
      "outputs": [
        {
          "output_type": "stream",
          "name": "stdout",
          "text": [
            "Pipeline:\t0.422741985244789\n"
          ]
        }
      ]
    },
    {
      "cell_type": "code",
      "source": [
        "for model, mname in zip(models, mnames):\n",
        "  model.verbose = 0\n",
        "  model = Pipeline([('scaler', StandardScaler()),\n",
        "                    ('model', model)])\n",
        "  scores = cross_validate(model, X_train, y_train,\n",
        "                          scoring=make_scorer(mean_squared_error,\n",
        "                                              greater_is_better=False),\n",
        "                          cv=KFold(shuffle=True, random_state=42))\n",
        "  print(f\"{mname}:\\t{-scores['test_score'].mean()}\")"
      ],
      "metadata": {
        "colab": {
          "base_uri": "https://localhost:8080/"
        },
        "id": "b6AutA9mIEHk",
        "outputId": "cffeef59-969c-4236-bd3e-df700d386592"
      },
      "execution_count": 61,
      "outputs": [
        {
          "output_type": "stream",
          "name": "stdout",
          "text": [
            "grid_search15:\t0.4137348396905664\n",
            "grid_search150:\t0.4137348396905664\n",
            "grid_search75:\t0.3675991374459102\n"
          ]
        }
      ]
    },
    {
      "cell_type": "code",
      "source": [
        "pprint(grid_search75.cv_results_)"
      ],
      "metadata": {
        "colab": {
          "base_uri": "https://localhost:8080/"
        },
        "id": "Z33qZd9rJ3o0",
        "outputId": "d1a7c6da-8190-46c9-9b4f-d83e09ca71b6"
      },
      "execution_count": 62,
      "outputs": [
        {
          "output_type": "stream",
          "name": "stdout",
          "text": [
            "{'mean_fit_time': array([0.01534047, 0.0137928 , 0.01422882, 0.01476207, 0.01430297,\n",
            "       0.01429977, 0.01345325, 0.01488247, 0.01344433, 0.01386757,\n",
            "       0.01368284, 0.01437969, 0.00181804, 0.00163794, 0.00168824]),\n",
            " 'mean_score_time': array([0.01697559, 0.0199173 , 0.02634211, 0.01905437, 0.02903347,\n",
            "       0.03258023, 0.01095214, 0.01681857, 0.02012553, 0.01448851,\n",
            "       0.02194972, 0.02634077, 0.85900025, 0.7134438 , 0.93161631]),\n",
            " 'mean_test_score': array([-1.63953623, -1.1507054 , -1.16797662, -1.51972363, -1.02269766,\n",
            "       -1.0370384 , -1.72559675, -1.21563763, -1.25001344, -1.63953623,\n",
            "       -1.1507054 , -1.16797662, -1.17002507, -0.78721318, -0.8206905 ]),\n",
            " 'param_metric': masked_array(data=['euclidean', 'euclidean', 'euclidean', 'manhattan',\n",
            "                   'manhattan', 'manhattan', 'chebyshev', 'chebyshev',\n",
            "                   'chebyshev', 'minkowski', 'minkowski', 'minkowski',\n",
            "                   'cosine', 'cosine', 'cosine'],\n",
            "             mask=[False, False, False, False, False, False, False, False,\n",
            "                   False, False, False, False, False, False, False],\n",
            "       fill_value=np.str_('?'),\n",
            "            dtype=object),\n",
            " 'param_n_neighbors': masked_array(data=[1, 7, 15, 1, 7, 15, 1, 7, 15, 1, 7, 15, 1, 7, 15],\n",
            "             mask=[False, False, False, False, False, False, False, False,\n",
            "                   False, False, False, False, False, False, False],\n",
            "       fill_value=999999),\n",
            " 'params': [{'metric': 'euclidean', 'n_neighbors': 1},\n",
            "            {'metric': 'euclidean', 'n_neighbors': 7},\n",
            "            {'metric': 'euclidean', 'n_neighbors': 15},\n",
            "            {'metric': 'manhattan', 'n_neighbors': 1},\n",
            "            {'metric': 'manhattan', 'n_neighbors': 7},\n",
            "            {'metric': 'manhattan', 'n_neighbors': 15},\n",
            "            {'metric': 'chebyshev', 'n_neighbors': 1},\n",
            "            {'metric': 'chebyshev', 'n_neighbors': 7},\n",
            "            {'metric': 'chebyshev', 'n_neighbors': 15},\n",
            "            {'metric': 'minkowski', 'n_neighbors': 1},\n",
            "            {'metric': 'minkowski', 'n_neighbors': 7},\n",
            "            {'metric': 'minkowski', 'n_neighbors': 15},\n",
            "            {'metric': 'cosine', 'n_neighbors': 1},\n",
            "            {'metric': 'cosine', 'n_neighbors': 7},\n",
            "            {'metric': 'cosine', 'n_neighbors': 15}],\n",
            " 'rank_test_score': array([13,  5,  7, 12,  3,  4, 15, 10, 11, 13,  5,  7,  9,  1,  2],\n",
            "      dtype=int32),\n",
            " 'split0_test_score': array([-1.64016411, -1.1686111 , -1.18855646, -1.53849986, -1.04762642,\n",
            "       -1.05435052, -1.69863515, -1.23987799, -1.28913147, -1.64016411,\n",
            "       -1.1686111 , -1.18855646, -1.21048675, -0.79240217, -0.83488435]),\n",
            " 'split1_test_score': array([-1.58396547, -1.10206736, -1.12772748, -1.4616053 , -0.97879779,\n",
            "       -0.99731189, -1.70409729, -1.16832083, -1.20660409, -1.58396547,\n",
            "       -1.10206736, -1.12772748, -1.14188698, -0.74672117, -0.77760229]),\n",
            " 'split2_test_score': array([-1.60530779, -1.17697416, -1.18227675, -1.47123757, -1.03855207,\n",
            "       -1.05130312, -1.77435227, -1.23925753, -1.27349568, -1.60530779,\n",
            "       -1.17697416, -1.18227675, -1.19955941, -0.83138997, -0.86501491]),\n",
            " 'split3_test_score': array([-1.66800696, -1.11827646, -1.148229  , -1.56068624, -0.99568843,\n",
            "       -1.0173061 , -1.68294862, -1.1876496 , -1.22106067, -1.66800696,\n",
            "       -1.11827646, -1.148229  , -1.13494841, -0.76086866, -0.79445783]),\n",
            " 'split4_test_score': array([-1.7002368 , -1.18759791, -1.19309341, -1.56658916, -1.05282361,\n",
            "       -1.06492037, -1.76795044, -1.2430822 , -1.25977528, -1.7002368 ,\n",
            "       -1.18759791, -1.19309341, -1.16324378, -0.80468392, -0.83149311]),\n",
            " 'std_fit_time': array([0.0014021 , 0.0003288 , 0.00088181, 0.00195505, 0.00140474,\n",
            "       0.00083503, 0.00013841, 0.00110922, 0.0002307 , 0.00067733,\n",
            "       0.00036574, 0.00067807, 0.00014178, 0.00031275, 0.0003815 ]),\n",
            " 'std_score_time': array([0.00218252, 0.00078855, 0.00136056, 0.00065947, 0.0065133 ,\n",
            "       0.00093869, 0.00052127, 0.00215576, 0.00076982, 0.00092428,\n",
            "       0.0055594 , 0.00235701, 0.10756839, 0.02569828, 0.17588633]),\n",
            " 'std_test_score': array([0.0418455 , 0.0340265 , 0.02556888, 0.04462174, 0.02978951,\n",
            "       0.02548786, 0.03789183, 0.03137167, 0.03130356, 0.0418455 ,\n",
            "       0.0340265 , 0.02556888, 0.03025735, 0.03038874, 0.03107269])}\n"
          ]
        }
      ]
    },
    {
      "cell_type": "code",
      "source": [
        "pipeline = Pipeline([('scaler', StandardScaler()),\n",
        "                     ('model', KNeighborsRegressor())])\n",
        "param_grid = {'model__n_neighbors': [1, 7, 15],\n",
        "              'model__metric': ['euclidean',\n",
        "                                'manhattan',\n",
        "                                'chebyshev',\n",
        "                                'minkowski',\n",
        "                                'cosine'],\n",
        "              'scaler__with_mean': [True, False]}\n",
        "model = GridSearchCV(pipeline, param_grid,\n",
        "                     verbose=1, cv=5,\n",
        "                     scoring=make_scorer(mean_squared_error,\n",
        "                                         greater_is_better=False))\n",
        "scores = cross_validate(model, X_train, y_train, return_estimator=True,\n",
        "                        scoring=make_scorer(mean_squared_error,\n",
        "                                            greater_is_better=False),\n",
        "                        cv=KFold(shuffle=True, random_state=42))\n",
        "pprint(scores[\"test_score\"])\n",
        "print(-scores[\"test_score\"].mean())"
      ],
      "metadata": {
        "colab": {
          "base_uri": "https://localhost:8080/"
        },
        "id": "fghiIdLCJRL8",
        "outputId": "32b7f317-2d88-4d1f-98e2-47e1b22458e0"
      },
      "execution_count": 65,
      "outputs": [
        {
          "output_type": "stream",
          "name": "stdout",
          "text": [
            "Fitting 5 folds for each of 30 candidates, totalling 150 fits\n",
            "Fitting 5 folds for each of 30 candidates, totalling 150 fits\n",
            "Fitting 5 folds for each of 30 candidates, totalling 150 fits\n",
            "Fitting 5 folds for each of 30 candidates, totalling 150 fits\n",
            "Fitting 5 folds for each of 30 candidates, totalling 150 fits\n",
            "array([-0.36917221, -0.36504264, -0.35503224, -0.38448585, -0.37031005])\n",
            "0.3688085985407537\n"
          ]
        }
      ]
    },
    {
      "cell_type": "code",
      "source": [
        "for model in scores['estimator']:\n",
        "  print(model.best_params_)\n",
        "  print(model.best_score_)"
      ],
      "metadata": {
        "colab": {
          "base_uri": "https://localhost:8080/"
        },
        "id": "J0f-e1DFKN5c",
        "outputId": "d06dcb59-f53a-417f-ee3b-c14374cbede7"
      },
      "execution_count": 66,
      "outputs": [
        {
          "output_type": "stream",
          "name": "stdout",
          "text": [
            "{'model__metric': 'manhattan', 'model__n_neighbors': 7, 'scaler__with_mean': True}\n",
            "-0.36168400697222103\n",
            "{'model__metric': 'manhattan', 'model__n_neighbors': 7, 'scaler__with_mean': True}\n",
            "-0.3707108386930719\n",
            "{'model__metric': 'manhattan', 'model__n_neighbors': 7, 'scaler__with_mean': True}\n",
            "-0.3825308476707444\n",
            "{'model__metric': 'manhattan', 'model__n_neighbors': 7, 'scaler__with_mean': True}\n",
            "-0.374538083718616\n",
            "{'model__metric': 'manhattan', 'model__n_neighbors': 7, 'scaler__with_mean': True}\n",
            "-0.38239467994412557\n"
          ]
        }
      ]
    },
    {
      "cell_type": "code",
      "source": [
        "pipeline = Pipeline([('scaler', StandardScaler(with_mean=True)),\n",
        "                     ('model', KNeighborsRegressor(n_neighbors=7, metric='manhattan'))])\n",
        "pipeline.fit(X_train, y_train)\n",
        "print(mean_squared_error(y_test, pipeline.predict(X_test)))"
      ],
      "metadata": {
        "colab": {
          "base_uri": "https://localhost:8080/"
        },
        "id": "pnyZdR8QO73b",
        "outputId": "c998d543-f7f2-4f7b-a979-353fbe44c4bf"
      },
      "execution_count": 74,
      "outputs": [
        {
          "output_type": "stream",
          "name": "stdout",
          "text": [
            "0.3733880245616882\n"
          ]
        }
      ]
    },
    {
      "cell_type": "code",
      "source": [
        "from sklearn.model_selection import RandomizedSearchCV\n",
        "\n",
        "pipeline = Pipeline([('scaler', StandardScaler()),\n",
        "                     ('model', KNeighborsRegressor())])\n",
        "param_grid = {'model__n_neighbors': [1, 7, 15],\n",
        "              'model__metric': ['euclidean',\n",
        "                                'manhattan',\n",
        "                                'chebyshev',\n",
        "                                'minkowski',\n",
        "                                'cosine'],\n",
        "              'scaler__with_mean': [True, False]}\n",
        "model = RandomizedSearchCV(pipeline, param_grid,\n",
        "                     verbose=1, cv=5, n_iter=6,\n",
        "                     scoring=make_scorer(mean_squared_error,\n",
        "                                         greater_is_better=False))\n",
        "scores = cross_validate(model, X_train, y_train, return_estimator=True,\n",
        "                        scoring=make_scorer(mean_squared_error,\n",
        "                                            greater_is_better=False),\n",
        "                        cv=KFold(shuffle=True, random_state=42))\n",
        "pprint(scores[\"test_score\"])\n",
        "print(-scores[\"test_score\"].mean())"
      ],
      "metadata": {
        "colab": {
          "base_uri": "https://localhost:8080/"
        },
        "id": "HKqL6JOIKvU8",
        "outputId": "9cba511a-2b3d-442d-a6f0-3795a6a89f9c"
      },
      "execution_count": 68,
      "outputs": [
        {
          "output_type": "stream",
          "name": "stdout",
          "text": [
            "Fitting 5 folds for each of 6 candidates, totalling 30 fits\n",
            "Fitting 5 folds for each of 6 candidates, totalling 30 fits\n",
            "Fitting 5 folds for each of 6 candidates, totalling 30 fits\n",
            "Fitting 5 folds for each of 6 candidates, totalling 30 fits\n",
            "Fitting 5 folds for each of 6 candidates, totalling 30 fits\n",
            "array([-0.37573399, -0.36504264, -0.34635403, -0.43932113, -0.37031005])\n",
            "0.37935236941439754\n"
          ]
        }
      ]
    },
    {
      "cell_type": "code",
      "source": [
        "!pip install optuna"
      ],
      "metadata": {
        "colab": {
          "base_uri": "https://localhost:8080/"
        },
        "id": "FjFlh6C6NYfr",
        "outputId": "8f62364f-b86f-447a-d083-3df37400c1b2"
      },
      "execution_count": 72,
      "outputs": [
        {
          "output_type": "stream",
          "name": "stdout",
          "text": [
            "Collecting optuna\n",
            "  Downloading optuna-4.5.0-py3-none-any.whl.metadata (17 kB)\n",
            "Requirement already satisfied: alembic>=1.5.0 in /usr/local/lib/python3.12/dist-packages (from optuna) (1.16.5)\n",
            "Collecting colorlog (from optuna)\n",
            "  Downloading colorlog-6.9.0-py3-none-any.whl.metadata (10 kB)\n",
            "Requirement already satisfied: numpy in /usr/local/lib/python3.12/dist-packages (from optuna) (2.0.2)\n",
            "Requirement already satisfied: packaging>=20.0 in /usr/local/lib/python3.12/dist-packages (from optuna) (25.0)\n",
            "Requirement already satisfied: sqlalchemy>=1.4.2 in /usr/local/lib/python3.12/dist-packages (from optuna) (2.0.43)\n",
            "Requirement already satisfied: tqdm in /usr/local/lib/python3.12/dist-packages (from optuna) (4.67.1)\n",
            "Requirement already satisfied: PyYAML in /usr/local/lib/python3.12/dist-packages (from optuna) (6.0.2)\n",
            "Requirement already satisfied: Mako in /usr/local/lib/python3.12/dist-packages (from alembic>=1.5.0->optuna) (1.3.10)\n",
            "Requirement already satisfied: typing-extensions>=4.12 in /usr/local/lib/python3.12/dist-packages (from alembic>=1.5.0->optuna) (4.15.0)\n",
            "Requirement already satisfied: greenlet>=1 in /usr/local/lib/python3.12/dist-packages (from sqlalchemy>=1.4.2->optuna) (3.2.4)\n",
            "Requirement already satisfied: MarkupSafe>=0.9.2 in /usr/local/lib/python3.12/dist-packages (from Mako->alembic>=1.5.0->optuna) (3.0.2)\n",
            "Downloading optuna-4.5.0-py3-none-any.whl (400 kB)\n",
            "\u001b[2K   \u001b[90m━━━━━━━━━━━━━━━━━━━━━━━━━━━━━━━━━━━━━━━━\u001b[0m \u001b[32m400.9/400.9 kB\u001b[0m \u001b[31m7.7 MB/s\u001b[0m eta \u001b[36m0:00:00\u001b[0m\n",
            "\u001b[?25hDownloading colorlog-6.9.0-py3-none-any.whl (11 kB)\n",
            "Installing collected packages: colorlog, optuna\n",
            "Successfully installed colorlog-6.9.0 optuna-4.5.0\n"
          ]
        }
      ]
    },
    {
      "cell_type": "code",
      "source": [
        "import optuna\n",
        "from sklearn.pipeline import Pipeline\n",
        "from sklearn.preprocessing import StandardScaler\n",
        "from sklearn.neighbors import KNeighborsRegressor\n",
        "from sklearn.model_selection import cross_val_score\n",
        "from sklearn.metrics import mean_squared_error, make_scorer\n",
        "\n",
        "def objective(trial):\n",
        "    \"\"\"Objective function for Optuna.\"\"\"\n",
        "    n_neighbors = trial.suggest_int('model__n_neighbors', 1, 30)\n",
        "    metric = trial.suggest_categorical('model__metric', ['euclidean', 'manhattan', 'chebyshev', 'minkowski', 'cosine'])\n",
        "    with_mean = trial.suggest_categorical('scaler__with_mean', [True, False])\n",
        "\n",
        "    pipeline = Pipeline([\n",
        "        ('scaler', StandardScaler(with_mean=with_mean)),\n",
        "        ('model', KNeighborsRegressor(n_neighbors=n_neighbors, metric=metric))\n",
        "    ])\n",
        "\n",
        "    # Use cross-validation to evaluate the pipeline\n",
        "    score = cross_val_score(pipeline, X_train, y_train,\n",
        "                            scoring=make_scorer(mean_squared_error, greater_is_better=False),\n",
        "                            cv=5).mean()\n",
        "\n",
        "    # Optuna aims to minimize the objective function, so we return the negative MSE\n",
        "    return score\n",
        "\n",
        "# Create a study object and optimize the objective function\n",
        "study = optuna.create_study(direction='maximize') # Maximize because we are using negative MSE\n",
        "study.optimize(objective, n_trials=50)  # Run 50 trials\n",
        "\n",
        "# Print the best parameters and best score\n",
        "print(\"Best parameters found by Optuna:\")\n",
        "print(study.best_params)\n",
        "print(\"Best cross-validation score (negative MSE):\")\n",
        "print(study.best_value)\n",
        "\n",
        "# Evaluate the best model on the test set\n",
        "best_pipeline = Pipeline([\n",
        "    ('scaler', StandardScaler(with_mean=study.best_params['scaler__with_mean'])),\n",
        "    ('model', KNeighborsRegressor(n_neighbors=study.best_params['model__n_neighbors'],\n",
        "                                  metric=study.best_params['model__metric']))\n",
        "])\n",
        "\n",
        "best_pipeline.fit(X_train, y_train)\n",
        "test_mse = mean_squared_error(y_test, best_pipeline.predict(X_test))\n",
        "print(f\"\\nMean Squared Error on the test set using the best model: {test_mse}\")"
      ],
      "metadata": {
        "colab": {
          "base_uri": "https://localhost:8080/"
        },
        "id": "x5C00MbjM3cj",
        "outputId": "a7c0d983-fe47-479e-825f-07a86c4b2ad6"
      },
      "execution_count": 73,
      "outputs": [
        {
          "output_type": "stream",
          "name": "stderr",
          "text": [
            "[I 2025-09-12 13:55:38,485] A new study created in memory with name: no-name-a2ad3a95-4ed8-48e9-ae9c-890cc97a8f55\n",
            "[I 2025-09-12 13:55:42,783] Trial 0 finished with value: -0.36526932042592086 and parameters: {'model__n_neighbors': 8, 'model__metric': 'manhattan', 'scaler__with_mean': True}. Best is trial 0 with value: -0.36526932042592086.\n",
            "[I 2025-09-12 13:55:45,142] Trial 1 finished with value: -0.42779497069815725 and parameters: {'model__n_neighbors': 4, 'model__metric': 'euclidean', 'scaler__with_mean': True}. Best is trial 0 with value: -0.36526932042592086.\n",
            "[I 2025-09-12 13:55:52,994] Trial 2 finished with value: -0.48517416245660294 and parameters: {'model__n_neighbors': 26, 'model__metric': 'cosine', 'scaler__with_mean': False}. Best is trial 0 with value: -0.36526932042592086.\n",
            "[I 2025-09-12 13:55:55,494] Trial 3 finished with value: -0.42516425734794383 and parameters: {'model__n_neighbors': 28, 'model__metric': 'euclidean', 'scaler__with_mean': False}. Best is trial 0 with value: -0.36526932042592086.\n",
            "[I 2025-09-12 13:55:57,090] Trial 4 finished with value: -0.42148723111352837 and parameters: {'model__n_neighbors': 24, 'model__metric': 'euclidean', 'scaler__with_mean': False}. Best is trial 0 with value: -0.36526932042592086.\n",
            "[I 2025-09-12 13:55:58,683] Trial 5 finished with value: -0.4531498409066576 and parameters: {'model__n_neighbors': 2, 'model__metric': 'manhattan', 'scaler__with_mean': False}. Best is trial 0 with value: -0.36526932042592086.\n",
            "[I 2025-09-12 13:56:02,655] Trial 6 finished with value: -0.4845121060431028 and parameters: {'model__n_neighbors': 11, 'model__metric': 'cosine', 'scaler__with_mean': False}. Best is trial 0 with value: -0.36526932042592086.\n",
            "[I 2025-09-12 13:56:05,754] Trial 7 finished with value: -0.3750278890218397 and parameters: {'model__n_neighbors': 21, 'model__metric': 'manhattan', 'scaler__with_mean': False}. Best is trial 0 with value: -0.36526932042592086.\n",
            "[I 2025-09-12 13:56:07,045] Trial 8 finished with value: -0.49390318952923995 and parameters: {'model__n_neighbors': 2, 'model__metric': 'euclidean', 'scaler__with_mean': False}. Best is trial 0 with value: -0.36526932042592086.\n",
            "[I 2025-09-12 13:56:08,793] Trial 9 finished with value: -0.4065041571327496 and parameters: {'model__n_neighbors': 3, 'model__metric': 'manhattan', 'scaler__with_mean': True}. Best is trial 0 with value: -0.36526932042592086.\n",
            "[I 2025-09-12 13:56:09,680] Trial 10 finished with value: -0.45454668197450426 and parameters: {'model__n_neighbors': 12, 'model__metric': 'chebyshev', 'scaler__with_mean': True}. Best is trial 0 with value: -0.36526932042592086.\n",
            "[I 2025-09-12 13:56:12,175] Trial 11 finished with value: -0.3734140703013645 and parameters: {'model__n_neighbors': 19, 'model__metric': 'manhattan', 'scaler__with_mean': True}. Best is trial 0 with value: -0.36526932042592086.\n",
            "[I 2025-09-12 13:56:13,747] Trial 12 finished with value: -0.4152017956279951 and parameters: {'model__n_neighbors': 18, 'model__metric': 'minkowski', 'scaler__with_mean': True}. Best is trial 0 with value: -0.36526932042592086.\n",
            "[I 2025-09-12 13:56:16,971] Trial 13 finished with value: -0.36529314224767884 and parameters: {'model__n_neighbors': 9, 'model__metric': 'manhattan', 'scaler__with_mean': True}. Best is trial 0 with value: -0.36526932042592086.\n",
            "[I 2025-09-12 13:56:19,160] Trial 14 finished with value: -0.36529314224767884 and parameters: {'model__n_neighbors': 9, 'model__metric': 'manhattan', 'scaler__with_mean': True}. Best is trial 0 with value: -0.36526932042592086.\n",
            "[I 2025-09-12 13:56:20,340] Trial 15 finished with value: -0.41265414494769476 and parameters: {'model__n_neighbors': 7, 'model__metric': 'minkowski', 'scaler__with_mean': True}. Best is trial 0 with value: -0.36526932042592086.\n",
            "[I 2025-09-12 13:56:21,266] Trial 16 finished with value: -0.45639628415738187 and parameters: {'model__n_neighbors': 14, 'model__metric': 'chebyshev', 'scaler__with_mean': True}. Best is trial 0 with value: -0.36526932042592086.\n",
            "[I 2025-09-12 13:56:23,369] Trial 17 finished with value: -0.36526932042592086 and parameters: {'model__n_neighbors': 8, 'model__metric': 'manhattan', 'scaler__with_mean': True}. Best is trial 0 with value: -0.36526932042592086.\n",
            "[I 2025-09-12 13:56:25,411] Trial 18 finished with value: -0.3665874208396355 and parameters: {'model__n_neighbors': 7, 'model__metric': 'manhattan', 'scaler__with_mean': True}. Best is trial 0 with value: -0.36526932042592086.\n",
            "[I 2025-09-12 13:56:28,942] Trial 19 finished with value: -0.36971949982722474 and parameters: {'model__n_neighbors': 15, 'model__metric': 'manhattan', 'scaler__with_mean': True}. Best is trial 0 with value: -0.36526932042592086.\n",
            "[I 2025-09-12 13:56:30,093] Trial 20 finished with value: -0.41525468117464487 and parameters: {'model__n_neighbors': 6, 'model__metric': 'minkowski', 'scaler__with_mean': True}. Best is trial 0 with value: -0.36526932042592086.\n",
            "[I 2025-09-12 13:56:32,305] Trial 21 finished with value: -0.365956528041906 and parameters: {'model__n_neighbors': 10, 'model__metric': 'manhattan', 'scaler__with_mean': True}. Best is trial 0 with value: -0.36526932042592086.\n",
            "[I 2025-09-12 13:56:34,414] Trial 22 finished with value: -0.36526932042592086 and parameters: {'model__n_neighbors': 8, 'model__metric': 'manhattan', 'scaler__with_mean': True}. Best is trial 0 with value: -0.36526932042592086.\n",
            "[I 2025-09-12 13:56:36,375] Trial 23 finished with value: -0.37196844963376124 and parameters: {'model__n_neighbors': 5, 'model__metric': 'manhattan', 'scaler__with_mean': True}. Best is trial 0 with value: -0.36526932042592086.\n",
            "[I 2025-09-12 13:56:37,331] Trial 24 finished with value: -0.4550795340149275 and parameters: {'model__n_neighbors': 13, 'model__metric': 'chebyshev', 'scaler__with_mean': True}. Best is trial 0 with value: -0.36526932042592086.\n",
            "[I 2025-09-12 13:56:41,565] Trial 25 finished with value: -0.42978807538249686 and parameters: {'model__n_neighbors': 8, 'model__metric': 'cosine', 'scaler__with_mean': True}. Best is trial 0 with value: -0.36526932042592086.\n",
            "[I 2025-09-12 13:56:44,059] Trial 26 finished with value: -0.3714207157909233 and parameters: {'model__n_neighbors': 17, 'model__metric': 'manhattan', 'scaler__with_mean': True}. Best is trial 0 with value: -0.36526932042592086.\n",
            "[I 2025-09-12 13:56:45,425] Trial 27 finished with value: -0.5843197455818006 and parameters: {'model__n_neighbors': 1, 'model__metric': 'manhattan', 'scaler__with_mean': True}. Best is trial 0 with value: -0.36526932042592086.\n",
            "[I 2025-09-12 13:56:47,655] Trial 28 finished with value: -0.36663258552542377 and parameters: {'model__n_neighbors': 11, 'model__metric': 'manhattan', 'scaler__with_mean': True}. Best is trial 0 with value: -0.36526932042592086.\n",
            "[I 2025-09-12 13:56:49,502] Trial 29 finished with value: -0.38531588479856094 and parameters: {'model__n_neighbors': 4, 'model__metric': 'manhattan', 'scaler__with_mean': True}. Best is trial 0 with value: -0.36526932042592086.\n",
            "[I 2025-09-12 13:56:50,203] Trial 30 finished with value: -0.46860644519556327 and parameters: {'model__n_neighbors': 5, 'model__metric': 'chebyshev', 'scaler__with_mean': True}. Best is trial 0 with value: -0.36526932042592086.\n",
            "[I 2025-09-12 13:56:53,058] Trial 31 finished with value: -0.36529314224767884 and parameters: {'model__n_neighbors': 9, 'model__metric': 'manhattan', 'scaler__with_mean': True}. Best is trial 0 with value: -0.36526932042592086.\n",
            "[I 2025-09-12 13:56:55,654] Trial 32 finished with value: -0.36529314224767884 and parameters: {'model__n_neighbors': 9, 'model__metric': 'manhattan', 'scaler__with_mean': True}. Best is trial 0 with value: -0.36526932042592086.\n",
            "[I 2025-09-12 13:56:59,160] Trial 33 finished with value: -0.430001663227752 and parameters: {'model__n_neighbors': 7, 'model__metric': 'cosine', 'scaler__with_mean': True}. Best is trial 0 with value: -0.36526932042592086.\n",
            "[I 2025-09-12 13:57:01,558] Trial 34 finished with value: -0.4124265155850521 and parameters: {'model__n_neighbors': 12, 'model__metric': 'euclidean', 'scaler__with_mean': True}. Best is trial 0 with value: -0.36526932042592086.\n",
            "[I 2025-09-12 13:57:08,656] Trial 35 finished with value: -0.3817691206316144 and parameters: {'model__n_neighbors': 29, 'model__metric': 'manhattan', 'scaler__with_mean': False}. Best is trial 0 with value: -0.36526932042592086.\n",
            "[I 2025-09-12 13:57:11,110] Trial 36 finished with value: -0.37030261611313425 and parameters: {'model__n_neighbors': 16, 'model__metric': 'manhattan', 'scaler__with_mean': True}. Best is trial 0 with value: -0.36526932042592086.\n",
            "[I 2025-09-12 13:57:12,227] Trial 37 finished with value: -0.41956724485832114 and parameters: {'model__n_neighbors': 5, 'model__metric': 'euclidean', 'scaler__with_mean': False}. Best is trial 0 with value: -0.36526932042592086.\n",
            "[I 2025-09-12 13:57:15,770] Trial 38 finished with value: -0.42692936542096627 and parameters: {'model__n_neighbors': 10, 'model__metric': 'cosine', 'scaler__with_mean': True}. Best is trial 0 with value: -0.36526932042592086.\n",
            "[I 2025-09-12 13:57:19,444] Trial 39 finished with value: -0.3791557608044438 and parameters: {'model__n_neighbors': 26, 'model__metric': 'manhattan', 'scaler__with_mean': False}. Best is trial 0 with value: -0.36526932042592086.\n",
            "[I 2025-09-12 13:57:20,612] Trial 40 finished with value: -0.4483387596640246 and parameters: {'model__n_neighbors': 3, 'model__metric': 'minkowski', 'scaler__with_mean': True}. Best is trial 0 with value: -0.36526932042592086.\n",
            "[I 2025-09-12 13:57:22,778] Trial 41 finished with value: -0.36529314224767884 and parameters: {'model__n_neighbors': 9, 'model__metric': 'manhattan', 'scaler__with_mean': True}. Best is trial 0 with value: -0.36526932042592086.\n",
            "[I 2025-09-12 13:57:25,042] Trial 42 finished with value: -0.36663258552542377 and parameters: {'model__n_neighbors': 11, 'model__metric': 'manhattan', 'scaler__with_mean': True}. Best is trial 0 with value: -0.36526932042592086.\n",
            "[I 2025-09-12 13:57:27,141] Trial 43 finished with value: -0.36526932042592086 and parameters: {'model__n_neighbors': 8, 'model__metric': 'manhattan', 'scaler__with_mean': True}. Best is trial 0 with value: -0.36526932042592086.\n",
            "[I 2025-09-12 13:57:29,262] Trial 44 finished with value: -0.3665874208396355 and parameters: {'model__n_neighbors': 7, 'model__metric': 'manhattan', 'scaler__with_mean': True}. Best is trial 0 with value: -0.36526932042592086.\n",
            "[I 2025-09-12 13:57:32,719] Trial 45 finished with value: -0.36929661109869444 and parameters: {'model__n_neighbors': 13, 'model__metric': 'manhattan', 'scaler__with_mean': False}. Best is trial 0 with value: -0.36526932042592086.\n",
            "[I 2025-09-12 13:57:34,281] Trial 46 finished with value: -0.4191703232522655 and parameters: {'model__n_neighbors': 22, 'model__metric': 'euclidean', 'scaler__with_mean': True}. Best is trial 0 with value: -0.36526932042592086.\n",
            "[I 2025-09-12 13:57:36,101] Trial 47 finished with value: -0.4065041571327496 and parameters: {'model__n_neighbors': 3, 'model__metric': 'manhattan', 'scaler__with_mean': True}. Best is trial 0 with value: -0.36526932042592086.\n",
            "[I 2025-09-12 13:57:38,427] Trial 48 finished with value: -0.36526932042592086 and parameters: {'model__n_neighbors': 8, 'model__metric': 'manhattan', 'scaler__with_mean': True}. Best is trial 0 with value: -0.36526932042592086.\n",
            "[I 2025-09-12 13:57:40,531] Trial 49 finished with value: -0.3678785180429028 and parameters: {'model__n_neighbors': 6, 'model__metric': 'manhattan', 'scaler__with_mean': False}. Best is trial 0 with value: -0.36526932042592086.\n"
          ]
        },
        {
          "output_type": "stream",
          "name": "stdout",
          "text": [
            "Best parameters found by Optuna:\n",
            "{'model__n_neighbors': 8, 'model__metric': 'manhattan', 'scaler__with_mean': True}\n",
            "Best cross-validation score (negative MSE):\n",
            "-0.36526932042592086\n",
            "\n",
            "Mean Squared Error on the test set using the best model: 0.37135357178794626\n"
          ]
        }
      ]
    },
    {
      "cell_type": "code",
      "source": [
        "pipeline = Pipeline([('scaler', StandardScaler(with_mean=True)),\n",
        "                     ('model', KNeighborsRegressor(n_neighbors=8, metric='manhattan'))])\n",
        "pipeline.fit(X_train, y_train)\n",
        "print(mean_squared_error(y_test, pipeline.predict(X_test)))"
      ],
      "metadata": {
        "colab": {
          "base_uri": "https://localhost:8080/"
        },
        "id": "PZRqfBDyPSMb",
        "outputId": "ed2bf51c-6202-4262-8147-006fbc871cd1"
      },
      "execution_count": 75,
      "outputs": [
        {
          "output_type": "stream",
          "name": "stdout",
          "text": [
            "0.37135357178794626\n"
          ]
        }
      ]
    }
  ]
}