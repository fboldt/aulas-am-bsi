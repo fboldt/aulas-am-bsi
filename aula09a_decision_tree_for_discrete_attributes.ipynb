{
  "nbformat": 4,
  "nbformat_minor": 0,
  "metadata": {
    "colab": {
      "provenance": [],
      "authorship_tag": "ABX9TyMm2lv/Xkn5uv9OTN9j5Ued",
      "include_colab_link": true
    },
    "kernelspec": {
      "name": "python3",
      "display_name": "Python 3"
    },
    "language_info": {
      "name": "python"
    }
  },
  "cells": [
    {
      "cell_type": "markdown",
      "metadata": {
        "id": "view-in-github",
        "colab_type": "text"
      },
      "source": [
        "<a href=\"https://colab.research.google.com/github/fboldt/aulas-am-bsi/blob/main/aula09a_decision_tree_for_discrete_attributes.ipynb\" target=\"_parent\"><img src=\"https://colab.research.google.com/assets/colab-badge.svg\" alt=\"Open In Colab\"/></a>"
      ]
    },
    {
      "cell_type": "code",
      "execution_count": 1,
      "metadata": {
        "colab": {
          "base_uri": "https://localhost:8080/"
        },
        "id": "FeFGr5Y_Pcdz",
        "outputId": "6256ef30-10de-4eac-dd13-1d6ec2af0cb5"
      },
      "outputs": [
        {
          "output_type": "stream",
          "name": "stdout",
          "text": [
            "Collecting ucimlrepo\n",
            "  Downloading ucimlrepo-0.0.7-py3-none-any.whl.metadata (5.5 kB)\n",
            "Requirement already satisfied: pandas>=1.0.0 in /usr/local/lib/python3.12/dist-packages (from ucimlrepo) (2.2.2)\n",
            "Requirement already satisfied: certifi>=2020.12.5 in /usr/local/lib/python3.12/dist-packages (from ucimlrepo) (2025.8.3)\n",
            "Requirement already satisfied: numpy>=1.26.0 in /usr/local/lib/python3.12/dist-packages (from pandas>=1.0.0->ucimlrepo) (2.0.2)\n",
            "Requirement already satisfied: python-dateutil>=2.8.2 in /usr/local/lib/python3.12/dist-packages (from pandas>=1.0.0->ucimlrepo) (2.9.0.post0)\n",
            "Requirement already satisfied: pytz>=2020.1 in /usr/local/lib/python3.12/dist-packages (from pandas>=1.0.0->ucimlrepo) (2025.2)\n",
            "Requirement already satisfied: tzdata>=2022.7 in /usr/local/lib/python3.12/dist-packages (from pandas>=1.0.0->ucimlrepo) (2025.2)\n",
            "Requirement already satisfied: six>=1.5 in /usr/local/lib/python3.12/dist-packages (from python-dateutil>=2.8.2->pandas>=1.0.0->ucimlrepo) (1.17.0)\n",
            "Downloading ucimlrepo-0.0.7-py3-none-any.whl (8.0 kB)\n",
            "Installing collected packages: ucimlrepo\n",
            "Successfully installed ucimlrepo-0.0.7\n"
          ]
        }
      ],
      "source": [
        "!pip install ucimlrepo"
      ]
    },
    {
      "cell_type": "code",
      "source": [
        "from ucimlrepo import fetch_ucirepo\n",
        "\n",
        "car_evaluation = fetch_ucirepo(id=19)\n",
        "\n",
        "X = car_evaluation.data.features.to_numpy()\n",
        "y = car_evaluation.data.targets.to_numpy()[:,0]\n",
        "\n",
        "print(car_evaluation.variables)"
      ],
      "metadata": {
        "colab": {
          "base_uri": "https://localhost:8080/"
        },
        "id": "BERf-4LdPzJu",
        "outputId": "d2896334-7dfb-4621-b271-bf374e0d8920"
      },
      "execution_count": 2,
      "outputs": [
        {
          "output_type": "stream",
          "name": "stdout",
          "text": [
            "       name     role         type demographic  \\\n",
            "0    buying  Feature  Categorical        None   \n",
            "1     maint  Feature  Categorical        None   \n",
            "2     doors  Feature  Categorical        None   \n",
            "3   persons  Feature  Categorical        None   \n",
            "4  lug_boot  Feature  Categorical        None   \n",
            "5    safety  Feature  Categorical        None   \n",
            "6     class   Target  Categorical        None   \n",
            "\n",
            "                                         description units missing_values  \n",
            "0                                       buying price  None             no  \n",
            "1                           price of the maintenance  None             no  \n",
            "2                                    number of doors  None             no  \n",
            "3              capacity in terms of persons to carry  None             no  \n",
            "4                           the size of luggage boot  None             no  \n",
            "5                        estimated safety of the car  None             no  \n",
            "6  evaulation level (unacceptable, acceptable, go...  None             no  \n"
          ]
        }
      ]
    },
    {
      "cell_type": "code",
      "source": [
        "from sklearn.model_selection import train_test_split\n",
        "\n",
        "X_train, X_test, y_train, y_test = train_test_split(X, y, test_size=0.2, random_state=42, stratify=y)"
      ],
      "metadata": {
        "id": "pqfQv1c1Qawp"
      },
      "execution_count": 4,
      "outputs": []
    },
    {
      "cell_type": "code",
      "source": [
        "set(y)"
      ],
      "metadata": {
        "colab": {
          "base_uri": "https://localhost:8080/"
        },
        "id": "DKANdFGERJlc",
        "outputId": "e81e0415-a0c2-462e-a974-cd39896adf95"
      },
      "execution_count": 5,
      "outputs": [
        {
          "output_type": "execute_result",
          "data": {
            "text/plain": [
              "{'acc', 'good', 'unacc', 'vgood'}"
            ]
          },
          "metadata": {},
          "execution_count": 5
        }
      ]
    },
    {
      "cell_type": "code",
      "source": [
        "len(y)"
      ],
      "metadata": {
        "colab": {
          "base_uri": "https://localhost:8080/"
        },
        "id": "UOLYUmj9RM97",
        "outputId": "15b822b3-912e-4a90-d2f6-56a6a51799b7"
      },
      "execution_count": 6,
      "outputs": [
        {
          "output_type": "execute_result",
          "data": {
            "text/plain": [
              "1728"
            ]
          },
          "metadata": {},
          "execution_count": 6
        }
      ]
    },
    {
      "cell_type": "code",
      "source": [
        "combinations = 1\n",
        "for i in range(X.shape[1]):\n",
        "  values = set(X[:,i])\n",
        "  combinations *= len(values)\n",
        "  print(f\"{i}: {car_evaluation.variables['name'][i]}:\\t{values}\")\n",
        "print(combinations)"
      ],
      "metadata": {
        "colab": {
          "base_uri": "https://localhost:8080/"
        },
        "id": "R23rIqfRRknz",
        "outputId": "da0f8ec1-faf8-48db-faa4-7a7d9d85c3cb"
      },
      "execution_count": 7,
      "outputs": [
        {
          "output_type": "stream",
          "name": "stdout",
          "text": [
            "0: buying:\t{'vhigh', 'med', 'high', 'low'}\n",
            "1: maint:\t{'vhigh', 'med', 'high', 'low'}\n",
            "2: doors:\t{'4', '3', '5more', '2'}\n",
            "3: persons:\t{'more', '4', '2'}\n",
            "4: lug_boot:\t{'small', 'med', 'big'}\n",
            "5: safety:\t{'high', 'med', 'low'}\n",
            "1728\n"
          ]
        }
      ]
    },
    {
      "cell_type": "code",
      "source": [
        "from sklearn.base import BaseEstimator, ClassifierMixin\n",
        "from sklearn.metrics import accuracy_score\n",
        "from collections import Counter\n",
        "\n",
        "def most_common(lst):\n",
        "  data = Counter(lst)\n",
        "  return data.most_common(1)[0][0]\n",
        "\n",
        "class ZeroR(BaseEstimator, ClassifierMixin):\n",
        "    def fit(self, X, y):\n",
        "      self.answer = most_common(y)\n",
        "      return self\n",
        "    def predict(self, X):\n",
        "      return [self.answer] * len(X)\n",
        "\n",
        "model = ZeroR()\n",
        "model.fit(X, y)\n",
        "ypred = model.predict(X)\n",
        "print(accuracy_score(y, ypred))"
      ],
      "metadata": {
        "colab": {
          "base_uri": "https://localhost:8080/"
        },
        "id": "ZqL8UKhbSuDz",
        "outputId": "2cf5a75d-3584-448f-842a-8526fe43e2ed"
      },
      "execution_count": 12,
      "outputs": [
        {
          "output_type": "stream",
          "name": "stdout",
          "text": [
            "0.7002314814814815\n"
          ]
        }
      ]
    },
    {
      "cell_type": "code",
      "source": [
        "model.answer"
      ],
      "metadata": {
        "colab": {
          "base_uri": "https://localhost:8080/",
          "height": 35
        },
        "id": "a10ENZRMUBFS",
        "outputId": "6a7f0f01-921d-4c26-eba1-82a74a96b3c7"
      },
      "execution_count": 13,
      "outputs": [
        {
          "output_type": "execute_result",
          "data": {
            "text/plain": [
              "'unacc'"
            ],
            "application/vnd.google.colaboratory.intrinsic+json": {
              "type": "string"
            }
          },
          "metadata": {},
          "execution_count": 13
        }
      ]
    },
    {
      "cell_type": "code",
      "source": [
        "model = ZeroR()\n",
        "model.fit(X_train, y_train)\n",
        "ypred = model.predict(X_test)\n",
        "print(accuracy_score(y_test, ypred))"
      ],
      "metadata": {
        "colab": {
          "base_uri": "https://localhost:8080/"
        },
        "id": "ChDCyk20UH5a",
        "outputId": "5949970b-bb57-4153-dcbf-cdc36a69310f"
      },
      "execution_count": 14,
      "outputs": [
        {
          "output_type": "stream",
          "name": "stdout",
          "text": [
            "0.6994219653179191\n"
          ]
        }
      ]
    },
    {
      "cell_type": "code",
      "source": [
        "import numpy as np\n",
        "\n",
        "# apenas uma característica\n",
        "class DecisionTree(BaseEstimator, ClassifierMixin):\n",
        "  def __init__(self, feature=0):\n",
        "    self.feature = feature\n",
        "\n",
        "  def fit(self, X, y):\n",
        "    self.value = list(set(X[:,self.feature]))[0]\n",
        "    equals = X[:,self.feature] == self.value\n",
        "    if sum(equals)>0 and sum(~equals)>0:\n",
        "      self.equals = DecisionTree(self.feature).fit(X[equals], y[equals])\n",
        "      self.not_equals = DecisionTree(self.feature).fit(X[~equals], y[~equals])\n",
        "    else:\n",
        "      self.answer = most_common(y[equals])\n",
        "      self.n_samples = len(y)\n",
        "    return self\n",
        "\n",
        "  def predict(self, X):\n",
        "    if hasattr(self, 'answer'):\n",
        "      return [self.answer] * len(X)\n",
        "    else:\n",
        "      equals = X[:,self.feature] == self.value\n",
        "    return np.where(equals, self.equals.predict(X), self.not_equals.predict(X))\n",
        "\n",
        "model = DecisionTree()\n",
        "model.fit(X_train, y_train)\n",
        "ypred = model.predict(X_test)\n",
        "print(accuracy_score(y_test, ypred))"
      ],
      "metadata": {
        "colab": {
          "base_uri": "https://localhost:8080/"
        },
        "id": "BDMFul1JUPsA",
        "outputId": "888cedec-9e8e-4e7a-bf34-412542db7441"
      },
      "execution_count": 55,
      "outputs": [
        {
          "output_type": "stream",
          "name": "stdout",
          "text": [
            "0.6994219653179191\n"
          ]
        }
      ]
    },
    {
      "cell_type": "code",
      "source": [
        "model = DecisionTree(1)\n",
        "model.fit(X_train, y_train)\n",
        "ypred = model.predict(X_test)\n",
        "print(accuracy_score(y_test, ypred))"
      ],
      "metadata": {
        "colab": {
          "base_uri": "https://localhost:8080/"
        },
        "id": "6giUDOAoXjlI",
        "outputId": "06d7afaa-c067-45c6-fd23-8b09b063bfbf"
      },
      "execution_count": 56,
      "outputs": [
        {
          "output_type": "stream",
          "name": "stdout",
          "text": [
            "0.6994219653179191\n"
          ]
        }
      ]
    },
    {
      "cell_type": "code",
      "source": [
        "def print_tree(tree, depth=0):\n",
        "  if hasattr(tree, 'answer'):\n",
        "    print('\\t' * depth, f\"answer: {tree.answer} ({tree.n_samples})\")\n",
        "  else:\n",
        "    print('\\t' * depth, f\"value: {tree.value}\")\n",
        "    print_tree(tree.equals, depth+1)\n",
        "    print_tree(tree.not_equals, depth+1)\n",
        "\n",
        "print_tree(model)"
      ],
      "metadata": {
        "colab": {
          "base_uri": "https://localhost:8080/"
        },
        "id": "PX9ope4SXnbo",
        "outputId": "d6b38c91-50c0-474b-ef20-8098b3d3f2fb"
      },
      "execution_count": 57,
      "outputs": [
        {
          "output_type": "stream",
          "name": "stdout",
          "text": [
            " value: high\n",
            "\t answer: unacc (343)\n",
            "\t value: vhigh\n",
            "\t\t answer: unacc (327)\n",
            "\t\t value: med\n",
            "\t\t\t answer: unacc (356)\n",
            "\t\t\t answer: unacc (356)\n"
          ]
        }
      ]
    },
    {
      "cell_type": "code",
      "source": [
        "def gini(y):\n",
        "  label = np.unique(y)\n",
        "  aux = 0\n",
        "  for l in label:\n",
        "    p = np.sum(y==l)/len(y)\n",
        "    aux += p**2\n",
        "  return 1-aux\n",
        "\n",
        "print(gini(y_train))"
      ],
      "metadata": {
        "colab": {
          "base_uri": "https://localhost:8080/"
        },
        "id": "C5wQhWxFYV44",
        "outputId": "7b189122-8003-4199-8d78-4d1d9ef16a73"
      },
      "execution_count": 27,
      "outputs": [
        {
          "output_type": "stream",
          "name": "stdout",
          "text": [
            "0.4570454112310227\n"
          ]
        }
      ]
    },
    {
      "cell_type": "code",
      "source": [
        "print(gini(np.ones(10)))"
      ],
      "metadata": {
        "colab": {
          "base_uri": "https://localhost:8080/"
        },
        "id": "QUgteYnwZbZf",
        "outputId": "31ef5592-ebd9-4d1b-ffc3-a64afb87dbd0"
      },
      "execution_count": 28,
      "outputs": [
        {
          "output_type": "stream",
          "name": "stdout",
          "text": [
            "0.0\n"
          ]
        }
      ]
    },
    {
      "cell_type": "code",
      "source": [
        "def impurity_value(y, x, value, impurity_function=gini):\n",
        "  equals = x == value\n",
        "  imp_equals = impurity_function(y[equals])\n",
        "  imp_not_equals = impurity_function(y[~equals])\n",
        "  return len(y[equals])/len(y)*imp_equals + len(y[~equals])/len(y)*imp_not_equals\n",
        "\n",
        "print(impurity_value(y_train, X_train[:,0], 'vhigh'))"
      ],
      "metadata": {
        "colab": {
          "base_uri": "https://localhost:8080/"
        },
        "id": "8rPAAnVpZlwn",
        "outputId": "b7e99470-ab40-4fa5-8c4b-2a9a03297b38"
      },
      "execution_count": 35,
      "outputs": [
        {
          "output_type": "stream",
          "name": "stdout",
          "text": [
            "0.4482135562918824\n"
          ]
        }
      ]
    },
    {
      "cell_type": "code",
      "source": [
        "def best_split(y, x, impurity_function=gini):\n",
        "  best_value = None\n",
        "  best_impurity = 1\n",
        "  for value in set(x):\n",
        "    impurity = impurity_value(y, x, value, impurity_function)\n",
        "    if impurity < best_impurity:\n",
        "      best_impurity = impurity\n",
        "      best_value = value\n",
        "  return best_value, best_impurity\n",
        "\n",
        "print(best_split(y_train, X_train[:,0]))"
      ],
      "metadata": {
        "colab": {
          "base_uri": "https://localhost:8080/"
        },
        "id": "cG09SOZ9ajYv",
        "outputId": "1a6b43cb-528e-4c5a-a7b6-83b091880e91"
      },
      "execution_count": 36,
      "outputs": [
        {
          "output_type": "stream",
          "name": "stdout",
          "text": [
            "('vhigh', np.float64(0.4482135562918824))\n"
          ]
        }
      ]
    },
    {
      "cell_type": "code",
      "source": [
        "def best_feature(y, X, impurity_function=gini):\n",
        "  best_feature = None\n",
        "  best_value = None\n",
        "  best_impurity = 1\n",
        "  for feature in range(X.shape[1]):\n",
        "    value, impurity = best_split(y, X[:,feature], impurity_function)\n",
        "    if impurity < best_impurity:\n",
        "      best_impurity = impurity\n",
        "      best_feature = feature\n",
        "      best_value = value\n",
        "  return best_feature, best_value, best_impurity\n",
        "\n",
        "print(best_feature(y_train, X_train))"
      ],
      "metadata": {
        "colab": {
          "base_uri": "https://localhost:8080/"
        },
        "id": "qZkQyiSEa6W_",
        "outputId": "e8192444-9d6f-462e-a84f-97d3afc0d0d5"
      },
      "execution_count": 38,
      "outputs": [
        {
          "output_type": "stream",
          "name": "stdout",
          "text": [
            "(5, 'low', np.float64(0.38499511557696947))\n"
          ]
        }
      ]
    },
    {
      "cell_type": "code",
      "source": [
        "class DecisionTree(BaseEstimator, ClassifierMixin):\n",
        "  def fit(self, X, y):\n",
        "    self.feature, self.value, self.impurity = best_feature(y, X)\n",
        "    equals = X[:,self.feature] == self.value\n",
        "    if sum(equals)>0 and sum(~equals)>0:\n",
        "      self.equals = DecisionTree().fit(X[equals], y[equals])\n",
        "      self.not_equals = DecisionTree().fit(X[~equals], y[~equals])\n",
        "    else:\n",
        "      self.answer = most_common(y[equals])\n",
        "      self.n_samples = len(y)\n",
        "    return self\n",
        "\n",
        "  def predict(self, X):\n",
        "    if hasattr(self, 'answer'):\n",
        "      return [self.answer] * len(X)\n",
        "    else:\n",
        "      equals = X[:,self.feature] == self.value\n",
        "    return np.where(equals, self.equals.predict(X), self.not_equals.predict(X))\n",
        "\n",
        "model = DecisionTree()\n",
        "model.fit(X_train, y_train)\n",
        "ypred = model.predict(X_test)\n",
        "print(accuracy_score(y_test, ypred))"
      ],
      "metadata": {
        "colab": {
          "base_uri": "https://localhost:8080/"
        },
        "id": "z6Esxt2bbRHP",
        "outputId": "60ad589f-40c7-4bf9-db62-3789acbc7507"
      },
      "execution_count": 58,
      "outputs": [
        {
          "output_type": "stream",
          "name": "stdout",
          "text": [
            "0.9739884393063584\n"
          ]
        }
      ]
    },
    {
      "cell_type": "code",
      "source": [
        "print_tree(model)"
      ],
      "metadata": {
        "colab": {
          "base_uri": "https://localhost:8080/"
        },
        "id": "uNgJw3VMb1rv",
        "outputId": "99f3cfcf-3932-48df-8458-a1dda0eac409"
      },
      "execution_count": 59,
      "outputs": [
        {
          "output_type": "stream",
          "name": "stdout",
          "text": [
            " value: low\n",
            "\t value: high\n",
            "\t\t answer: unacc (123)\n",
            "\t\t value: vhigh\n",
            "\t\t\t answer: unacc (124)\n",
            "\t\t\t value: med\n",
            "\t\t\t\t answer: unacc (106)\n",
            "\t\t\t\t answer: unacc (112)\n",
            "\t value: 2\n",
            "\t\t value: vhigh\n",
            "\t\t\t answer: unacc (78)\n",
            "\t\t\t value: high\n",
            "\t\t\t\t answer: unacc (79)\n",
            "\t\t\t\t value: med\n",
            "\t\t\t\t\t answer: unacc (71)\n",
            "\t\t\t\t\t answer: unacc (74)\n",
            "\t\t value: vhigh\n",
            "\t\t\t value: med\n",
            "\t\t\t\t value: small\n",
            "\t\t\t\t\t value: high\n",
            "\t\t\t\t\t\t value: 2\n",
            "\t\t\t\t\t\t\t value: more\n",
            "\t\t\t\t\t\t\t\t answer: unacc (1)\n",
            "\t\t\t\t\t\t\t\t answer: acc (1)\n",
            "\t\t\t\t\t\t\t answer: acc (5)\n",
            "\t\t\t\t\t\t answer: unacc (6)\n",
            "\t\t\t\t\t value: med\n",
            "\t\t\t\t\t\t value: 2\n",
            "\t\t\t\t\t\t\t value: more\n",
            "\t\t\t\t\t\t\t\t answer: acc (1)\n",
            "\t\t\t\t\t\t\t\t answer: unacc (1)\n",
            "\t\t\t\t\t\t\t value: 3\n",
            "\t\t\t\t\t\t\t\t value: more\n",
            "\t\t\t\t\t\t\t\t\t answer: acc (1)\n",
            "\t\t\t\t\t\t\t\t\t value: high\n",
            "\t\t\t\t\t\t\t\t\t\t answer: acc (1)\n",
            "\t\t\t\t\t\t\t\t\t\t answer: unacc (1)\n",
            "\t\t\t\t\t\t\t\t answer: acc (8)\n",
            "\t\t\t\t\t\t answer: acc (14)\n",
            "\t\t\t\t value: low\n",
            "\t\t\t\t\t value: high\n",
            "\t\t\t\t\t\t value: 2\n",
            "\t\t\t\t\t\t\t value: small\n",
            "\t\t\t\t\t\t\t\t value: more\n",
            "\t\t\t\t\t\t\t\t\t answer: unacc (1)\n",
            "\t\t\t\t\t\t\t\t\t answer: acc (1)\n",
            "\t\t\t\t\t\t\t\t answer: acc (4)\n",
            "\t\t\t\t\t\t\t answer: acc (13)\n",
            "\t\t\t\t\t\t value: big\n",
            "\t\t\t\t\t\t\t answer: acc (7)\n",
            "\t\t\t\t\t\t\t value: 5more\n",
            "\t\t\t\t\t\t\t\t value: small\n",
            "\t\t\t\t\t\t\t\t\t answer: unacc (1)\n",
            "\t\t\t\t\t\t\t\t\t answer: acc (2)\n",
            "\t\t\t\t\t\t\t\t answer: unacc (8)\n",
            "\t\t\t\t\t answer: unacc (78)\n",
            "\t\t\t value: high\n",
            "\t\t\t\t value: vhigh\n",
            "\t\t\t\t\t answer: unacc (35)\n",
            "\t\t\t\t\t value: small\n",
            "\t\t\t\t\t\t value: high\n",
            "\t\t\t\t\t\t\t value: 2\n",
            "\t\t\t\t\t\t\t\t value: more\n",
            "\t\t\t\t\t\t\t\t\t answer: unacc (3)\n",
            "\t\t\t\t\t\t\t\t\t answer: acc (3)\n",
            "\t\t\t\t\t\t\t\t answer: acc (14)\n",
            "\t\t\t\t\t\t\t answer: unacc (21)\n",
            "\t\t\t\t\t\t value: 2\n",
            "\t\t\t\t\t\t\t value: high\n",
            "\t\t\t\t\t\t\t\t answer: acc (12)\n",
            "\t\t\t\t\t\t\t\t value: med\n",
            "\t\t\t\t\t\t\t\t\t answer: unacc (6)\n",
            "\t\t\t\t\t\t\t\t\t answer: acc (5)\n",
            "\t\t\t\t\t\t\t value: 3\n",
            "\t\t\t\t\t\t\t\t value: med\n",
            "\t\t\t\t\t\t\t\t\t value: more\n",
            "\t\t\t\t\t\t\t\t\t\t answer: acc (5)\n",
            "\t\t\t\t\t\t\t\t\t\t value: high\n",
            "\t\t\t\t\t\t\t\t\t\t\t answer: acc (2)\n",
            "\t\t\t\t\t\t\t\t\t\t\t answer: unacc (2)\n",
            "\t\t\t\t\t\t\t\t\t answer: acc (11)\n",
            "\t\t\t\t\t\t\t\t answer: acc (38)\n",
            "\t\t\t\t value: low\n",
            "\t\t\t\t\t value: high\n",
            "\t\t\t\t\t\t value: big\n",
            "\t\t\t\t\t\t\t value: med\n",
            "\t\t\t\t\t\t\t\t answer: vgood (7)\n",
            "\t\t\t\t\t\t\t\t answer: vgood (7)\n",
            "\t\t\t\t\t\t\t value: small\n",
            "\t\t\t\t\t\t\t\t value: 2\n",
            "\t\t\t\t\t\t\t\t\t value: more\n",
            "\t\t\t\t\t\t\t\t\t\t value: med\n",
            "\t\t\t\t\t\t\t\t\t\t\t answer: unacc (1)\n",
            "\t\t\t\t\t\t\t\t\t\t\t answer: unacc (1)\n",
            "\t\t\t\t\t\t\t\t\t\t value: med\n",
            "\t\t\t\t\t\t\t\t\t\t\t answer: good (1)\n",
            "\t\t\t\t\t\t\t\t\t\t\t answer: good (1)\n",
            "\t\t\t\t\t\t\t\t\t value: med\n",
            "\t\t\t\t\t\t\t\t\t\t answer: good (4)\n",
            "\t\t\t\t\t\t\t\t\t\t answer: good (3)\n",
            "\t\t\t\t\t\t\t\t value: 2\n",
            "\t\t\t\t\t\t\t\t\t value: med\n",
            "\t\t\t\t\t\t\t\t\t\t answer: good (2)\n",
            "\t\t\t\t\t\t\t\t\t\t answer: good (2)\n",
            "\t\t\t\t\t\t\t\t\t value: 3\n",
            "\t\t\t\t\t\t\t\t\t\t value: more\n",
            "\t\t\t\t\t\t\t\t\t\t\t answer: vgood (1)\n",
            "\t\t\t\t\t\t\t\t\t\t\t value: med\n",
            "\t\t\t\t\t\t\t\t\t\t\t\t answer: good (1)\n",
            "\t\t\t\t\t\t\t\t\t\t\t\t answer: good (1)\n",
            "\t\t\t\t\t\t\t\t\t\t value: med\n",
            "\t\t\t\t\t\t\t\t\t\t\t answer: vgood (3)\n",
            "\t\t\t\t\t\t\t\t\t\t\t answer: vgood (3)\n",
            "\t\t\t\t\t\t value: small\n",
            "\t\t\t\t\t\t\t value: 2\n",
            "\t\t\t\t\t\t\t\t value: more\n",
            "\t\t\t\t\t\t\t\t\t value: med\n",
            "\t\t\t\t\t\t\t\t\t\t answer: unacc (1)\n",
            "\t\t\t\t\t\t\t\t\t\t answer: unacc (1)\n",
            "\t\t\t\t\t\t\t\t\t answer: acc (1)\n",
            "\t\t\t\t\t\t\t\t value: med\n",
            "\t\t\t\t\t\t\t\t\t answer: acc (5)\n",
            "\t\t\t\t\t\t\t\t\t answer: acc (3)\n",
            "\t\t\t\t\t\t\t value: med\n",
            "\t\t\t\t\t\t\t\t value: 2\n",
            "\t\t\t\t\t\t\t\t\t value: med\n",
            "\t\t\t\t\t\t\t\t\t\t answer: acc (2)\n",
            "\t\t\t\t\t\t\t\t\t\t answer: acc (2)\n",
            "\t\t\t\t\t\t\t\t\t value: 3\n",
            "\t\t\t\t\t\t\t\t\t\t value: more\n",
            "\t\t\t\t\t\t\t\t\t\t\t value: med\n",
            "\t\t\t\t\t\t\t\t\t\t\t\t answer: good (1)\n",
            "\t\t\t\t\t\t\t\t\t\t\t\t answer: good (1)\n",
            "\t\t\t\t\t\t\t\t\t\t\t value: med\n",
            "\t\t\t\t\t\t\t\t\t\t\t\t answer: acc (1)\n",
            "\t\t\t\t\t\t\t\t\t\t\t\t answer: acc (1)\n",
            "\t\t\t\t\t\t\t\t\t\t value: med\n",
            "\t\t\t\t\t\t\t\t\t\t\t answer: good (3)\n",
            "\t\t\t\t\t\t\t\t\t\t\t answer: good (3)\n",
            "\t\t\t\t\t\t\t\t value: med\n",
            "\t\t\t\t\t\t\t\t\t answer: good (7)\n",
            "\t\t\t\t\t\t\t\t\t answer: good (6)\n",
            "\t\t\t\t\t value: med\n",
            "\t\t\t\t\t\t value: high\n",
            "\t\t\t\t\t\t\t value: small\n",
            "\t\t\t\t\t\t\t\t value: med\n",
            "\t\t\t\t\t\t\t\t\t value: 2\n",
            "\t\t\t\t\t\t\t\t\t\t value: more\n",
            "\t\t\t\t\t\t\t\t\t\t\t answer: unacc (1)\n",
            "\t\t\t\t\t\t\t\t\t\t\t answer: acc (1)\n",
            "\t\t\t\t\t\t\t\t\t\t answer: acc (5)\n",
            "\t\t\t\t\t\t\t\t\t value: 2\n",
            "\t\t\t\t\t\t\t\t\t\t value: more\n",
            "\t\t\t\t\t\t\t\t\t\t\t answer: unacc (1)\n",
            "\t\t\t\t\t\t\t\t\t\t\t answer: good (1)\n",
            "\t\t\t\t\t\t\t\t\t\t answer: good (6)\n",
            "\t\t\t\t\t\t\t\t value: 2\n",
            "\t\t\t\t\t\t\t\t\t value: med\n",
            "\t\t\t\t\t\t\t\t\t\t value: med\n",
            "\t\t\t\t\t\t\t\t\t\t\t answer: acc (2)\n",
            "\t\t\t\t\t\t\t\t\t\t\t answer: good (2)\n",
            "\t\t\t\t\t\t\t\t\t\t value: med\n",
            "\t\t\t\t\t\t\t\t\t\t\t answer: vgood (2)\n",
            "\t\t\t\t\t\t\t\t\t\t\t answer: vgood (2)\n",
            "\t\t\t\t\t\t\t\t\t value: 3\n",
            "\t\t\t\t\t\t\t\t\t\t value: med\n",
            "\t\t\t\t\t\t\t\t\t\t\t value: more\n",
            "\t\t\t\t\t\t\t\t\t\t\t\t answer: vgood (1)\n",
            "\t\t\t\t\t\t\t\t\t\t\t\t answer: good (1)\n",
            "\t\t\t\t\t\t\t\t\t\t\t value: med\n",
            "\t\t\t\t\t\t\t\t\t\t\t\t answer: vgood (2)\n",
            "\t\t\t\t\t\t\t\t\t\t\t\t answer: vgood (2)\n",
            "\t\t\t\t\t\t\t\t\t\t value: med\n",
            "\t\t\t\t\t\t\t\t\t\t\t answer: vgood (7)\n",
            "\t\t\t\t\t\t\t\t\t\t\t answer: vgood (6)\n",
            "\t\t\t\t\t\t\t value: med\n",
            "\t\t\t\t\t\t\t\t value: 2\n",
            "\t\t\t\t\t\t\t\t\t value: more\n",
            "\t\t\t\t\t\t\t\t\t\t answer: unacc (1)\n",
            "\t\t\t\t\t\t\t\t\t\t answer: acc (2)\n",
            "\t\t\t\t\t\t\t\t\t answer: acc (14)\n",
            "\t\t\t\t\t\t\t\t value: small\n",
            "\t\t\t\t\t\t\t\t\t value: 2\n",
            "\t\t\t\t\t\t\t\t\t\t value: more\n",
            "\t\t\t\t\t\t\t\t\t\t\t answer: unacc (1)\n",
            "\t\t\t\t\t\t\t\t\t\t\t answer: acc (1)\n",
            "\t\t\t\t\t\t\t\t\t\t answer: acc (6)\n",
            "\t\t\t\t\t\t\t\t\t value: 2\n",
            "\t\t\t\t\t\t\t\t\t\t value: med\n",
            "\t\t\t\t\t\t\t\t\t\t\t answer: acc (2)\n",
            "\t\t\t\t\t\t\t\t\t\t\t answer: good (2)\n",
            "\t\t\t\t\t\t\t\t\t\t answer: good (7)\n",
            "\t\t\t\t\t\t value: small\n",
            "\t\t\t\t\t\t\t value: high\n",
            "\t\t\t\t\t\t\t\t value: 2\n",
            "\t\t\t\t\t\t\t\t\t value: more\n",
            "\t\t\t\t\t\t\t\t\t\t value: med\n",
            "\t\t\t\t\t\t\t\t\t\t\t answer: unacc (2)\n",
            "\t\t\t\t\t\t\t\t\t\t\t answer: unacc (2)\n",
            "\t\t\t\t\t\t\t\t\t\t value: med\n",
            "\t\t\t\t\t\t\t\t\t\t\t answer: acc (2)\n",
            "\t\t\t\t\t\t\t\t\t\t\t answer: acc (1)\n",
            "\t\t\t\t\t\t\t\t\t value: med\n",
            "\t\t\t\t\t\t\t\t\t\t answer: acc (9)\n",
            "\t\t\t\t\t\t\t\t\t\t answer: acc (10)\n",
            "\t\t\t\t\t\t\t\t value: med\n",
            "\t\t\t\t\t\t\t\t\t answer: unacc (12)\n",
            "\t\t\t\t\t\t\t\t\t value: high\n",
            "\t\t\t\t\t\t\t\t\t\t value: 2\n",
            "\t\t\t\t\t\t\t\t\t\t\t value: more\n",
            "\t\t\t\t\t\t\t\t\t\t\t\t answer: unacc (1)\n",
            "\t\t\t\t\t\t\t\t\t\t\t\t answer: acc (1)\n",
            "\t\t\t\t\t\t\t\t\t\t\t answer: acc (4)\n",
            "\t\t\t\t\t\t\t\t\t\t answer: unacc (6)\n",
            "\t\t\t\t\t\t\t value: med\n",
            "\t\t\t\t\t\t\t\t value: 2\n",
            "\t\t\t\t\t\t\t\t\t value: med\n",
            "\t\t\t\t\t\t\t\t\t\t value: high\n",
            "\t\t\t\t\t\t\t\t\t\t\t answer: acc (3)\n",
            "\t\t\t\t\t\t\t\t\t\t\t answer: unacc (3)\n",
            "\t\t\t\t\t\t\t\t\t\t answer: acc (8)\n",
            "\t\t\t\t\t\t\t\t\t value: 3\n",
            "\t\t\t\t\t\t\t\t\t\t value: more\n",
            "\t\t\t\t\t\t\t\t\t\t\t answer: acc (8)\n",
            "\t\t\t\t\t\t\t\t\t\t\t value: med\n",
            "\t\t\t\t\t\t\t\t\t\t\t\t value: high\n",
            "\t\t\t\t\t\t\t\t\t\t\t\t\t answer: acc (1)\n",
            "\t\t\t\t\t\t\t\t\t\t\t\t\t answer: unacc (1)\n",
            "\t\t\t\t\t\t\t\t\t\t\t\t answer: acc (2)\n",
            "\t\t\t\t\t\t\t\t\t\t answer: acc (25)\n",
            "\t\t\t\t\t\t\t\t value: high\n",
            "\t\t\t\t\t\t\t\t\t value: high\n",
            "\t\t\t\t\t\t\t\t\t\t value: med\n",
            "\t\t\t\t\t\t\t\t\t\t\t value: 2\n",
            "\t\t\t\t\t\t\t\t\t\t\t\t answer: acc (2)\n",
            "\t\t\t\t\t\t\t\t\t\t\t\t value: 3\n",
            "\t\t\t\t\t\t\t\t\t\t\t\t\t value: more\n",
            "\t\t\t\t\t\t\t\t\t\t\t\t\t\t answer: vgood (1)\n",
            "\t\t\t\t\t\t\t\t\t\t\t\t\t\t answer: acc (1)\n",
            "\t\t\t\t\t\t\t\t\t\t\t\t\t answer: vgood (2)\n",
            "\t\t\t\t\t\t\t\t\t\t\t answer: vgood (6)\n",
            "\t\t\t\t\t\t\t\t\t\t answer: acc (10)\n",
            "\t\t\t\t\t\t\t\t\t value: vhigh\n",
            "\t\t\t\t\t\t\t\t\t\t value: med\n",
            "\t\t\t\t\t\t\t\t\t\t\t value: 2\n",
            "\t\t\t\t\t\t\t\t\t\t\t\t answer: unacc (1)\n",
            "\t\t\t\t\t\t\t\t\t\t\t\t value: 3\n",
            "\t\t\t\t\t\t\t\t\t\t\t\t\t value: more\n",
            "\t\t\t\t\t\t\t\t\t\t\t\t\t\t answer: acc (1)\n",
            "\t\t\t\t\t\t\t\t\t\t\t\t\t\t answer: unacc (1)\n",
            "\t\t\t\t\t\t\t\t\t\t\t\t\t answer: acc (4)\n",
            "\t\t\t\t\t\t\t\t\t\t\t answer: acc (6)\n",
            "\t\t\t\t\t\t\t\t\t\t answer: acc (13)\n"
          ]
        }
      ]
    },
    {
      "cell_type": "code",
      "source": [
        "from sklearn.model_selection import cross_validate, KFold\n",
        "\n",
        "scores = cross_validate(DecisionTree(), X, y, cv=KFold(shuffle=True))\n",
        "print(scores['test_score'])\n",
        "print(scores['test_score'].mean())"
      ],
      "metadata": {
        "colab": {
          "base_uri": "https://localhost:8080/"
        },
        "id": "LrjTNj69cWnW",
        "outputId": "21c87879-7da2-4e69-c9e2-51be98f919ff"
      },
      "execution_count": 60,
      "outputs": [
        {
          "output_type": "stream",
          "name": "stdout",
          "text": [
            "[0.9566474  0.97109827 0.9566474  0.94492754 0.97681159]\n",
            "0.9612264388037195\n"
          ]
        }
      ]
    },
    {
      "cell_type": "code",
      "source": [
        "class DecisionTree(BaseEstimator, ClassifierMixin):\n",
        "  def __init__(self, min_samples_leaf=1):\n",
        "    self.min_samples_leaf = min_samples_leaf\n",
        "\n",
        "  def fit(self, X, y):\n",
        "    self.feature, self.value, self.impurity = best_feature(y, X)\n",
        "    equals = X[:,self.feature] == self.value\n",
        "    if sum(equals) >= self.min_samples_leaf and \\\n",
        "        sum(~equals) >= self.min_samples_leaf:\n",
        "      self.equals = DecisionTree(min_samples_leaf=self.min_samples_leaf).fit(X[equals], y[equals])\n",
        "      self.not_equals = DecisionTree(min_samples_leaf=self.min_samples_leaf).fit(X[~equals], y[~equals])\n",
        "    else:\n",
        "      self.answer = most_common(y[equals])\n",
        "      self.n_samples = len(y)\n",
        "    return self\n",
        "\n",
        "  def predict(self, X):\n",
        "    if hasattr(self, 'answer'):\n",
        "      return [self.answer] * len(X)\n",
        "    else:\n",
        "      equals = X[:,self.feature] == self.value\n",
        "    return np.where(equals, self.equals.predict(X), self.not_equals.predict(X))\n",
        "\n",
        "model = DecisionTree(20)\n",
        "model.fit(X_train, y_train)\n",
        "ypred = model.predict(X_test)\n",
        "print(accuracy_score(y_test, ypred))"
      ],
      "metadata": {
        "colab": {
          "base_uri": "https://localhost:8080/"
        },
        "id": "_dgYEMA5cz8u",
        "outputId": "49399cbc-02f2-416a-91bb-df0fcdd77455"
      },
      "execution_count": 63,
      "outputs": [
        {
          "output_type": "stream",
          "name": "stdout",
          "text": [
            "0.869942196531792\n"
          ]
        }
      ]
    },
    {
      "cell_type": "code",
      "source": [
        "print_tree(model)"
      ],
      "metadata": {
        "colab": {
          "base_uri": "https://localhost:8080/"
        },
        "id": "X2BM2fVqdhF2",
        "outputId": "c9a81919-77d9-4c1d-9681-63d6fd747d05"
      },
      "execution_count": 64,
      "outputs": [
        {
          "output_type": "stream",
          "name": "stdout",
          "text": [
            " value: low\n",
            "\t value: high\n",
            "\t\t answer: unacc (123)\n",
            "\t\t value: vhigh\n",
            "\t\t\t answer: unacc (124)\n",
            "\t\t\t value: med\n",
            "\t\t\t\t answer: unacc (106)\n",
            "\t\t\t\t answer: unacc (112)\n",
            "\t value: 2\n",
            "\t\t value: vhigh\n",
            "\t\t\t answer: unacc (78)\n",
            "\t\t\t value: high\n",
            "\t\t\t\t answer: unacc (79)\n",
            "\t\t\t\t value: med\n",
            "\t\t\t\t\t answer: unacc (71)\n",
            "\t\t\t\t\t answer: unacc (74)\n",
            "\t\t value: vhigh\n",
            "\t\t\t value: med\n",
            "\t\t\t\t answer: unacc (40)\n",
            "\t\t\t\t value: low\n",
            "\t\t\t\t\t answer: acc (37)\n",
            "\t\t\t\t\t answer: unacc (78)\n",
            "\t\t\t value: high\n",
            "\t\t\t\t value: vhigh\n",
            "\t\t\t\t\t answer: unacc (35)\n",
            "\t\t\t\t\t value: small\n",
            "\t\t\t\t\t\t value: high\n",
            "\t\t\t\t\t\t\t answer: acc (20)\n",
            "\t\t\t\t\t\t\t answer: unacc (21)\n",
            "\t\t\t\t\t\t value: 2\n",
            "\t\t\t\t\t\t\t answer: acc (23)\n",
            "\t\t\t\t\t\t\t value: 3\n",
            "\t\t\t\t\t\t\t\t answer: acc (20)\n",
            "\t\t\t\t\t\t\t\t answer: acc (38)\n",
            "\t\t\t\t value: low\n",
            "\t\t\t\t\t value: high\n",
            "\t\t\t\t\t\t answer: vgood (38)\n",
            "\t\t\t\t\t\t answer: acc (38)\n",
            "\t\t\t\t\t value: med\n",
            "\t\t\t\t\t\t value: high\n",
            "\t\t\t\t\t\t\t answer: good (42)\n",
            "\t\t\t\t\t\t\t answer: acc (36)\n",
            "\t\t\t\t\t\t value: small\n",
            "\t\t\t\t\t\t\t value: high\n",
            "\t\t\t\t\t\t\t\t answer: unacc (26)\n",
            "\t\t\t\t\t\t\t\t answer: unacc (24)\n",
            "\t\t\t\t\t\t\t value: med\n",
            "\t\t\t\t\t\t\t\t answer: acc (51)\n",
            "\t\t\t\t\t\t\t\t value: high\n",
            "\t\t\t\t\t\t\t\t\t answer: vgood (22)\n",
            "\t\t\t\t\t\t\t\t\t answer: acc (26)\n"
          ]
        }
      ]
    },
    {
      "cell_type": "code",
      "source": [
        "class DecisionTree(BaseEstimator, ClassifierMixin):\n",
        "  def __init__(self, min_samples_leaf=1, max_depth=10000):\n",
        "    self.min_samples_leaf = min_samples_leaf\n",
        "    self.max_depth = max_depth\n",
        "\n",
        "  def fit(self, X, y):\n",
        "    self.feature, self.value, self.impurity = best_feature(y, X)\n",
        "    equals = X[:,self.feature] == self.value\n",
        "    if sum(equals) >= self.min_samples_leaf and \\\n",
        "        sum(~equals) >= self.min_samples_leaf and \\\n",
        "        self.max_depth > 0:\n",
        "      self.equals = DecisionTree(min_samples_leaf=self.min_samples_leaf, \\\n",
        "                                 max_depth=self.max_depth-1).fit(X[equals], y[equals])\n",
        "      self.not_equals = DecisionTree(min_samples_leaf=self.min_samples_leaf, \\\n",
        "                                 max_depth=self.max_depth-1).fit(X[~equals], y[~equals])\n",
        "    else:\n",
        "      self.answer = most_common(y[equals])\n",
        "      self.n_samples = len(y)\n",
        "    return self\n",
        "\n",
        "  def predict(self, X):\n",
        "    if hasattr(self, 'answer'):\n",
        "      return [self.answer] * len(X)\n",
        "    else:\n",
        "      equals = X[:,self.feature] == self.value\n",
        "    return np.where(equals, self.equals.predict(X), self.not_equals.predict(X))\n",
        "\n",
        "model = DecisionTree(2, 6)\n",
        "model.fit(X_train, y_train)\n",
        "ypred = model.predict(X_test)\n",
        "print(accuracy_score(y_test, ypred))"
      ],
      "metadata": {
        "colab": {
          "base_uri": "https://localhost:8080/"
        },
        "id": "oxhxB39peuLW",
        "outputId": "0ec52a2f-ff84-42fd-aa47-68577a2657f9"
      },
      "execution_count": 73,
      "outputs": [
        {
          "output_type": "stream",
          "name": "stdout",
          "text": [
            "0.8728323699421965\n"
          ]
        }
      ]
    },
    {
      "cell_type": "code",
      "source": [
        "print_tree(model)"
      ],
      "metadata": {
        "colab": {
          "base_uri": "https://localhost:8080/"
        },
        "id": "P_7BG-3wfMsN",
        "outputId": "93f76f05-a035-4dd6-948b-7d9d202d0f93"
      },
      "execution_count": 74,
      "outputs": [
        {
          "output_type": "stream",
          "name": "stdout",
          "text": [
            " value: low\n",
            "\t value: high\n",
            "\t\t answer: unacc (123)\n",
            "\t\t value: vhigh\n",
            "\t\t\t answer: unacc (124)\n",
            "\t\t\t value: med\n",
            "\t\t\t\t answer: unacc (106)\n",
            "\t\t\t\t answer: unacc (112)\n",
            "\t value: 2\n",
            "\t\t value: vhigh\n",
            "\t\t\t answer: unacc (78)\n",
            "\t\t\t value: high\n",
            "\t\t\t\t answer: unacc (79)\n",
            "\t\t\t\t value: med\n",
            "\t\t\t\t\t answer: unacc (71)\n",
            "\t\t\t\t\t answer: unacc (74)\n",
            "\t\t value: vhigh\n",
            "\t\t\t value: med\n",
            "\t\t\t\t value: small\n",
            "\t\t\t\t\t value: high\n",
            "\t\t\t\t\t\t answer: acc (7)\n",
            "\t\t\t\t\t\t answer: unacc (6)\n",
            "\t\t\t\t\t value: med\n",
            "\t\t\t\t\t\t answer: acc (13)\n",
            "\t\t\t\t\t\t answer: acc (14)\n",
            "\t\t\t\t value: low\n",
            "\t\t\t\t\t value: high\n",
            "\t\t\t\t\t\t answer: acc (19)\n",
            "\t\t\t\t\t\t answer: acc (18)\n",
            "\t\t\t\t\t answer: unacc (78)\n",
            "\t\t\t value: high\n",
            "\t\t\t\t value: vhigh\n",
            "\t\t\t\t\t answer: unacc (35)\n",
            "\t\t\t\t\t value: small\n",
            "\t\t\t\t\t\t answer: acc (41)\n",
            "\t\t\t\t\t\t answer: acc (81)\n",
            "\t\t\t\t value: low\n",
            "\t\t\t\t\t value: high\n",
            "\t\t\t\t\t\t answer: vgood (38)\n",
            "\t\t\t\t\t\t answer: acc (38)\n",
            "\t\t\t\t\t value: med\n",
            "\t\t\t\t\t\t answer: vgood (78)\n",
            "\t\t\t\t\t\t answer: acc (149)\n"
          ]
        }
      ]
    },
    {
      "cell_type": "code",
      "source": [
        "!pip install optuna"
      ],
      "metadata": {
        "colab": {
          "base_uri": "https://localhost:8080/"
        },
        "id": "0Kq0Lu9Kfkzn",
        "outputId": "6ab1f46a-a2e0-4217-b1ea-0af08330f3e3"
      },
      "execution_count": 75,
      "outputs": [
        {
          "output_type": "stream",
          "name": "stdout",
          "text": [
            "Collecting optuna\n",
            "  Downloading optuna-4.5.0-py3-none-any.whl.metadata (17 kB)\n",
            "Requirement already satisfied: alembic>=1.5.0 in /usr/local/lib/python3.12/dist-packages (from optuna) (1.16.5)\n",
            "Collecting colorlog (from optuna)\n",
            "  Downloading colorlog-6.9.0-py3-none-any.whl.metadata (10 kB)\n",
            "Requirement already satisfied: numpy in /usr/local/lib/python3.12/dist-packages (from optuna) (2.0.2)\n",
            "Requirement already satisfied: packaging>=20.0 in /usr/local/lib/python3.12/dist-packages (from optuna) (25.0)\n",
            "Requirement already satisfied: sqlalchemy>=1.4.2 in /usr/local/lib/python3.12/dist-packages (from optuna) (2.0.43)\n",
            "Requirement already satisfied: tqdm in /usr/local/lib/python3.12/dist-packages (from optuna) (4.67.1)\n",
            "Requirement already satisfied: PyYAML in /usr/local/lib/python3.12/dist-packages (from optuna) (6.0.2)\n",
            "Requirement already satisfied: Mako in /usr/local/lib/python3.12/dist-packages (from alembic>=1.5.0->optuna) (1.3.10)\n",
            "Requirement already satisfied: typing-extensions>=4.12 in /usr/local/lib/python3.12/dist-packages (from alembic>=1.5.0->optuna) (4.15.0)\n",
            "Requirement already satisfied: greenlet>=1 in /usr/local/lib/python3.12/dist-packages (from sqlalchemy>=1.4.2->optuna) (3.2.4)\n",
            "Requirement already satisfied: MarkupSafe>=0.9.2 in /usr/local/lib/python3.12/dist-packages (from Mako->alembic>=1.5.0->optuna) (3.0.2)\n",
            "Downloading optuna-4.5.0-py3-none-any.whl (400 kB)\n",
            "\u001b[2K   \u001b[90m━━━━━━━━━━━━━━━━━━━━━━━━━━━━━━━━━━━━━━━━\u001b[0m \u001b[32m400.9/400.9 kB\u001b[0m \u001b[31m4.9 MB/s\u001b[0m eta \u001b[36m0:00:00\u001b[0m\n",
            "\u001b[?25hDownloading colorlog-6.9.0-py3-none-any.whl (11 kB)\n",
            "Installing collected packages: colorlog, optuna\n",
            "Successfully installed colorlog-6.9.0 optuna-4.5.0\n"
          ]
        }
      ]
    },
    {
      "cell_type": "code",
      "source": [
        "import optuna\n",
        "from sklearn.model_selection import cross_val_score\n",
        "\n",
        "def objective(trial):\n",
        "    min_samples_leaf = trial.suggest_int('min_samples_leaf', 1, 50)\n",
        "    max_depth = trial.suggest_int('max_depth', 1, 30)\n",
        "\n",
        "    model = DecisionTree(min_samples_leaf=min_samples_leaf, max_depth=max_depth)\n",
        "\n",
        "    # Use cross-validation to evaluate the model\n",
        "    scores = cross_val_score(model, X_train, y_train, cv=5, scoring='accuracy')\n",
        "    return scores.mean()\n",
        "\n",
        "study = optuna.create_study(direction='maximize')\n",
        "study.optimize(objective, n_trials=30)\n",
        "\n",
        "print(\"Best trial:\")\n",
        "print(\"  Value: \", study.best_trial.value)\n",
        "print(\"  Params: \")\n",
        "for key, value in study.best_trial.params.items():\n",
        "    print(\"    {}: {}\".format(key, value))"
      ],
      "metadata": {
        "colab": {
          "base_uri": "https://localhost:8080/"
        },
        "id": "bjLZMAC7fyzm",
        "outputId": "380609ef-3135-41c6-adc1-cf18fb755560"
      },
      "execution_count": 78,
      "outputs": [
        {
          "output_type": "stream",
          "name": "stderr",
          "text": [
            "[I 2025-09-18 15:47:43,000] A new study created in memory with name: no-name-c277ebfb-0cb6-48b4-88d7-580dc11c00d3\n",
            "[I 2025-09-18 15:47:43,465] Trial 0 finished with value: 0.8053785381677392 and parameters: {'min_samples_leaf': 20, 'max_depth': 28}. Best is trial 0 with value: 0.8053785381677392.\n",
            "[I 2025-09-18 15:47:43,903] Trial 1 finished with value: 0.8140611102391043 and parameters: {'min_samples_leaf': 19, 'max_depth': 10}. Best is trial 1 with value: 0.8140611102391043.\n",
            "[I 2025-09-18 15:47:44,555] Trial 2 finished with value: 0.9095510908805526 and parameters: {'min_samples_leaf': 5, 'max_depth': 22}. Best is trial 2 with value: 0.9095510908805526.\n",
            "[I 2025-09-18 15:47:45,044] Trial 3 finished with value: 0.7228927954795166 and parameters: {'min_samples_leaf': 45, 'max_depth': 18}. Best is trial 2 with value: 0.9095510908805526.\n",
            "[I 2025-09-18 15:47:45,833] Trial 4 finished with value: 0.8126118348767853 and parameters: {'min_samples_leaf': 21, 'max_depth': 27}. Best is trial 2 with value: 0.9095510908805526.\n",
            "[I 2025-09-18 15:47:46,803] Trial 5 finished with value: 0.8213074870506984 and parameters: {'min_samples_leaf': 17, 'max_depth': 20}. Best is trial 2 with value: 0.9095510908805526.\n",
            "[I 2025-09-18 15:47:48,215] Trial 6 finished with value: 0.7272249254434154 and parameters: {'min_samples_leaf': 48, 'max_depth': 27}. Best is trial 2 with value: 0.9095510908805526.\n",
            "[I 2025-09-18 15:47:49,213] Trial 7 finished with value: 0.8994087793648303 and parameters: {'min_samples_leaf': 7, 'max_depth': 29}. Best is trial 2 with value: 0.9095510908805526.\n",
            "[I 2025-09-18 15:47:49,601] Trial 8 finished with value: 0.7308350337466646 and parameters: {'min_samples_leaf': 42, 'max_depth': 25}. Best is trial 2 with value: 0.9095510908805526.\n",
            "[I 2025-09-18 15:47:50,060] Trial 9 finished with value: 0.8140611102391043 and parameters: {'min_samples_leaf': 19, 'max_depth': 13}. Best is trial 2 with value: 0.9095510908805526.\n",
            "[I 2025-09-18 15:47:50,201] Trial 10 finished with value: 0.700465651650709 and parameters: {'min_samples_leaf': 2, 'max_depth': 1}. Best is trial 2 with value: 0.9095510908805526.\n",
            "[I 2025-09-18 15:47:51,078] Trial 11 finished with value: 0.9623606969078636 and parameters: {'min_samples_leaf': 1, 'max_depth': 22}. Best is trial 11 with value: 0.9623606969078636.\n",
            "[I 2025-09-18 15:47:51,811] Trial 12 finished with value: 0.8726442735311044 and parameters: {'min_samples_leaf': 9, 'max_depth': 21}. Best is trial 11 with value: 0.9623606969078636.\n",
            "[I 2025-09-18 15:47:52,702] Trial 13 finished with value: 0.7474362999005912 and parameters: {'min_samples_leaf': 33, 'max_depth': 22}. Best is trial 11 with value: 0.9623606969078636.\n",
            "[I 2025-09-18 15:47:53,598] Trial 14 finished with value: 0.9442787631455032 and parameters: {'min_samples_leaf': 2, 'max_depth': 15}. Best is trial 11 with value: 0.9623606969078636.\n",
            "[I 2025-09-18 15:47:54,129] Trial 15 finished with value: 0.8480615288023859 and parameters: {'min_samples_leaf': 11, 'max_depth': 9}. Best is trial 11 with value: 0.9623606969078636.\n",
            "[I 2025-09-18 15:47:54,528] Trial 16 finished with value: 0.7699000680165333 and parameters: {'min_samples_leaf': 29, 'max_depth': 15}. Best is trial 11 with value: 0.9623606969078636.\n",
            "[I 2025-09-18 15:47:54,970] Trial 17 finished with value: 0.8104954742845184 and parameters: {'min_samples_leaf': 1, 'max_depth': 6}. Best is trial 11 with value: 0.9623606969078636.\n",
            "[I 2025-09-18 15:47:55,468] Trial 18 finished with value: 0.836475173965364 and parameters: {'min_samples_leaf': 13, 'max_depth': 17}. Best is trial 11 with value: 0.9623606969078636.\n",
            "[I 2025-09-18 15:47:55,864] Trial 19 finished with value: 0.7481635536022602 and parameters: {'min_samples_leaf': 35, 'max_depth': 13}. Best is trial 11 with value: 0.9623606969078636.\n",
            "[I 2025-09-18 15:47:56,371] Trial 20 finished with value: 0.8357505362842044 and parameters: {'min_samples_leaf': 14, 'max_depth': 25}. Best is trial 11 with value: 0.9623606969078636.\n",
            "[I 2025-09-18 15:47:57,044] Trial 21 finished with value: 0.9095510908805526 and parameters: {'min_samples_leaf': 5, 'max_depth': 24}. Best is trial 11 with value: 0.9623606969078636.\n",
            "[I 2025-09-18 15:47:57,702] Trial 22 finished with value: 0.9095510908805526 and parameters: {'min_samples_leaf': 5, 'max_depth': 19}. Best is trial 11 with value: 0.9623606969078636.\n",
            "[I 2025-09-18 15:47:58,956] Trial 23 finished with value: 0.9623606969078636 and parameters: {'min_samples_leaf': 1, 'max_depth': 15}. Best is trial 11 with value: 0.9623606969078636.\n",
            "[I 2025-09-18 15:48:00,367] Trial 24 finished with value: 0.9623606969078636 and parameters: {'min_samples_leaf': 1, 'max_depth': 14}. Best is trial 11 with value: 0.9623606969078636.\n",
            "[I 2025-09-18 15:48:01,072] Trial 25 finished with value: 0.8726442735311044 and parameters: {'min_samples_leaf': 9, 'max_depth': 11}. Best is trial 11 with value: 0.9623606969078636.\n",
            "[I 2025-09-18 15:48:01,497] Trial 26 finished with value: 0.7627609480458327 and parameters: {'min_samples_leaf': 26, 'max_depth': 6}. Best is trial 11 with value: 0.9623606969078636.\n",
            "[I 2025-09-18 15:48:02,376] Trial 27 finished with value: 0.9623606969078636 and parameters: {'min_samples_leaf': 1, 'max_depth': 17}. Best is trial 11 with value: 0.9623606969078636.\n",
            "[I 2025-09-18 15:48:02,849] Trial 28 finished with value: 0.8292549573588657 and parameters: {'min_samples_leaf': 15, 'max_depth': 12}. Best is trial 11 with value: 0.9623606969078636.\n",
            "[I 2025-09-18 15:48:03,384] Trial 29 finished with value: 0.8661643907288233 and parameters: {'min_samples_leaf': 10, 'max_depth': 8}. Best is trial 11 with value: 0.9623606969078636.\n"
          ]
        },
        {
          "output_type": "stream",
          "name": "stdout",
          "text": [
            "Best trial:\n",
            "  Value:  0.9623606969078636\n",
            "  Params: \n",
            "    min_samples_leaf: 1\n",
            "    max_depth: 22\n"
          ]
        }
      ]
    },
    {
      "cell_type": "code",
      "source": [
        "model = DecisionTree(min_samples_leaf=1, max_depth=22)\n",
        "\n",
        "scores = cross_validate(model, X, y, cv=KFold(shuffle=True))\n",
        "print(scores['test_score'])\n",
        "print(scores['test_score'].mean())"
      ],
      "metadata": {
        "colab": {
          "base_uri": "https://localhost:8080/"
        },
        "id": "RvWOj2ICgxGW",
        "outputId": "25354111-ecdb-49f5-bacf-ca88724f27dd"
      },
      "execution_count": 79,
      "outputs": [
        {
          "output_type": "stream",
          "name": "stdout",
          "text": [
            "[0.97687861 0.96531792 0.97398844 0.95942029 0.95072464]\n",
            "0.9652659797268995\n"
          ]
        }
      ]
    }
  ]
}