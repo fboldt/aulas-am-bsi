{
  "nbformat": 4,
  "nbformat_minor": 0,
  "metadata": {
    "colab": {
      "provenance": [],
      "authorship_tag": "ABX9TyNZTWmYpURjqDmlys7Lio2z",
      "include_colab_link": true
    },
    "kernelspec": {
      "name": "python3",
      "display_name": "Python 3"
    },
    "language_info": {
      "name": "python"
    }
  },
  "cells": [
    {
      "cell_type": "markdown",
      "metadata": {
        "id": "view-in-github",
        "colab_type": "text"
      },
      "source": [
        "<a href=\"https://colab.research.google.com/github/fboldt/aulas-am-bsi/blob/main/aula04b_pseudo_inversa.ipynb\" target=\"_parent\"><img src=\"https://colab.research.google.com/assets/colab-badge.svg\" alt=\"Open In Colab\"/></a>"
      ]
    },
    {
      "cell_type": "code",
      "execution_count": 92,
      "metadata": {
        "id": "L10BWy6SDrNo"
      },
      "outputs": [],
      "source": [
        "from sklearn.datasets import fetch_california_housing\n",
        "data = fetch_california_housing()"
      ]
    },
    {
      "cell_type": "code",
      "source": [
        "from sklearn.model_selection import train_test_split\n",
        "\n",
        "Xtr, Xte, ytr, yte = train_test_split(data['data'], data['target'], random_state=42)\n",
        "print(Xtr.shape, Xte.shape, ytr.shape, yte.shape)"
      ],
      "metadata": {
        "colab": {
          "base_uri": "https://localhost:8080/"
        },
        "id": "pOoGFJJAKD-z",
        "outputId": "e7bd5196-bdbc-4ced-9e4d-eacfd931a1e7"
      },
      "execution_count": 93,
      "outputs": [
        {
          "output_type": "stream",
          "name": "stdout",
          "text": [
            "(15480, 8) (5160, 8) (15480,) (5160,)\n"
          ]
        }
      ]
    },
    {
      "cell_type": "code",
      "source": [
        "Xtr2 = Xtr[:, 2:3]\n",
        "Xtr2.shape"
      ],
      "metadata": {
        "colab": {
          "base_uri": "https://localhost:8080/"
        },
        "id": "NnCcRGjsMtTu",
        "outputId": "16f59775-46be-4f7b-dc67-a0322e2be660"
      },
      "execution_count": 94,
      "outputs": [
        {
          "output_type": "execute_result",
          "data": {
            "text/plain": [
              "(15480, 1)"
            ]
          },
          "metadata": {},
          "execution_count": 94
        }
      ]
    },
    {
      "cell_type": "code",
      "source": [
        "import numpy as np\n",
        "from sklearn.metrics import root_mean_squared_error\n",
        "import matplotlib.pyplot as plt\n",
        "\n",
        "def include_bias(X):\n",
        "    bias = np.ones((X.shape[0], 1))\n",
        "    return np.concatenate((bias, X), axis=1)\n",
        "\n",
        "class LinearRegression:\n",
        "    def fit(self, X, y):\n",
        "        X = include_bias(X)\n",
        "        self.w = np.linalg.pinv(X) @ y\n",
        "        print(self.w)\n",
        "        return self\n",
        "\n",
        "    def predict(self, X):\n",
        "        X = include_bias(X)\n",
        "        return X @ self.w\n",
        "\n",
        "model = LinearRegression()\n",
        "model.fit(Xtr2, ytr)\n",
        "ypred = model.predict(Xtr2)\n",
        "print(root_mean_squared_error(ytr, ypred))\n",
        "plt.scatter(Xtr2, ytr)\n",
        "plt.scatter(Xtr2, ypred, c='r')\n",
        "plt.show()"
      ],
      "metadata": {
        "colab": {
          "base_uri": "https://localhost:8080/",
          "height": 465
        },
        "id": "yPqYzeX_2HaH",
        "outputId": "0bf0e829-00d5-4bc8-abae-70bb242338c3"
      },
      "execution_count": 99,
      "outputs": [
        {
          "output_type": "stream",
          "name": "stdout",
          "text": [
            "[1.66372304 0.07480793]\n",
            "1.1408323852823978\n"
          ]
        },
        {
          "output_type": "display_data",
          "data": {
            "text/plain": [
              "<Figure size 640x480 with 1 Axes>"
            ],
            "image/png": "[encoded data removed]"
          },
          "metadata": {}
        }
      ]
    },
    {
      "cell_type": "code",
      "source": [
        "model = LinearRegression()\n",
        "model.fit(Xtr, ytr)\n",
        "ypred = model.predict(Xtr)\n",
        "print(root_mean_squared_error(ytr, ypred))"
      ],
      "metadata": {
        "colab": {
          "base_uri": "https://localhost:8080/"
        },
        "id": "1nFdVjYh32KX",
        "outputId": "63765dc3-3bb7-4d12-ef92-e670223aa80d"
      },
      "execution_count": 100,
      "outputs": [
        {
          "output_type": "stream",
          "name": "stdout",
          "text": [
            "[-3.70278276e+01  4.47600069e-01  9.56752596e-03 -1.24755956e-01\n",
            "  7.94471254e-01 -1.43902596e-06 -3.44307993e-03 -4.18555257e-01\n",
            " -4.33405135e-01]\n",
            "0.7214930466501481\n"
          ]
        }
      ]
    },
    {
      "cell_type": "code",
      "source": [
        "from sklearn.preprocessing import StandardScaler\n",
        "scaler = StandardScaler()\n",
        "scaler.fit(Xtr)\n",
        "Xtr_norm = scaler.transform(Xtr)\n",
        "Xte_norm = scaler.transform(Xte)\n",
        "\n",
        "model = LinearRegression()\n",
        "model.fit(Xtr_norm, ytr)\n",
        "ypred = model.predict(Xtr_norm)\n",
        "print(root_mean_squared_error(ytr, ypred))"
      ],
      "metadata": {
        "colab": {
          "base_uri": "https://localhost:8080/"
        },
        "id": "EV-AcVbG7oyV",
        "outputId": "71dfdf7c-3c11-4bd1-b482-63c6ae14c24f"
      },
      "execution_count": 101,
      "outputs": [
        {
          "output_type": "stream",
          "name": "stdout",
          "text": [
            "[ 2.07034892e+00  8.52108147e-01  1.20655325e-01 -3.02105554e-01\n",
            "  3.48605752e-01 -1.64465406e-03 -4.11635631e-02 -8.93146971e-01\n",
            " -8.67840463e-01]\n",
            "0.7214930466501481\n"
          ]
        }
      ]
    }
  ]
}