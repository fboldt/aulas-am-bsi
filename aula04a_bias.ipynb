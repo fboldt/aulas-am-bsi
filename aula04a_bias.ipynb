{
  "nbformat": 4,
  "nbformat_minor": 0,
  "metadata": {
    "colab": {
      "provenance": [],
      "authorship_tag": "ABX9TyPFt3nggPj5GgxSHOdg+AHY",
      "include_colab_link": true
    },
    "kernelspec": {
      "name": "python3",
      "display_name": "Python 3"
    },
    "language_info": {
      "name": "python"
    }
  },
  "cells": [
    {
      "cell_type": "markdown",
      "metadata": {
        "id": "view-in-github",
        "colab_type": "text"
      },
      "source": [
        "<a href=\"https://colab.research.google.com/github/fboldt/aulas-am-bsi/blob/main/aula04a_bias.ipynb\" target=\"_parent\"><img src=\"https://colab.research.google.com/assets/colab-badge.svg\" alt=\"Open In Colab\"/></a>"
      ]
    },
    {
      "cell_type": "code",
      "execution_count": 76,
      "metadata": {
        "id": "L10BWy6SDrNo"
      },
      "outputs": [],
      "source": [
        "from sklearn.datasets import fetch_california_housing\n",
        "data = fetch_california_housing()"
      ]
    },
    {
      "cell_type": "code",
      "source": [
        "from sklearn.model_selection import train_test_split\n",
        "\n",
        "Xtr, Xte, ytr, yte = train_test_split(data['data'], data['target'], random_state=42)\n",
        "print(Xtr.shape, Xte.shape, ytr.shape, yte.shape)"
      ],
      "metadata": {
        "colab": {
          "base_uri": "https://localhost:8080/"
        },
        "id": "pOoGFJJAKD-z",
        "outputId": "1088aa67-bd50-455e-c491-f02865a3e05c"
      },
      "execution_count": 77,
      "outputs": [
        {
          "output_type": "stream",
          "name": "stdout",
          "text": [
            "(15480, 8) (5160, 8) (15480,) (5160,)\n"
          ]
        }
      ]
    },
    {
      "cell_type": "code",
      "source": [
        "Xtr2 = Xtr[:, 2:3]\n",
        "Xtr2.shape"
      ],
      "metadata": {
        "colab": {
          "base_uri": "https://localhost:8080/"
        },
        "id": "NnCcRGjsMtTu",
        "outputId": "445fa1d4-c426-4565-fc1d-b8da607b8e99"
      },
      "execution_count": 78,
      "outputs": [
        {
          "output_type": "execute_result",
          "data": {
            "text/plain": [
              "(15480, 1)"
            ]
          },
          "metadata": {},
          "execution_count": 78
        }
      ]
    },
    {
      "cell_type": "code",
      "source": [
        "import numpy as np\n",
        "import matplotlib.pyplot as plt\n",
        "from sklearn.metrics import root_mean_squared_error\n",
        "\n",
        "class LinearRegression:\n",
        "    def __init__(self):\n",
        "        self.learning_rate = 0.000001\n",
        "\n",
        "    def fit(self, X, y):\n",
        "        self.w = np.random.rand(X.shape[1])\n",
        "        for _ in range(20):\n",
        "            ypred = X @ self.w\n",
        "            error = y - ypred\n",
        "            self.w += self.learning_rate * X.T @ error\n",
        "        print(self.w)\n",
        "        return self\n",
        "\n",
        "    def predict(self, X):\n",
        "        return X @ self.w\n",
        "\n",
        "model = LinearRegression()\n",
        "model.fit(Xtr2, ytr)\n",
        "ypred = model.predict(Xtr2)\n",
        "print(root_mean_squared_error(ytr, ypred))\n",
        "plt.scatter(Xtr2, ytr)\n",
        "plt.scatter(Xtr2, ypred, c='r')\n",
        "plt.show()"
      ],
      "metadata": {
        "colab": {
          "base_uri": "https://localhost:8080/",
          "height": 465
        },
        "id": "5tXYRTK7TqwM",
        "outputId": "8c9c4c18-096f-430f-9aa9-0060876f2c1b"
      },
      "execution_count": 79,
      "outputs": [
        {
          "output_type": "stream",
          "name": "stdout",
          "text": [
            "[0.33019903]\n",
            "1.3266075107460107\n"
          ]
        },
        {
          "output_type": "display_data",
          "data": {
            "text/plain": [
              "<Figure size 640x480 with 1 Axes>"
            ],
            "image/png": "[encoded data removed]"
          },
          "metadata": {}
        }
      ]
    },
    {
      "cell_type": "code",
      "source": [
        "def include_bias(X):\n",
        "    bias = np.ones((X.shape[0], 1))\n",
        "    return np.concatenate((bias, X), axis=1)\n",
        "\n",
        "class LinearRegression:\n",
        "    def __init__(self, max_iter=100, learning_rate=0.000001):\n",
        "        self.learning_rate = learning_rate\n",
        "        self.max_iter = max_iter\n",
        "\n",
        "    def fit(self, X, y):\n",
        "        X = include_bias(X)\n",
        "        self.w = np.random.rand(X.shape[1])\n",
        "        for _ in range(self.max_iter):\n",
        "            ypred = X @ self.w\n",
        "            error = y - ypred\n",
        "            self.w += self.learning_rate * X.T @ error\n",
        "        print(self.w)\n",
        "        return self\n",
        "\n",
        "    def predict(self, X):\n",
        "        X = include_bias(X)\n",
        "        return X @ self.w\n",
        "\n",
        "model = LinearRegression(1000)\n",
        "model.fit(Xtr2, ytr)\n",
        "ypred = model.predict(Xtr2)\n",
        "print(root_mean_squared_error(ytr, ypred))\n",
        "plt.scatter(Xtr2, ytr)\n",
        "plt.scatter(Xtr2, ypred, c='r')\n",
        "plt.show()"
      ],
      "metadata": {
        "colab": {
          "base_uri": "https://localhost:8080/",
          "height": 465
        },
        "id": "yPqYzeX_2HaH",
        "outputId": "fbb97cd3-20b6-4b4b-d81d-1c394a827f4a"
      },
      "execution_count": 80,
      "outputs": [
        {
          "output_type": "stream",
          "name": "stdout",
          "text": [
            "[1.56163197 0.09055142]\n",
            "1.1415886919642197\n"
          ]
        },
        {
          "output_type": "display_data",
          "data": {
            "text/plain": [
              "<Figure size 640x480 with 1 Axes>"
            ],
            "image/png": "[encoded data removed]"
          },
          "metadata": {}
        }
      ]
    },
    {
      "cell_type": "code",
      "source": [
        "class LinearRegression:\n",
        "    def __init__(self, max_iter=100, learning_rate=10e-7):\n",
        "        self.max_iter = max_iter\n",
        "        self.learning_rate = learning_rate\n",
        "\n",
        "    def fit(self, X, y):\n",
        "        self.w = np.random.rand(X.shape[1])\n",
        "        self.b = np.random.rand(1)\n",
        "        for _ in range(self.max_iter):\n",
        "            ypred = self.predict(X)\n",
        "            error = y - ypred\n",
        "            self.w += self.learning_rate * X.T @ error\n",
        "            self.b += self.learning_rate * np.sum(error)\n",
        "        print(self.w, self.b)\n",
        "        return self\n",
        "\n",
        "    def predict(self, X):\n",
        "        return X @ self.w + self.b\n",
        "\n",
        "model = LinearRegression(1000)\n",
        "model.fit(Xtr2, ytr)\n",
        "ypred = model.predict(Xtr2)\n",
        "print(root_mean_squared_error(ytr, ypred))\n",
        "plt.scatter(Xtr2, ytr)\n",
        "plt.scatter(Xtr2, ypred, c='r')\n",
        "plt.show()"
      ],
      "metadata": {
        "colab": {
          "base_uri": "https://localhost:8080/",
          "height": 465
        },
        "id": "jsiVICFS1doP",
        "outputId": "c1a14f5d-59f7-474f-a8ae-8de6962d9f47"
      },
      "execution_count": 81,
      "outputs": [
        {
          "output_type": "stream",
          "name": "stdout",
          "text": [
            "[0.09165307] [1.5544882]\n",
            "1.141698197911705\n"
          ]
        },
        {
          "output_type": "display_data",
          "data": {
            "text/plain": [
              "<Figure size 640x480 with 1 Axes>"
            ],
            "image/png": "[encoded data removed]"
          },
          "metadata": {}
        }
      ]
    },
    {
      "cell_type": "code",
      "source": [
        "model = LinearRegression(int(10e4), 10e-12)\n",
        "model.fit(Xtr, ytr)\n",
        "ypred = model.predict(Xtr)\n",
        "print(root_mean_squared_error(ytr, ypred))"
      ],
      "metadata": {
        "colab": {
          "base_uri": "https://localhost:8080/"
        },
        "id": "1nFdVjYh32KX",
        "outputId": "11d1140c-d073-4260-c2fc-585c4590f651"
      },
      "execution_count": 82,
      "outputs": [
        {
          "output_type": "stream",
          "name": "stdout",
          "text": [
            "[7.20686863e-01 5.02126883e-02 6.30814121e-01 7.16889036e-01\n",
            " 2.80148197e-04 6.88672777e-02 5.37045897e-01 2.20645933e-01] [0.23562373]\n",
            "2.562811822726755\n"
          ]
        }
      ]
    },
    {
      "cell_type": "code",
      "source": [
        "mean_tr = np.mean(Xtr, axis=0)\n",
        "std_tr = np.std(Xtr, axis=0)\n",
        "Xtr_norm = (Xtr - mean_tr) / std_tr\n",
        "Xte_norm = (Xte - mean_tr) / std_tr"
      ],
      "metadata": {
        "id": "k29n52m96ml1"
      },
      "execution_count": 83,
      "outputs": []
    },
    {
      "cell_type": "code",
      "source": [
        "model = LinearRegression(2000)\n",
        "model.fit(Xtr_norm, ytr)\n",
        "ypred = model.predict(Xtr_norm)\n",
        "print(root_mean_squared_error(ytr, ypred))"
      ],
      "metadata": {
        "colab": {
          "base_uri": "https://localhost:8080/"
        },
        "id": "2cZSSwGu7U0s",
        "outputId": "8b93ae54-09a6-40f0-e25e-0a4d9d2447b7"
      },
      "execution_count": 88,
      "outputs": [
        {
          "output_type": "stream",
          "name": "stdout",
          "text": [
            "[ 0.90101773  0.14560778 -0.3637968   0.38542215  0.00662826 -0.04479423\n",
            " -0.66440565 -0.64344268] [2.07034892]\n",
            "0.7255685770890437\n"
          ]
        }
      ]
    },
    {
      "cell_type": "code",
      "source": [
        "from sklearn.preprocessing import StandardScaler\n",
        "scaler = StandardScaler()\n",
        "scaler.fit(Xtr)\n",
        "Xtr_norm = scaler.transform(Xtr)\n",
        "Xte_norm = scaler.transform(Xte)\n",
        "\n",
        "model = LinearRegression(2000)\n",
        "model.fit(Xtr_norm, ytr)\n",
        "ypred = model.predict(Xtr_norm)\n",
        "print(root_mean_squared_error(ytr, ypred))"
      ],
      "metadata": {
        "colab": {
          "base_uri": "https://localhost:8080/"
        },
        "id": "EV-AcVbG7oyV",
        "outputId": "163b33c4-4d4d-41e4-90d1-69cfea9a3c54"
      },
      "execution_count": 90,
      "outputs": [
        {
          "output_type": "stream",
          "name": "stdout",
          "text": [
            "[ 0.88993927  0.14100472 -0.34788959  0.37456314  0.00511503 -0.0440684\n",
            " -0.70825316 -0.68620778] [2.07034892]\n",
            "0.7241635457690139\n"
          ]
        }
      ]
    },
    {
      "cell_type": "code",
      "source": [
        "from sklearn.linear_model import LinearRegression\n",
        "model = LinearRegression()\n",
        "model.fit(Xtr_norm, ytr)\n",
        "ypred = model.predict(Xtr_norm)\n",
        "print(root_mean_squared_error(ytr, ypred))"
      ],
      "metadata": {
        "colab": {
          "base_uri": "https://localhost:8080/"
        },
        "id": "8tlrtjvs73NV",
        "outputId": "32961bc5-7502-4fc5-a793-dc2f0c9472ad"
      },
      "execution_count": 91,
      "outputs": [
        {
          "output_type": "stream",
          "name": "stdout",
          "text": [
            "0.7214930466501481\n"
          ]
        }
      ]
    }
  ]
}