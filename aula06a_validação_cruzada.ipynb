{
  "nbformat": 4,
  "nbformat_minor": 0,
  "metadata": {
    "colab": {
      "provenance": [],
      "authorship_tag": "ABX9TyM6xibSFxdi+lkJUtNFpSD/",
      "include_colab_link": true
    },
    "kernelspec": {
      "name": "python3",
      "display_name": "Python 3"
    },
    "language_info": {
      "name": "python"
    }
  },
  "cells": [
    {
      "cell_type": "markdown",
      "metadata": {
        "id": "view-in-github",
        "colab_type": "text"
      },
      "source": [
        "<a href=\"https://colab.research.google.com/github/fboldt/aulas-am-bsi/blob/main/aula06a_valida%C3%A7%C3%A3o_cruzada.ipynb\" target=\"_parent\"><img src=\"https://colab.research.google.com/assets/colab-badge.svg\" alt=\"Open In Colab\"/></a>"
      ]
    },
    {
      "cell_type": "code",
      "execution_count": 1,
      "metadata": {
        "id": "hhTc8cnDUo1e",
        "colab": {
          "base_uri": "https://localhost:8080/"
        },
        "outputId": "4d5fec71-0193-49c8-dfe0-c81df2a38d3e"
      },
      "outputs": [
        {
          "output_type": "stream",
          "name": "stdout",
          "text": [
            "0.37258347978910367\n",
            "0.37142857142857144\n",
            "0.37719298245614036\n"
          ]
        }
      ],
      "source": [
        "from sklearn.datasets import load_breast_cancer\n",
        "from sklearn.model_selection import train_test_split\n",
        "\n",
        "dataset = load_breast_cancer()\n",
        "X, y = dataset.data, dataset.target\n",
        "# inverte classes\n",
        "target_names = dataset['target_names']\n",
        "target_names[0], target_names[1] = target_names[1], target_names[0]\n",
        "y = y*(-1)+1\n",
        "X_train, X_test, y_train, y_test = train_test_split(X, y, test_size=0.2, random_state=42)\n",
        "\n",
        "print(sum(y)/len(y))\n",
        "print(sum(y_train)/len(y_train))\n",
        "print(sum(y_test)/len(y_test))"
      ]
    },
    {
      "cell_type": "code",
      "source": [
        "from sklearn.neighbors import KNeighborsClassifier\n",
        "from sklearn.metrics import accuracy_score\n",
        "\n",
        "model = KNeighborsClassifier(n_neighbors=1)\n",
        "model.fit(X_train, y_train)\n",
        "y_pred = model.predict(X_train)\n",
        "acc = accuracy_score(y_train, y_pred)\n",
        "print(acc)"
      ],
      "metadata": {
        "colab": {
          "base_uri": "https://localhost:8080/"
        },
        "id": "T2LXqez14_Ut",
        "outputId": "4e4e6542-d001-468d-ebd4-105cc2c79ab0"
      },
      "execution_count": 2,
      "outputs": [
        {
          "output_type": "stream",
          "name": "stdout",
          "text": [
            "1.0\n"
          ]
        }
      ]
    },
    {
      "cell_type": "code",
      "source": [
        "y_pred = model.predict(X_test)\n",
        "acc = accuracy_score(y_test, y_pred)\n",
        "print(acc)"
      ],
      "metadata": {
        "colab": {
          "base_uri": "https://localhost:8080/"
        },
        "id": "R2eCxOnE6QJU",
        "outputId": "e6d0457a-02b7-4858-90c7-c63875584b63"
      },
      "execution_count": 3,
      "outputs": [
        {
          "output_type": "stream",
          "name": "stdout",
          "text": [
            "0.9298245614035088\n"
          ]
        }
      ]
    },
    {
      "cell_type": "code",
      "source": [
        "model = KNeighborsClassifier(n_neighbors=5)\n",
        "model.fit(X_train, y_train)\n",
        "y_pred = model.predict(X_train)\n",
        "acc = accuracy_score(y_train, y_pred)\n",
        "print(acc)\n",
        "y_pred = model.predict(X_test)\n",
        "acc = accuracy_score(y_test, y_pred)\n",
        "print(acc)"
      ],
      "metadata": {
        "colab": {
          "base_uri": "https://localhost:8080/"
        },
        "id": "MUHtSKG16cts",
        "outputId": "0a3b3db7-55ff-4f63-92aa-32458370fedc"
      },
      "execution_count": 4,
      "outputs": [
        {
          "output_type": "stream",
          "name": "stdout",
          "text": [
            "0.9406593406593406\n",
            "0.956140350877193\n"
          ]
        }
      ]
    },
    {
      "cell_type": "code",
      "source": [
        "X_train, X_test, y_train, y_test = train_test_split(X, y, test_size=0.2, random_state=None)\n",
        "models = [KNeighborsClassifier(n_neighbors=1), KNeighborsClassifier(n_neighbors=5)]\n",
        "for model in models:\n",
        "    model.fit(X_train, y_train)\n",
        "    y_pred = model.predict(X_test)\n",
        "    acc = accuracy_score(y_test, y_pred)\n",
        "    print(acc)"
      ],
      "metadata": {
        "colab": {
          "base_uri": "https://localhost:8080/"
        },
        "id": "-CUn-zdQ6y6s",
        "outputId": "68eca44b-b2f7-4f82-baa3-8d43dedf702a"
      },
      "execution_count": 17,
      "outputs": [
        {
          "output_type": "stream",
          "name": "stdout",
          "text": [
            "0.9210526315789473\n",
            "0.9035087719298246\n"
          ]
        }
      ]
    },
    {
      "cell_type": "markdown",
      "source": [
        "# adendo numpy"
      ],
      "metadata": {
        "id": "QtCRoFay83pY"
      }
    },
    {
      "cell_type": "code",
      "source": [
        "type(X)"
      ],
      "metadata": {
        "colab": {
          "base_uri": "https://localhost:8080/"
        },
        "id": "VFlc73j28wX4",
        "outputId": "47e3e5a2-4ab4-4c67-a9c6-28ea53450a2c"
      },
      "execution_count": 19,
      "outputs": [
        {
          "output_type": "execute_result",
          "data": {
            "text/plain": [
              "numpy.ndarray"
            ]
          },
          "metadata": {},
          "execution_count": 19
        }
      ]
    },
    {
      "cell_type": "code",
      "source": [
        "type(X.shape)"
      ],
      "metadata": {
        "colab": {
          "base_uri": "https://localhost:8080/"
        },
        "id": "XS4tOS6282sY",
        "outputId": "f21dd088-8290-4034-c8af-751cb48bfd48"
      },
      "execution_count": 20,
      "outputs": [
        {
          "output_type": "execute_result",
          "data": {
            "text/plain": [
              "tuple"
            ]
          },
          "metadata": {},
          "execution_count": 20
        }
      ]
    },
    {
      "cell_type": "code",
      "source": [
        "X.shape"
      ],
      "metadata": {
        "colab": {
          "base_uri": "https://localhost:8080/"
        },
        "id": "AXMrLpip8-vQ",
        "outputId": "c20f6f27-d0d9-4008-cc57-009f5002b7a1"
      },
      "execution_count": 21,
      "outputs": [
        {
          "output_type": "execute_result",
          "data": {
            "text/plain": [
              "(569, 30)"
            ]
          },
          "metadata": {},
          "execution_count": 21
        }
      ]
    },
    {
      "cell_type": "code",
      "source": [
        "import numpy as np\n",
        "vetor = np.array([1,2,3])\n",
        "vetor.shape"
      ],
      "metadata": {
        "colab": {
          "base_uri": "https://localhost:8080/"
        },
        "id": "IeebRoHY9Aqo",
        "outputId": "3a7be94b-734a-4941-ee74-ecf057b71705"
      },
      "execution_count": 24,
      "outputs": [
        {
          "output_type": "execute_result",
          "data": {
            "text/plain": [
              "(3,)"
            ]
          },
          "metadata": {},
          "execution_count": 24
        }
      ]
    },
    {
      "cell_type": "code",
      "source": [
        "matriz3d = np.array([[[1,2,3],[4,5,6],[7,8,9]],[[1,2,3],[4,5,6],[7,8,9]],[[1,2,3],[4,5,6],[7,8,9]]])\n",
        "matriz3d.shape"
      ],
      "metadata": {
        "colab": {
          "base_uri": "https://localhost:8080/"
        },
        "id": "1qVNgYkP9bwY",
        "outputId": "cb76f558-e596-4e5f-d8bb-6ceba0505b75"
      },
      "execution_count": 25,
      "outputs": [
        {
          "output_type": "execute_result",
          "data": {
            "text/plain": [
              "(3, 3, 3)"
            ]
          },
          "metadata": {},
          "execution_count": 25
        }
      ]
    },
    {
      "cell_type": "code",
      "source": [
        "matriz4d = np.array([[[[1,1,1],[2,2,2],[3,3,3]],[[4,4,4],[5,5,5],[6,6,6]],[[7,7,7],[8,8,8],[9,9,9]]],\n",
        "                     [[[1,1,1],[2,2,2],[3,3,3]],[[4,4,4],[5,5,5],[6,6,6]],[[7,7,7],[8,8,8],[9,9,9]]]])\n",
        "matriz4d.shape"
      ],
      "metadata": {
        "colab": {
          "base_uri": "https://localhost:8080/"
        },
        "id": "nl63xoVu9xZP",
        "outputId": "e681cdf1-f028-459f-df58-e44c67d84f6b"
      },
      "execution_count": 27,
      "outputs": [
        {
          "output_type": "execute_result",
          "data": {
            "text/plain": [
              "(2, 3, 3, 3)"
            ]
          },
          "metadata": {},
          "execution_count": 27
        }
      ]
    },
    {
      "cell_type": "markdown",
      "source": [
        "# validação cruzada"
      ],
      "metadata": {
        "id": "Du4pCFKX-FjH"
      }
    },
    {
      "cell_type": "code",
      "source": [
        "idxs = range(X.shape[0])\n",
        "for i in range(5):\n",
        "  idx_b = i*X.shape[0]//5\n",
        "  idx_e = (i+1)*X.shape[0]//5\n",
        "  print(idxs[idx_b:idx_e], list(idxs[idx_b:idx_e]))"
      ],
      "metadata": {
        "colab": {
          "base_uri": "https://localhost:8080/"
        },
        "id": "QTqyl8zI8TZF",
        "outputId": "3da4858d-a310-422a-be17-a009e0dfb094"
      },
      "execution_count": 47,
      "outputs": [
        {
          "output_type": "stream",
          "name": "stdout",
          "text": [
            "range(0, 113) [0, 1, 2, 3, 4, 5, 6, 7, 8, 9, 10, 11, 12, 13, 14, 15, 16, 17, 18, 19, 20, 21, 22, 23, 24, 25, 26, 27, 28, 29, 30, 31, 32, 33, 34, 35, 36, 37, 38, 39, 40, 41, 42, 43, 44, 45, 46, 47, 48, 49, 50, 51, 52, 53, 54, 55, 56, 57, 58, 59, 60, 61, 62, 63, 64, 65, 66, 67, 68, 69, 70, 71, 72, 73, 74, 75, 76, 77, 78, 79, 80, 81, 82, 83, 84, 85, 86, 87, 88, 89, 90, 91, 92, 93, 94, 95, 96, 97, 98, 99, 100, 101, 102, 103, 104, 105, 106, 107, 108, 109, 110, 111, 112]\n",
            "range(113, 227) [113, 114, 115, 116, 117, 118, 119, 120, 121, 122, 123, 124, 125, 126, 127, 128, 129, 130, 131, 132, 133, 134, 135, 136, 137, 138, 139, 140, 141, 142, 143, 144, 145, 146, 147, 148, 149, 150, 151, 152, 153, 154, 155, 156, 157, 158, 159, 160, 161, 162, 163, 164, 165, 166, 167, 168, 169, 170, 171, 172, 173, 174, 175, 176, 177, 178, 179, 180, 181, 182, 183, 184, 185, 186, 187, 188, 189, 190, 191, 192, 193, 194, 195, 196, 197, 198, 199, 200, 201, 202, 203, 204, 205, 206, 207, 208, 209, 210, 211, 212, 213, 214, 215, 216, 217, 218, 219, 220, 221, 222, 223, 224, 225, 226]\n",
            "range(227, 341) [227, 228, 229, 230, 231, 232, 233, 234, 235, 236, 237, 238, 239, 240, 241, 242, 243, 244, 245, 246, 247, 248, 249, 250, 251, 252, 253, 254, 255, 256, 257, 258, 259, 260, 261, 262, 263, 264, 265, 266, 267, 268, 269, 270, 271, 272, 273, 274, 275, 276, 277, 278, 279, 280, 281, 282, 283, 284, 285, 286, 287, 288, 289, 290, 291, 292, 293, 294, 295, 296, 297, 298, 299, 300, 301, 302, 303, 304, 305, 306, 307, 308, 309, 310, 311, 312, 313, 314, 315, 316, 317, 318, 319, 320, 321, 322, 323, 324, 325, 326, 327, 328, 329, 330, 331, 332, 333, 334, 335, 336, 337, 338, 339, 340]\n",
            "range(341, 455) [341, 342, 343, 344, 345, 346, 347, 348, 349, 350, 351, 352, 353, 354, 355, 356, 357, 358, 359, 360, 361, 362, 363, 364, 365, 366, 367, 368, 369, 370, 371, 372, 373, 374, 375, 376, 377, 378, 379, 380, 381, 382, 383, 384, 385, 386, 387, 388, 389, 390, 391, 392, 393, 394, 395, 396, 397, 398, 399, 400, 401, 402, 403, 404, 405, 406, 407, 408, 409, 410, 411, 412, 413, 414, 415, 416, 417, 418, 419, 420, 421, 422, 423, 424, 425, 426, 427, 428, 429, 430, 431, 432, 433, 434, 435, 436, 437, 438, 439, 440, 441, 442, 443, 444, 445, 446, 447, 448, 449, 450, 451, 452, 453, 454]\n",
            "range(455, 569) [455, 456, 457, 458, 459, 460, 461, 462, 463, 464, 465, 466, 467, 468, 469, 470, 471, 472, 473, 474, 475, 476, 477, 478, 479, 480, 481, 482, 483, 484, 485, 486, 487, 488, 489, 490, 491, 492, 493, 494, 495, 496, 497, 498, 499, 500, 501, 502, 503, 504, 505, 506, 507, 508, 509, 510, 511, 512, 513, 514, 515, 516, 517, 518, 519, 520, 521, 522, 523, 524, 525, 526, 527, 528, 529, 530, 531, 532, 533, 534, 535, 536, 537, 538, 539, 540, 541, 542, 543, 544, 545, 546, 547, 548, 549, 550, 551, 552, 553, 554, 555, 556, 557, 558, 559, 560, 561, 562, 563, 564, 565, 566, 567, 568]\n"
          ]
        }
      ]
    },
    {
      "cell_type": "code",
      "source": [
        "model = KNeighborsClassifier()\n",
        "\n",
        "idxs = range(X.shape[0])\n",
        "acc_total = 0\n",
        "for i in range(5):\n",
        "  idx_b = i*X.shape[0]//5\n",
        "  idx_e = (i+1)*X.shape[0]//5\n",
        "\n",
        "  X_train_fold = np.delete(X, idxs[idx_b:idx_e], axis=0)\n",
        "  y_train_fold = np.delete(y, idxs[idx_b:idx_e], axis=0)\n",
        "  model.fit(X_train_fold, y_train_fold)\n",
        "\n",
        "  X_test_fold = X[idxs[idx_b:idx_e]]\n",
        "  y_test_fold = y[idxs[idx_b:idx_e]]\n",
        "  y_pred = model.predict(X_test_fold)\n",
        "  acc = accuracy_score(y_test_fold, y_pred)\n",
        "  print(acc)\n",
        "  acc_total += acc\n",
        "\n",
        "print(f\"\\n{acc_total/5}\")"
      ],
      "metadata": {
        "colab": {
          "base_uri": "https://localhost:8080/"
        },
        "id": "BHae1Jo_AimM",
        "outputId": "e7d25e17-c1a5-47e0-cba4-3ea6b0dc89b8"
      },
      "execution_count": 63,
      "outputs": [
        {
          "output_type": "stream",
          "name": "stdout",
          "text": [
            "0.8584070796460177\n",
            "0.9210526315789473\n",
            "0.9649122807017544\n",
            "0.9473684210526315\n",
            "0.9385964912280702\n",
            "\n",
            "0.9260673808414843\n"
          ]
        }
      ]
    },
    {
      "cell_type": "markdown",
      "source": [
        "# shuffle"
      ],
      "metadata": {
        "id": "xmTQKYA5Bt_7"
      }
    },
    {
      "cell_type": "code",
      "source": [
        "model = KNeighborsClassifier()\n",
        "\n",
        "idxs = list(range(X.shape[0]))\n",
        "np.random.shuffle(idxs)\n",
        "acc_total = 0\n",
        "for i in range(5):\n",
        "  idx_b = i*X.shape[0]//5\n",
        "  idx_e = (i+1)*X.shape[0]//5\n",
        "\n",
        "  X_train_fold = np.delete(X, idxs[idx_b:idx_e], axis=0)\n",
        "  y_train_fold = np.delete(y, idxs[idx_b:idx_e], axis=0)\n",
        "  model.fit(X_train_fold, y_train_fold)\n",
        "\n",
        "  X_test_fold = X[idxs[idx_b:idx_e]]\n",
        "  y_test_fold = y[idxs[idx_b:idx_e]]\n",
        "  y_pred = model.predict(X_test_fold)\n",
        "  acc = accuracy_score(y_test_fold, y_pred)\n",
        "  print(acc)\n",
        "  acc_total += acc\n",
        "\n",
        "print(f\"\\n{acc_total/5}\")"
      ],
      "metadata": {
        "colab": {
          "base_uri": "https://localhost:8080/"
        },
        "id": "6B9RWMzGBvyE",
        "outputId": "955dcd2b-3f72-4c21-ed15-3ea65c1cc761"
      },
      "execution_count": 75,
      "outputs": [
        {
          "output_type": "stream",
          "name": "stdout",
          "text": [
            "0.9380530973451328\n",
            "0.9122807017543859\n",
            "0.956140350877193\n",
            "0.9122807017543859\n",
            "0.9298245614035088\n",
            "\n",
            "0.9297158826269213\n"
          ]
        }
      ]
    },
    {
      "cell_type": "code",
      "source": [
        "from sklearn.model_selection import KFold\n",
        "\n",
        "splitter = KFold(n_splits=5, shuffle=False)\n",
        "acc_total = 0\n",
        "for train_idx, test_idx in splitter.split(X):\n",
        "  model = KNeighborsClassifier()\n",
        "  model.fit(X[train_idx], y[train_idx])\n",
        "  y_pred = model.predict(X[test_idx])\n",
        "  acc = accuracy_score(y[test_idx], y_pred)\n",
        "  print(acc)\n",
        "  acc_total += acc\n",
        "\n",
        "print(f\"\\n{acc_total/5}\")"
      ],
      "metadata": {
        "colab": {
          "base_uri": "https://localhost:8080/"
        },
        "id": "Mz2Rxx6vCs4h",
        "outputId": "4107f398-dfe7-4ba6-f680-ca56629920fa"
      },
      "execution_count": 85,
      "outputs": [
        {
          "output_type": "stream",
          "name": "stdout",
          "text": [
            "0.8596491228070176\n",
            "0.9210526315789473\n",
            "0.9649122807017544\n",
            "0.9473684210526315\n",
            "0.9380530973451328\n",
            "\n",
            "0.9262071106970966\n"
          ]
        }
      ]
    },
    {
      "cell_type": "code",
      "source": [
        "from sklearn.model_selection import cross_validate\n",
        "\n",
        "model = KNeighborsClassifier()\n",
        "results = cross_validate(model, X, y, cv=5)\n",
        "print(results['test_score'])\n",
        "print(np.mean(results['test_score']))"
      ],
      "metadata": {
        "colab": {
          "base_uri": "https://localhost:8080/"
        },
        "id": "O5RimL4oDJ9Z",
        "outputId": "d9ad0748-8aac-4429-bd9a-47f8531ce2fc"
      },
      "execution_count": 91,
      "outputs": [
        {
          "output_type": "stream",
          "name": "stdout",
          "text": [
            "[0.88596491 0.93859649 0.93859649 0.94736842 0.92920354]\n",
            "0.9279459711224964\n"
          ]
        }
      ]
    },
    {
      "cell_type": "code",
      "source": [
        "from sklearn.model_selection import KFold\n",
        "\n",
        "splitter = KFold(n_splits=5)\n",
        "results = cross_validate(model, X, y, cv=splitter)\n",
        "print(results['test_score'])\n",
        "print(np.mean(results['test_score']))"
      ],
      "metadata": {
        "colab": {
          "base_uri": "https://localhost:8080/"
        },
        "id": "girOuLBADZgw",
        "outputId": "9fda58ae-02f8-4acf-b893-0a302bdd434d"
      },
      "execution_count": 92,
      "outputs": [
        {
          "output_type": "stream",
          "name": "stdout",
          "text": [
            "[0.85964912 0.92105263 0.96491228 0.94736842 0.9380531 ]\n",
            "0.9262071106970966\n"
          ]
        }
      ]
    },
    {
      "cell_type": "code",
      "source": [
        "splitter = KFold(n_splits=5, shuffle=True)\n",
        "results = cross_validate(model, X, y, cv=splitter)\n",
        "print(results['test_score'])\n",
        "print(np.mean(results['test_score']))"
      ],
      "metadata": {
        "colab": {
          "base_uri": "https://localhost:8080/"
        },
        "id": "uq-TQL72DwXY",
        "outputId": "77c0d0b3-e6cc-497d-d6cb-df419c830359"
      },
      "execution_count": 105,
      "outputs": [
        {
          "output_type": "stream",
          "name": "stdout",
          "text": [
            "[0.93859649 0.93859649 0.9122807  0.94736842 0.91150442]\n",
            "0.9296693060083838\n"
          ]
        }
      ]
    },
    {
      "cell_type": "markdown",
      "source": [
        "# extratificação"
      ],
      "metadata": {
        "id": "GGF3EUljD9En"
      }
    },
    {
      "cell_type": "code",
      "source": [
        "from sklearn.model_selection import StratifiedKFold\n",
        "\n",
        "splitter = StratifiedKFold(n_splits=5, shuffle=True)\n",
        "results = cross_validate(model, X, y, cv=splitter)\n",
        "print(results['test_score'])\n",
        "print(np.mean(results['test_score']))"
      ],
      "metadata": {
        "colab": {
          "base_uri": "https://localhost:8080/"
        },
        "id": "DQ1JGT32D7JQ",
        "outputId": "cefda513-0b10-4c19-cb05-b8ae58bbeb33"
      },
      "execution_count": 115,
      "outputs": [
        {
          "output_type": "stream",
          "name": "stdout",
          "text": [
            "[0.9122807  0.95614035 0.94736842 0.92105263 0.92920354]\n",
            "0.9332091290172333\n"
          ]
        }
      ]
    },
    {
      "cell_type": "markdown",
      "source": [
        "# repeated cross-validation"
      ],
      "metadata": {
        "id": "TPvfKg8-DaQg"
      }
    },
    {
      "cell_type": "code",
      "source": [
        "from sklearn.model_selection import RepeatedStratifiedKFold\n",
        "\n",
        "splitter = RepeatedStratifiedKFold(n_splits=5, n_repeats=10)\n",
        "results = cross_validate(model, X, y, cv=splitter)\n",
        "print(results['test_score'])\n",
        "print(np.mean(results['test_score']))"
      ],
      "metadata": {
        "colab": {
          "base_uri": "https://localhost:8080/"
        },
        "id": "Fsmb2ofrEQkA",
        "outputId": "d49543b5-d699-4d42-dc49-111d15dfb0c6"
      },
      "execution_count": 121,
      "outputs": [
        {
          "output_type": "stream",
          "name": "stdout",
          "text": [
            "[0.92982456 0.89473684 0.92982456 0.93859649 0.96460177 0.93859649\n",
            " 0.92105263 0.92982456 0.93859649 0.96460177 0.92982456 0.93859649\n",
            " 0.89473684 0.93859649 0.96460177 0.92982456 0.9122807  0.94736842\n",
            " 0.94736842 0.92035398 0.94736842 0.92105263 0.89473684 0.92982456\n",
            " 0.92035398 0.93859649 0.88596491 0.9122807  0.94736842 0.97345133\n",
            " 0.90350877 0.94736842 0.92105263 0.92982456 0.96460177 0.88596491\n",
            " 0.96491228 0.96491228 0.92982456 0.90265487 0.97368421 0.92105263\n",
            " 0.90350877 0.94736842 0.92920354 0.92105263 0.96491228 0.93859649\n",
            " 0.88596491 0.92920354]\n",
            "0.9314795839155409\n"
          ]
        }
      ]
    },
    {
      "cell_type": "code",
      "source": [
        "model1 = KNeighborsClassifier(n_neighbors=1)\n",
        "model2 = KNeighborsClassifier(n_neighbors=5)\n",
        "\n",
        "results1 = cross_validate(model1, X, y, cv=splitter)\n",
        "results2 = cross_validate(model2, X, y, cv=splitter)\n",
        "\n",
        "print(np.mean(results1['test_score']))\n",
        "print(np.mean(results2['test_score']))\n"
      ],
      "metadata": {
        "colab": {
          "base_uri": "https://localhost:8080/"
        },
        "id": "VhePbnKEEdO4",
        "outputId": "5b051b1a-8237-40fe-a924-7e6cead6ef9e"
      },
      "execution_count": 127,
      "outputs": [
        {
          "output_type": "stream",
          "name": "stdout",
          "text": [
            "0.9166852973140815\n",
            "0.931454743052321\n"
          ]
        }
      ]
    },
    {
      "cell_type": "markdown",
      "source": [
        "# teste de significância estatística"
      ],
      "metadata": {
        "id": "wy7xXCYWE1SP"
      }
    },
    {
      "cell_type": "code",
      "source": [
        "from scipy.stats import ttest_ind\n",
        "\n",
        "t_statistic, p_value = ttest_ind(results1['test_score'], results2['test_score'])\n",
        "print(\"t_statistic\", t_statistic)\n",
        "print(\"p_value\", p_value)\n",
        "\n",
        "print()\n",
        "alpha = 0.05\n",
        "if p_value < alpha:\n",
        "  print(\"Hipótese nula rejeitada\")\n",
        "else:\n",
        "  print(\"Hipótese nula não rejeitada\")"
      ],
      "metadata": {
        "colab": {
          "base_uri": "https://localhost:8080/"
        },
        "id": "gR5e1KsJE4JH",
        "outputId": "49fdb7f2-25a0-49cf-8c72-a3d929a245c1"
      },
      "execution_count": 130,
      "outputs": [
        {
          "output_type": "stream",
          "name": "stdout",
          "text": [
            "t_statistic -3.88007672208536\n",
            "p_value 0.00018929633486295262\n",
            "\n",
            "Hipótese nula rejeitada\n"
          ]
        }
      ]
    }
  ]
}