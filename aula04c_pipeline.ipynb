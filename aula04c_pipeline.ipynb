{
  "nbformat": 4,
  "nbformat_minor": 0,
  "metadata": {
    "colab": {
      "provenance": [],
      "authorship_tag": "ABX9TyPQxtJtMPSnQs/s7sQuto3R",
      "include_colab_link": true
    },
    "kernelspec": {
      "name": "python3",
      "display_name": "Python 3"
    },
    "language_info": {
      "name": "python"
    }
  },
  "cells": [
    {
      "cell_type": "markdown",
      "metadata": {
        "id": "view-in-github",
        "colab_type": "text"
      },
      "source": [
        "<a href=\"https://colab.research.google.com/github/fboldt/aulas-am-bsi/blob/main/aula04c_pipeline.ipynb\" target=\"_parent\"><img src=\"https://colab.research.google.com/assets/colab-badge.svg\" alt=\"Open In Colab\"/></a>"
      ]
    },
    {
      "cell_type": "code",
      "execution_count": 92,
      "metadata": {
        "id": "L10BWy6SDrNo"
      },
      "outputs": [],
      "source": [
        "from sklearn.datasets import fetch_california_housing\n",
        "data = fetch_california_housing()"
      ]
    },
    {
      "cell_type": "code",
      "source": [
        "from sklearn.model_selection import train_test_split\n",
        "\n",
        "Xtr, Xte, ytr, yte = train_test_split(data['data'], data['target'], random_state=42)\n",
        "print(Xtr.shape, Xte.shape, ytr.shape, yte.shape)"
      ],
      "metadata": {
        "colab": {
          "base_uri": "https://localhost:8080/"
        },
        "id": "pOoGFJJAKD-z",
        "outputId": "e7bd5196-bdbc-4ced-9e4d-eacfd931a1e7"
      },
      "execution_count": 93,
      "outputs": [
        {
          "output_type": "stream",
          "name": "stdout",
          "text": [
            "(15480, 8) (5160, 8) (15480,) (5160,)\n"
          ]
        }
      ]
    },
    {
      "cell_type": "code",
      "source": [
        "from sklearn.preprocessing import StandardScaler\n",
        "from sklearn.linear_model import LinearRegression\n",
        "from sklearn.pipeline import make_pipeline\n",
        "from sklearn.metrics import root_mean_squared_error\n",
        "\n",
        "model = make_pipeline(StandardScaler(), LinearRegression())\n",
        "model.fit(Xtr, ytr)\n",
        "ypred = model.predict(Xte)\n",
        "print(root_mean_squared_error(yte, ypred))"
      ],
      "metadata": {
        "colab": {
          "base_uri": "https://localhost:8080/"
        },
        "id": "GLMcVQ40AJiT",
        "outputId": "c6157bad-57f8-4e9e-eff5-e6665a1330a1"
      },
      "execution_count": 106,
      "outputs": [
        {
          "output_type": "stream",
          "name": "stdout",
          "text": [
            "0.7356145375446769\n"
          ]
        }
      ]
    },
    {
      "cell_type": "code",
      "source": [
        "from sklearn.svm import LinearSVR\n",
        "\n",
        "model = make_pipeline(StandardScaler(), LinearSVR(random_state=42, max_iter=5000))\n",
        "model.fit(Xtr, ytr)\n",
        "ypred = model.predict(Xte)\n",
        "print(root_mean_squared_error(yte, ypred))"
      ],
      "metadata": {
        "colab": {
          "base_uri": "https://localhost:8080/"
        },
        "id": "eLAP5pEwAsDa",
        "outputId": "06e950b2-ca64-43b2-f764-0dc094c6a119"
      },
      "execution_count": 109,
      "outputs": [
        {
          "output_type": "stream",
          "name": "stdout",
          "text": [
            "0.7570921837613905\n"
          ]
        }
      ]
    },
    {
      "cell_type": "code",
      "source": [
        "from sklearn.linear_model import SGDRegressor\n",
        "\n",
        "model = make_pipeline(StandardScaler(), SGDRegressor())\n",
        "model.fit(Xtr, ytr)\n",
        "ypred = model.predict(Xte)\n",
        "print(root_mean_squared_error(yte, ypred))"
      ],
      "metadata": {
        "colab": {
          "base_uri": "https://localhost:8080/"
        },
        "id": "78TM6Ne6BY0b",
        "outputId": "3dc05902-4f7e-411b-b552-673b6bb5289a"
      },
      "execution_count": 110,
      "outputs": [
        {
          "output_type": "stream",
          "name": "stdout",
          "text": [
            "0.7309859349913117\n"
          ]
        }
      ]
    },
    {
      "cell_type": "code",
      "source": [
        "from sklearn.neighbors import KNeighborsRegressor\n",
        "\n",
        "model = make_pipeline(StandardScaler(), KNeighborsRegressor())\n",
        "model.fit(Xtr, ytr)\n",
        "ypred = model.predict(Xte)\n",
        "print(root_mean_squared_error(yte, ypred))"
      ],
      "metadata": {
        "colab": {
          "base_uri": "https://localhost:8080/"
        },
        "id": "oVTYc2FxBoqg",
        "outputId": "fb23c733-aea4-4fd8-ab7b-6c5433be22ee"
      },
      "execution_count": 111,
      "outputs": [
        {
          "output_type": "stream",
          "name": "stdout",
          "text": [
            "0.6570317671884894\n"
          ]
        }
      ]
    },
    {
      "cell_type": "code",
      "source": [
        "from sklearn.tree import DecisionTreeRegressor\n",
        "\n",
        "model = make_pipeline(StandardScaler(), DecisionTreeRegressor())\n",
        "model.fit(Xtr, ytr)\n",
        "ypred = model.predict(Xte)\n",
        "print(root_mean_squared_error(yte, ypred))"
      ],
      "metadata": {
        "colab": {
          "base_uri": "https://localhost:8080/"
        },
        "id": "w6j26rmfB1Vh",
        "outputId": "c08eb48b-0725-449b-fd8a-982f06315989"
      },
      "execution_count": 112,
      "outputs": [
        {
          "output_type": "stream",
          "name": "stdout",
          "text": [
            "0.7288807436619262\n"
          ]
        }
      ]
    },
    {
      "cell_type": "code",
      "source": [
        "from sklearn.ensemble import RandomForestRegressor\n",
        "\n",
        "model = make_pipeline(StandardScaler(), RandomForestRegressor())\n",
        "model.fit(Xtr, ytr)\n",
        "ypred = model.predict(Xte)\n",
        "print(root_mean_squared_error(yte, ypred))"
      ],
      "metadata": {
        "colab": {
          "base_uri": "https://localhost:8080/"
        },
        "id": "Sk_4XB7WCC3h",
        "outputId": "995cea93-aaaa-4ef4-eb23-b195de44f92a"
      },
      "execution_count": 113,
      "outputs": [
        {
          "output_type": "stream",
          "name": "stdout",
          "text": [
            "0.5045958930065679\n"
          ]
        }
      ]
    }
  ]
}