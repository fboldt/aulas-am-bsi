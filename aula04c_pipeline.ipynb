{
  "nbformat": 4,
  "nbformat_minor": 0,
  "metadata": {
    "colab": {
      "provenance": [],
      "authorship_tag": "ABX9TyMHQm2GgCurdE0i0J1ZU0HB",
      "include_colab_link": true
    },
    "kernelspec": {
      "name": "python3",
      "display_name": "Python 3"
    },
    "language_info": {
      "name": "python"
    }
  },
  "cells": [
    {
      "cell_type": "markdown",
      "metadata": {
        "id": "view-in-github",
        "colab_type": "text"
      },
      "source": [
        "<a href=\"https://colab.research.google.com/github/fboldt/aulas-am-bsi/blob/main/aula04c_pipeline.ipynb\" target=\"_parent\"><img src=\"https://colab.research.google.com/assets/colab-badge.svg\" alt=\"Open In Colab\"/></a>"
      ]
    },
    {
      "cell_type": "code",
      "execution_count": 92,
      "metadata": {
        "id": "L10BWy6SDrNo"
      },
      "outputs": [],
      "source": [
        "from sklearn.datasets import fetch_california_housing\n",
        "data = fetch_california_housing()"
      ]
    },
    {
      "cell_type": "code",
      "source": [
        "from sklearn.model_selection import train_test_split\n",
        "\n",
        "Xtr, Xte, ytr, yte = train_test_split(data['data'], data['target'], random_state=42)\n",
        "print(Xtr.shape, Xte.shape, ytr.shape, yte.shape)"
      ],
      "metadata": {
        "colab": {
          "base_uri": "https://localhost:8080/"
        },
        "id": "pOoGFJJAKD-z",
        "outputId": "e7bd5196-bdbc-4ced-9e4d-eacfd931a1e7"
      },
      "execution_count": 93,
      "outputs": [
        {
          "output_type": "stream",
          "name": "stdout",
          "text": [
            "(15480, 8) (5160, 8) (15480,) (5160,)\n"
          ]
        }
      ]
    },
    {
      "cell_type": "code",
      "source": [
        "from sklearn.preprocessing import StandardScaler\n",
        "scaler = StandardScaler()\n",
        "scaler.fit(Xtr)\n",
        "Xtr_norm = scaler.transform(Xtr)\n",
        "Xte_norm = scaler.transform(Xte)"
      ],
      "metadata": {
        "id": "EV-AcVbG7oyV"
      },
      "execution_count": 102,
      "outputs": []
    },
    {
      "cell_type": "code",
      "source": [
        "from sklearn.linear_model import LinearRegression\n",
        "from sklearn.metrics import root_mean_squared_error\n",
        "\n",
        "model = LinearRegression()\n",
        "model.fit(Xtr_norm, ytr)\n",
        "ypred = model.predict(Xte_norm)\n",
        "print(root_mean_squared_error(yte, ypred))"
      ],
      "metadata": {
        "colab": {
          "base_uri": "https://localhost:8080/"
        },
        "id": "lBIsRo08_fWL",
        "outputId": "6e6144b2-dcc6-431a-c905-b7a86d59f881"
      },
      "execution_count": 104,
      "outputs": [
        {
          "output_type": "stream",
          "name": "stdout",
          "text": [
            "0.7356145375446769\n"
          ]
        }
      ]
    },
    {
      "cell_type": "code",
      "source": [
        "from sklearn.pipeline import make_pipeline\n",
        "pipeline = make_pipeline(StandardScaler(), LinearRegression())\n",
        "pipeline.fit(Xtr, ytr)\n",
        "ypred = pipeline.predict(Xte)\n",
        "print(root_mean_squared_error(yte, ypred))"
      ],
      "metadata": {
        "colab": {
          "base_uri": "https://localhost:8080/"
        },
        "id": "hK6OAuZH_pv7",
        "outputId": "28f44776-a8cb-490b-e008-bffa18f6f79d"
      },
      "execution_count": 105,
      "outputs": [
        {
          "output_type": "stream",
          "name": "stdout",
          "text": [
            "0.7356145375446769\n"
          ]
        }
      ]
    }
  ]
}