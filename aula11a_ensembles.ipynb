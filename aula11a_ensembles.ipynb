{
  "nbformat": 4,
  "nbformat_minor": 0,
  "metadata": {
    "colab": {
      "provenance": [],
      "authorship_tag": "ABX9TyO3bfKsqO/uARwLr52QEZus",
      "include_colab_link": true
    },
    "kernelspec": {
      "name": "python3",
      "display_name": "Python 3"
    },
    "language_info": {
      "name": "python"
    }
  },
  "cells": [
    {
      "cell_type": "markdown",
      "metadata": {
        "id": "view-in-github",
        "colab_type": "text"
      },
      "source": [
        "<a href=\"https://colab.research.google.com/github/fboldt/aulas-am-bsi/blob/main/aula11a_ensembles.ipynb\" target=\"_parent\"><img src=\"https://colab.research.google.com/assets/colab-badge.svg\" alt=\"Open In Colab\"/></a>"
      ]
    },
    {
      "cell_type": "code",
      "execution_count": 2,
      "metadata": {
        "id": "XKy-IcOeBIFA"
      },
      "outputs": [],
      "source": [
        "from sklearn.datasets import fetch_olivetti_faces\n",
        "from sklearn.model_selection import train_test_split\n",
        "X, y = fetch_olivetti_faces(return_X_y=True)\n",
        "X_train, X_test, y_train, y_test = train_test_split(X, y, test_size=0.2, random_state=42)"
      ]
    },
    {
      "cell_type": "code",
      "source": [
        "from sklearn.preprocessing import StandardScaler\n",
        "scaler = StandardScaler()\n",
        "X_train = scaler.fit_transform(X_train)\n",
        "X_test = scaler.transform(X_test)"
      ],
      "metadata": {
        "id": "X3NfE4M_DPVn"
      },
      "execution_count": 4,
      "outputs": []
    },
    {
      "cell_type": "code",
      "source": [
        "from sklearn.neighbors import KNeighborsClassifier\n",
        "knn = KNeighborsClassifier(n_neighbors=5)\n",
        "knn.fit(X_train, y_train)\n",
        "knn_pred = knn.predict(X_test)\n",
        "knn_hits = (knn_pred == y_test)\n",
        "print(knn_hits)\n",
        "print(knn_hits.mean())"
      ],
      "metadata": {
        "colab": {
          "base_uri": "https://localhost:8080/"
        },
        "id": "hHpE3-buDdIP",
        "outputId": "c631e115-aadd-424c-dfd6-9736540ef51b"
      },
      "execution_count": 5,
      "outputs": [
        {
          "output_type": "stream",
          "name": "stdout",
          "text": [
            "[ True  True  True  True  True  True  True  True  True  True  True  True\n",
            "  True  True  True  True  True  True  True  True  True  True False False\n",
            "  True False False  True  True  True  True False  True  True  True  True\n",
            " False False  True  True  True  True  True  True  True  True  True  True\n",
            "  True  True  True  True  True  True  True  True  True  True  True False\n",
            "  True  True  True False  True False  True  True False  True  True  True\n",
            "  True  True  True  True  True  True  True  True]\n",
            "0.8625\n"
          ]
        }
      ]
    },
    {
      "cell_type": "code",
      "source": [
        "from sklearn.naive_bayes import GaussianNB\n",
        "gnb = GaussianNB()\n",
        "gnb.fit(X_train, y_train)\n",
        "gnb_pred = gnb.predict(X_test)\n",
        "gnb_hits = (gnb_pred == y_test)\n",
        "print(gnb_hits)\n",
        "print(gnb_hits.mean())"
      ],
      "metadata": {
        "colab": {
          "base_uri": "https://localhost:8080/"
        },
        "id": "dCC3Og7uD7v3",
        "outputId": "a73c2330-2354-4c63-bfcb-807cfbe3e0bf"
      },
      "execution_count": 6,
      "outputs": [
        {
          "output_type": "stream",
          "name": "stdout",
          "text": [
            "[ True  True  True  True  True  True  True  True  True False  True  True\n",
            "  True False  True False  True  True  True  True False  True  True  True\n",
            "  True  True  True  True  True False  True  True  True  True  True  True\n",
            " False  True  True  True  True  True False  True  True  True  True  True\n",
            "  True False  True  True  True False  True  True  True  True  True  True\n",
            "  True  True  True False  True  True  True False  True False  True  True\n",
            "  True  True  True  True  True  True False  True]\n",
            "0.8375\n"
          ]
        }
      ]
    },
    {
      "cell_type": "code",
      "source": [
        "from sklearn.linear_model import Perceptron\n",
        "ppn = Perceptron(eta0=0.1, random_state=42)\n",
        "ppn.fit(X_train, y_train)\n",
        "ppn_pred = ppn.predict(X_test)\n",
        "ppn_hits = (ppn_pred == y_test)\n",
        "print(ppn_hits)\n",
        "print(ppn_hits.mean())"
      ],
      "metadata": {
        "colab": {
          "base_uri": "https://localhost:8080/"
        },
        "id": "__XFq0W5EfFu",
        "outputId": "2ece11d9-b7e0-464b-b16b-28007d02c0d6"
      },
      "execution_count": 7,
      "outputs": [
        {
          "output_type": "stream",
          "name": "stdout",
          "text": [
            "[ True  True  True  True  True  True  True  True  True  True False  True\n",
            "  True  True  True  True  True  True  True  True  True  True  True  True\n",
            "  True  True  True  True  True  True  True  True  True  True  True  True\n",
            " False  True False  True False  True  True False  True  True  True  True\n",
            "  True  True False  True  True  True  True False  True  True  True  True\n",
            "  True  True False  True  True  True  True False  True  True  True  True\n",
            " False  True  True  True  True  True  True  True]\n",
            "0.875\n"
          ]
        }
      ]
    },
    {
      "cell_type": "code",
      "source": [
        "import numpy as np\n",
        "hits = np.stack([knn_hits, gnb_hits, ppn_hits])\n",
        "print(hits.T)"
      ],
      "metadata": {
        "colab": {
          "base_uri": "https://localhost:8080/"
        },
        "id": "CURH_F6hEuQ2",
        "outputId": "7d4ca67a-95a1-4754-fd0f-94132deaa22f"
      },
      "execution_count": 8,
      "outputs": [
        {
          "output_type": "stream",
          "name": "stdout",
          "text": [
            "[[ True  True  True]\n",
            " [ True  True  True]\n",
            " [ True  True  True]\n",
            " [ True  True  True]\n",
            " [ True  True  True]\n",
            " [ True  True  True]\n",
            " [ True  True  True]\n",
            " [ True  True  True]\n",
            " [ True  True  True]\n",
            " [ True False  True]\n",
            " [ True  True False]\n",
            " [ True  True  True]\n",
            " [ True  True  True]\n",
            " [ True False  True]\n",
            " [ True  True  True]\n",
            " [ True False  True]\n",
            " [ True  True  True]\n",
            " [ True  True  True]\n",
            " [ True  True  True]\n",
            " [ True  True  True]\n",
            " [ True False  True]\n",
            " [ True  True  True]\n",
            " [False  True  True]\n",
            " [False  True  True]\n",
            " [ True  True  True]\n",
            " [False  True  True]\n",
            " [False  True  True]\n",
            " [ True  True  True]\n",
            " [ True  True  True]\n",
            " [ True False  True]\n",
            " [ True  True  True]\n",
            " [False  True  True]\n",
            " [ True  True  True]\n",
            " [ True  True  True]\n",
            " [ True  True  True]\n",
            " [ True  True  True]\n",
            " [False False False]\n",
            " [False  True  True]\n",
            " [ True  True False]\n",
            " [ True  True  True]\n",
            " [ True  True False]\n",
            " [ True  True  True]\n",
            " [ True False  True]\n",
            " [ True  True False]\n",
            " [ True  True  True]\n",
            " [ True  True  True]\n",
            " [ True  True  True]\n",
            " [ True  True  True]\n",
            " [ True  True  True]\n",
            " [ True False  True]\n",
            " [ True  True False]\n",
            " [ True  True  True]\n",
            " [ True  True  True]\n",
            " [ True False  True]\n",
            " [ True  True  True]\n",
            " [ True  True False]\n",
            " [ True  True  True]\n",
            " [ True  True  True]\n",
            " [ True  True  True]\n",
            " [False  True  True]\n",
            " [ True  True  True]\n",
            " [ True  True  True]\n",
            " [ True  True False]\n",
            " [False False  True]\n",
            " [ True  True  True]\n",
            " [False  True  True]\n",
            " [ True  True  True]\n",
            " [ True False False]\n",
            " [False  True  True]\n",
            " [ True False  True]\n",
            " [ True  True  True]\n",
            " [ True  True  True]\n",
            " [ True  True False]\n",
            " [ True  True  True]\n",
            " [ True  True  True]\n",
            " [ True  True  True]\n",
            " [ True  True  True]\n",
            " [ True  True  True]\n",
            " [ True False  True]\n",
            " [ True  True  True]]\n"
          ]
        }
      ]
    },
    {
      "cell_type": "code",
      "source": [
        "y_pred = np.array([knn_pred, gnb_pred, ppn_pred])\n",
        "print(y_pred.T)"
      ],
      "metadata": {
        "colab": {
          "base_uri": "https://localhost:8080/"
        },
        "id": "BnU4HuIcFWxO",
        "outputId": "de997bce-b3e2-40cc-b30c-b394f55aefef"
      },
      "execution_count": 12,
      "outputs": [
        {
          "output_type": "stream",
          "name": "stdout",
          "text": [
            "[[20 20 20]\n",
            " [28 28 28]\n",
            " [ 3  3  3]\n",
            " [21 21 21]\n",
            " [ 9  9  9]\n",
            " [ 8  8  8]\n",
            " [32 32 32]\n",
            " [ 9  9  9]\n",
            " [26 26 26]\n",
            " [12 16 12]\n",
            " [ 0  0 36]\n",
            " [36 36 36]\n",
            " [ 5  5  5]\n",
            " [ 7 15  7]\n",
            " [13 13 13]\n",
            " [ 4 34  4]\n",
            " [27 27 27]\n",
            " [37 37 37]\n",
            " [23 23 23]\n",
            " [38 38 38]\n",
            " [ 7  9  7]\n",
            " [ 1  1  1]\n",
            " [ 4 39 39]\n",
            " [25 27 27]\n",
            " [ 0  0  0]\n",
            " [ 3 39 39]\n",
            " [ 8 11 11]\n",
            " [22 22 22]\n",
            " [26 26 26]\n",
            " [10 15 10]\n",
            " [39 39 39]\n",
            " [14 19 19]\n",
            " [26 26 26]\n",
            " [ 5  5  5]\n",
            " [23 23 23]\n",
            " [11 11 11]\n",
            " [12 25 13]\n",
            " [20 34 34]\n",
            " [15 15 34]\n",
            " [14 14 14]\n",
            " [38 38 18]\n",
            " [ 5  5  5]\n",
            " [ 7  9  7]\n",
            " [ 2  2  9]\n",
            " [ 8  8  8]\n",
            " [38 38 38]\n",
            " [14 14 14]\n",
            " [18 18 18]\n",
            " [ 2  2  2]\n",
            " [17 39 17]\n",
            " [ 4  4 33]\n",
            " [32 32 32]\n",
            " [33 33 33]\n",
            " [ 7  9  7]\n",
            " [37 37 37]\n",
            " [ 3  3 24]\n",
            " [22 22 22]\n",
            " [17 17 17]\n",
            " [ 3  3  3]\n",
            " [ 0 15 15]\n",
            " [12 12 12]\n",
            " [29 29 29]\n",
            " [25 25 32]\n",
            " [17  0  7]\n",
            " [10 10 10]\n",
            " [14  3  3]\n",
            " [35 35 35]\n",
            " [26 12 27]\n",
            " [37 39 39]\n",
            " [ 7  9  7]\n",
            " [32 32 32]\n",
            " [14 14 14]\n",
            " [ 0  0 34]\n",
            " [ 4  4  4]\n",
            " [38 38 38]\n",
            " [24 24 24]\n",
            " [22 22 22]\n",
            " [36 36 36]\n",
            " [17  9 17]\n",
            " [28 28 28]]\n"
          ]
        }
      ]
    },
    {
      "cell_type": "code",
      "source": [
        "from scipy.stats import mode\n",
        "y_pred_mode, _ = mode(y_pred, axis=0)\n",
        "vote_hits = (y_pred_mode == y_test)\n",
        "print(vote_hits)\n",
        "print(vote_hits.mean())"
      ],
      "metadata": {
        "colab": {
          "base_uri": "https://localhost:8080/"
        },
        "id": "9Q8eg-w1GAuW",
        "outputId": "3dbd23b9-e6e5-4cad-b97c-01f985991023"
      },
      "execution_count": 13,
      "outputs": [
        {
          "output_type": "stream",
          "name": "stdout",
          "text": [
            "[ True  True  True  True  True  True  True  True  True  True  True  True\n",
            "  True  True  True  True  True  True  True  True  True  True  True  True\n",
            "  True  True  True  True  True  True  True  True  True  True  True  True\n",
            " False  True  True  True  True  True  True  True  True  True  True  True\n",
            "  True  True  True  True  True  True  True  True  True  True  True  True\n",
            "  True  True  True False  True  True  True False  True  True  True  True\n",
            "  True  True  True  True  True  True  True  True]\n",
            "0.9625\n"
          ]
        }
      ]
    },
    {
      "cell_type": "code",
      "source": [
        "from sklearn.base import BaseEstimator, ClassifierMixin\n",
        "\n",
        "class MajorityVoteClassifier(BaseEstimator, ClassifierMixin):\n",
        "    def __init__(self, classifiers):\n",
        "        self.classifiers = classifiers\n",
        "\n",
        "    def fit(self, X, y):\n",
        "        for _, clf in self.classifiers:\n",
        "            clf.fit(X, y)\n",
        "        return self\n",
        "\n",
        "    def predict(self, X):\n",
        "        y_preds = np.array([clf.predict(X) for _, clf in self.classifiers])\n",
        "        y_pred_mode, _ = mode(y_preds, axis=0)\n",
        "        return y_pred_mode\n",
        "\n",
        "weak_estimators = [\n",
        "    ('knn', KNeighborsClassifier(n_neighbors=5)),\n",
        "    ('gnb', GaussianNB()),\n",
        "    ('ppn', Perceptron(eta0=0.1, random_state=42))\n",
        "]\n",
        "vote_clf = MajorityVoteClassifier(weak_estimators)\n",
        "vote_clf.fit(X_train, y_train)\n",
        "vote_pred = vote_clf.predict(X_test)\n",
        "vote_hits = (vote_pred == y_test)\n",
        "print(vote_hits)\n",
        "print(vote_hits.mean())"
      ],
      "metadata": {
        "colab": {
          "base_uri": "https://localhost:8080/"
        },
        "id": "wXbiuidoGbr2",
        "outputId": "426b6b57-2434-40cc-f018-49e6619079b1"
      },
      "execution_count": 14,
      "outputs": [
        {
          "output_type": "stream",
          "name": "stdout",
          "text": [
            "[ True  True  True  True  True  True  True  True  True  True  True  True\n",
            "  True  True  True  True  True  True  True  True  True  True  True  True\n",
            "  True  True  True  True  True  True  True  True  True  True  True  True\n",
            " False  True  True  True  True  True  True  True  True  True  True  True\n",
            "  True  True  True  True  True  True  True  True  True  True  True  True\n",
            "  True  True  True False  True  True  True False  True  True  True  True\n",
            "  True  True  True  True  True  True  True  True]\n",
            "0.9625\n"
          ]
        }
      ]
    },
    {
      "cell_type": "code",
      "source": [
        "from sklearn.ensemble import VotingClassifier\n",
        "\n",
        "voting_clf = VotingClassifier(weak_estimators)\n",
        "voting_clf.fit(X_train, y_train)\n",
        "voting_pred = voting_clf.predict(X_test)\n",
        "voting_hits = (voting_pred == y_test)\n",
        "print(voting_hits)\n",
        "print(voting_hits.mean())"
      ],
      "metadata": {
        "colab": {
          "base_uri": "https://localhost:8080/"
        },
        "id": "FZyPfkx-HfDt",
        "outputId": "7bb1eec0-da95-474e-e1fa-e293e8f5457f"
      },
      "execution_count": 15,
      "outputs": [
        {
          "output_type": "stream",
          "name": "stdout",
          "text": [
            "[ True  True  True  True  True  True  True  True  True  True  True  True\n",
            "  True  True  True  True  True  True  True  True  True  True  True  True\n",
            "  True  True  True  True  True  True  True  True  True  True  True  True\n",
            " False  True  True  True  True  True  True  True  True  True  True  True\n",
            "  True  True  True  True  True  True  True  True  True  True  True  True\n",
            "  True  True  True False  True  True  True False  True  True  True  True\n",
            "  True  True  True  True  True  True  True  True]\n",
            "0.9625\n"
          ]
        }
      ]
    },
    {
      "cell_type": "code",
      "source": [
        "ks = [1, 5, 9]\n",
        "weak_estimators = [(f\"KNN({k})\", KNeighborsClassifier(k)) for k in ks]\n",
        "voting_clf = VotingClassifier(weak_estimators)\n",
        "voting_clf.fit(X_train, y_train)\n",
        "voting_pred = voting_clf.predict(X_test)\n",
        "voting_hits = (voting_pred == y_test)\n",
        "print(voting_hits)\n",
        "print(voting_hits.mean())"
      ],
      "metadata": {
        "colab": {
          "base_uri": "https://localhost:8080/"
        },
        "id": "yI6V3tZmHrll",
        "outputId": "063f16fa-47c8-48f8-8c24-ad5985acda29"
      },
      "execution_count": 26,
      "outputs": [
        {
          "output_type": "stream",
          "name": "stdout",
          "text": [
            "[ True  True  True  True  True  True  True  True  True  True  True  True\n",
            "  True  True  True  True  True  True  True  True  True  True False False\n",
            "  True False False  True  True  True  True False  True  True  True  True\n",
            " False False  True  True  True  True  True  True  True  True  True  True\n",
            "  True  True  True  True  True  True  True  True  True  True  True  True\n",
            "  True  True  True False  True False  True  True False  True  True  True\n",
            "  True  True  True  True  True  True  True  True]\n",
            "0.875\n"
          ]
        }
      ]
    },
    {
      "cell_type": "code",
      "source": [
        "from sklearn.tree import DecisionTreeClassifier\n",
        "\n",
        "tree_clf = DecisionTreeClassifier()\n",
        "tree_clf.fit(X_train, y_train)\n",
        "tree_pred = tree_clf.predict(X_test)\n",
        "tree_hits = (tree_pred == y_test)\n",
        "print(tree_hits)\n",
        "print(tree_hits.mean())"
      ],
      "metadata": {
        "colab": {
          "base_uri": "https://localhost:8080/"
        },
        "id": "u1IbLfdqIc5V",
        "outputId": "0eef3839-241c-40be-9e77-5cfc3280d54e"
      },
      "execution_count": 29,
      "outputs": [
        {
          "output_type": "stream",
          "name": "stdout",
          "text": [
            "[ True  True  True  True  True False  True False False False False  True\n",
            "  True False False False False  True  True False  True  True False False\n",
            "  True  True False False False  True False  True  True False False False\n",
            " False False False  True False  True False False  True False  True  True\n",
            "  True False False  True  True False  True False False False False  True\n",
            " False  True False False  True  True  True  True False False  True False\n",
            " False  True False  True  True False  True  True]\n",
            "0.475\n"
          ]
        }
      ]
    },
    {
      "cell_type": "code",
      "source": [
        "weak_estimators = [(f\"dt{i+1}\", DecisionTreeClassifier()) for i in range(3)]\n",
        "voting_clf = VotingClassifier(weak_estimators)\n",
        "voting_clf.fit(X_train, y_train)\n",
        "voting_pred = voting_clf.predict(X_test)\n",
        "voting_hits = (voting_pred == y_test)\n",
        "print(voting_hits)\n",
        "print(voting_hits.mean())"
      ],
      "metadata": {
        "colab": {
          "base_uri": "https://localhost:8080/"
        },
        "id": "Udacu-_cI9rs",
        "outputId": "7b83c225-7b85-456c-e10b-f3cf84724b57"
      },
      "execution_count": 30,
      "outputs": [
        {
          "output_type": "stream",
          "name": "stdout",
          "text": [
            "[ True  True  True  True  True False  True  True False False False  True\n",
            "  True False False False False  True  True  True  True  True False False\n",
            "  True  True False False False False False  True  True False  True False\n",
            " False False False  True False  True False False  True False  True  True\n",
            "  True  True False  True  True False  True False False False False  True\n",
            " False  True False False  True  True  True False False False  True False\n",
            " False False  True  True  True False  True  True]\n",
            "0.5\n"
          ]
        }
      ]
    },
    {
      "cell_type": "code",
      "source": [
        "weak_estimators = [(f\"dt{i+1}\", DecisionTreeClassifier()) for i in range(10)]\n",
        "voting_clf = VotingClassifier(weak_estimators)\n",
        "voting_clf.fit(X_train, y_train)\n",
        "voting_pred = voting_clf.predict(X_test)\n",
        "voting_hits = (voting_pred == y_test)\n",
        "print(voting_hits)\n",
        "print(voting_hits.mean())"
      ],
      "metadata": {
        "colab": {
          "base_uri": "https://localhost:8080/"
        },
        "id": "Ojzxy4iiJfA0",
        "outputId": "68e90d19-dd60-4175-a00d-3f5fd0590a7d"
      },
      "execution_count": 31,
      "outputs": [
        {
          "output_type": "stream",
          "name": "stdout",
          "text": [
            "[ True  True  True  True  True False  True  True False False False  True\n",
            "  True False False False False  True  True  True  True  True False False\n",
            "  True  True False False False  True False  True  True False False False\n",
            " False False False  True False  True False False  True False  True  True\n",
            "  True  True False  True  True False  True False False False False  True\n",
            " False  True False False  True  True  True  True False False  True False\n",
            " False  True  True  True  True False  True  True]\n",
            "0.525\n"
          ]
        }
      ]
    },
    {
      "cell_type": "code",
      "source": [
        "from sklearn.tree import DecisionTreeClassifier\n",
        "\n",
        "tree_clf = DecisionTreeClassifier(splitter='random')\n",
        "tree_clf.fit(X_train, y_train)\n",
        "tree_pred = tree_clf.predict(X_test)\n",
        "tree_hits = (tree_pred == y_test)\n",
        "print(tree_hits)\n",
        "print(tree_hits.mean())"
      ],
      "metadata": {
        "colab": {
          "base_uri": "https://localhost:8080/"
        },
        "id": "8kHnq5zYKMnc",
        "outputId": "e84044a9-036c-47b0-813c-50c4f28f4d3b"
      },
      "execution_count": 40,
      "outputs": [
        {
          "output_type": "stream",
          "name": "stdout",
          "text": [
            "[ True  True  True False  True False False  True  True False False  True\n",
            "  True  True  True False False  True  True False  True  True  True  True\n",
            "  True  True  True  True  True  True  True  True  True  True  True False\n",
            " False False False  True False  True False  True False False  True  True\n",
            "  True  True  True  True  True False  True False False  True  True False\n",
            " False  True False False False  True False  True  True False False  True\n",
            " False  True  True  True False  True  True  True]\n",
            "0.6375\n"
          ]
        }
      ]
    },
    {
      "cell_type": "code",
      "source": [
        "weak_estimators = [(f\"dt{i+1}\", DecisionTreeClassifier(splitter='random')) for i in range(10)]\n",
        "voting_clf = VotingClassifier(weak_estimators)\n",
        "voting_clf.fit(X_train, y_train)\n",
        "voting_pred = voting_clf.predict(X_test)\n",
        "voting_hits = (voting_pred == y_test)\n",
        "print(voting_hits)\n",
        "print(voting_hits.mean())"
      ],
      "metadata": {
        "colab": {
          "base_uri": "https://localhost:8080/"
        },
        "id": "5JsDRRwlJjJE",
        "outputId": "10a27e44-7562-4027-9027-4e2b5a02d918"
      },
      "execution_count": 46,
      "outputs": [
        {
          "output_type": "stream",
          "name": "stdout",
          "text": [
            "[ True  True  True  True  True False  True  True  True False False  True\n",
            "  True  True  True  True False  True  True  True  True  True  True False\n",
            "  True  True  True  True  True  True  True  True  True  True  True  True\n",
            " False False False  True False  True False  True  True False  True  True\n",
            "  True  True  True  True  True False  True False False  True  True  True\n",
            "  True  True False False  True  True  True  True False False  True  True\n",
            "  True  True  True  True  True False  True  True]\n",
            "0.7625\n"
          ]
        }
      ]
    },
    {
      "cell_type": "code",
      "source": [
        "from sklearn.ensemble import BaggingClassifier\n",
        "\n",
        "base_estimator = DecisionTreeClassifier()\n",
        "bagging_clf = BaggingClassifier(base_estimator, n_estimators=10)\n",
        "bagging_clf.fit(X_train, y_train)\n",
        "bagging_pred = bagging_clf.predict(X_test)\n",
        "bagging_hits = (bagging_pred == y_test)\n",
        "print(bagging_hits)\n",
        "print(bagging_hits.mean())"
      ],
      "metadata": {
        "colab": {
          "base_uri": "https://localhost:8080/"
        },
        "id": "n9WeWW4XLMq8",
        "outputId": "44171cf9-374a-48e6-d17d-cdb66c8cdae0"
      },
      "execution_count": 47,
      "outputs": [
        {
          "output_type": "stream",
          "name": "stdout",
          "text": [
            "[ True  True  True  True  True  True  True False  True False  True  True\n",
            "  True  True  True  True False  True  True  True  True  True  True False\n",
            "  True  True  True False  True False False  True  True  True  True  True\n",
            " False False  True  True False  True  True False  True False  True  True\n",
            "  True  True False  True  True  True  True False False  True  True  True\n",
            "  True  True False False  True  True  True  True False False  True  True\n",
            "  True  True  True  True  True False False  True]\n",
            "0.7375\n"
          ]
        }
      ]
    },
    {
      "cell_type": "code",
      "source": [
        "from sklearn.ensemble import BaggingClassifier\n",
        "\n",
        "base_estimator = DecisionTreeClassifier(splitter='random')\n",
        "bagging_clf = BaggingClassifier(base_estimator,\n",
        "                                n_estimators=100,\n",
        "                                random_state=42)\n",
        "bagging_clf.fit(X_train, y_train)\n",
        "bagging_pred = bagging_clf.predict(X_test)\n",
        "bagging_hits = (bagging_pred == y_test)\n",
        "print(bagging_hits)\n",
        "print(bagging_hits.mean())"
      ],
      "metadata": {
        "colab": {
          "base_uri": "https://localhost:8080/"
        },
        "id": "2Nwi61EELe4d",
        "outputId": "48254ad8-3d99-47e4-8bbd-dca9d2c02f44"
      },
      "execution_count": 53,
      "outputs": [
        {
          "output_type": "stream",
          "name": "stdout",
          "text": [
            "[ True  True  True  True  True  True  True  True  True  True  True  True\n",
            "  True  True  True  True False  True  True  True  True  True  True  True\n",
            "  True  True  True  True  True  True  True  True  True  True  True  True\n",
            " False  True  True  True  True  True  True  True  True  True  True  True\n",
            "  True  True  True  True  True  True  True  True  True  True  True  True\n",
            "  True  True False False  True False  True  True False False  True  True\n",
            "  True  True  True  True  True  True  True  True]\n",
            "0.9125\n"
          ]
        }
      ]
    },
    {
      "cell_type": "code",
      "source": [
        "from sklearn.ensemble import RandomForestClassifier\n",
        "\n",
        "rf_clf = RandomForestClassifier(n_estimators=100, random_state=42)\n",
        "rf_clf.fit(X_train, y_train)\n",
        "rf_pred = rf_clf.predict(X_test)\n",
        "rf_hits = (rf_pred == y_test)\n",
        "print(rf_hits)\n",
        "print(rf_hits.mean())"
      ],
      "metadata": {
        "colab": {
          "base_uri": "https://localhost:8080/"
        },
        "id": "1oe33aeUL8MM",
        "outputId": "86f02169-6430-4d68-b5ea-dc299ba8629e"
      },
      "execution_count": 54,
      "outputs": [
        {
          "output_type": "stream",
          "name": "stdout",
          "text": [
            "[ True  True  True  True  True  True  True  True  True  True  True  True\n",
            "  True  True  True  True  True  True  True  True  True  True  True  True\n",
            "  True  True  True  True  True  True  True  True  True  True  True  True\n",
            "  True  True  True  True False  True False  True  True  True  True  True\n",
            "  True  True  True  True  True False  True  True  True  True  True  True\n",
            "  True  True False False  True  True  True  True False  True  True  True\n",
            "  True  True  True  True  True  True  True  True]\n",
            "0.925\n"
          ]
        }
      ]
    },
    {
      "cell_type": "code",
      "source": [
        "from sklearn.ensemble import ExtraTreesClassifier\n",
        "\n",
        "et_clf = ExtraTreesClassifier(n_estimators=100, random_state=42)\n",
        "et_clf.fit(X_train, y_train)\n",
        "et_pred = et_clf.predict(X_test)\n",
        "et_hits = (et_pred == y_test)\n",
        "print(et_hits)\n",
        "print(et_hits.mean())"
      ],
      "metadata": {
        "colab": {
          "base_uri": "https://localhost:8080/"
        },
        "id": "0ArLcQzFMmb0",
        "outputId": "bb71637c-3f26-49cf-9b65-13c3227bc081"
      },
      "execution_count": 55,
      "outputs": [
        {
          "output_type": "stream",
          "name": "stdout",
          "text": [
            "[ True  True  True  True  True  True  True  True  True  True  True  True\n",
            "  True  True  True  True  True  True  True  True  True  True  True  True\n",
            "  True  True  True  True  True  True  True  True  True  True  True  True\n",
            "  True False  True  True  True  True  True  True  True  True  True  True\n",
            "  True  True  True  True  True  True  True  True  True  True  True  True\n",
            "  True  True False False  True  True  True  True  True  True  True  True\n",
            "  True  True  True  True  True  True  True  True]\n",
            "0.9625\n"
          ]
        }
      ]
    },
    {
      "cell_type": "code",
      "source": [
        "from sklearn.ensemble import AdaBoostClassifier\n",
        "\n",
        "ada_clf = AdaBoostClassifier(DecisionTreeClassifier(splitter='random', max_depth=20),\n",
        "                             random_state=42)\n",
        "ada_clf.fit(X_train, y_train)\n",
        "ada_pred = ada_clf.predict(X_test)\n",
        "ada_hits = (ada_pred == y_test)\n",
        "print(ada_hits)\n",
        "print(ada_hits.mean())"
      ],
      "metadata": {
        "colab": {
          "base_uri": "https://localhost:8080/"
        },
        "id": "Mf0YbiIvMxBU",
        "outputId": "e7a71311-852f-4fc0-cb6f-5ea06d4d25b0"
      },
      "execution_count": 65,
      "outputs": [
        {
          "output_type": "stream",
          "name": "stdout",
          "text": [
            "[ True  True  True  True  True  True  True  True  True  True False  True\n",
            "  True  True  True  True False  True  True  True  True  True  True  True\n",
            "  True  True  True  True  True  True  True  True  True  True  True  True\n",
            "  True  True  True  True  True  True  True  True  True  True  True  True\n",
            "  True  True  True  True  True  True  True  True  True  True  True  True\n",
            "  True  True False False  True  True  True  True False  True  True  True\n",
            "  True  True  True  True  True  True  True  True]\n",
            "0.9375\n"
          ]
        }
      ]
    },
    {
      "cell_type": "code",
      "source": [
        "from sklearn.ensemble import StackingClassifier\n",
        "import warnings\n",
        "warnings.filterwarnings('ignore')\n",
        "\n",
        "base_estimators = [\n",
        "    ('ab', ada_clf),\n",
        "    ('rf', rf_clf),\n",
        "    ('et', et_clf)\n",
        "  ]\n",
        "\n",
        "stacking_clf = StackingClassifier(base_estimators,\n",
        "                                  cv=5)\n",
        "stacking_clf.fit(X_train, y_train)\n",
        "stacking_pred = stacking_clf.predict(X_test)\n",
        "stacking_hits = (stacking_pred == y_test)\n",
        "print(stacking_hits)\n",
        "print(stacking_hits.mean())"
      ],
      "metadata": {
        "colab": {
          "base_uri": "https://localhost:8080/"
        },
        "id": "8IokaMXiOxKT",
        "outputId": "463df637-7a68-4fbe-8a81-8f73cf0f717c"
      },
      "execution_count": 71,
      "outputs": [
        {
          "output_type": "stream",
          "name": "stdout",
          "text": [
            "[ True  True  True  True  True  True  True  True  True  True False  True\n",
            "  True False  True  True  True  True  True  True False  True  True  True\n",
            "  True  True  True  True  True  True  True  True  True  True  True  True\n",
            "  True False  True  True  True  True False  True  True  True  True  True\n",
            "  True  True  True  True  True False  True False False  True False  True\n",
            "  True  True False False  True False  True  True False False  True  True\n",
            "  True  True  True  True  True  True  True  True]\n",
            "0.825\n"
          ]
        }
      ]
    },
    {
      "cell_type": "code",
      "source": [
        "from sklearn.pipeline import Pipeline\n",
        "from sklearn.model_selection import cross_validate, StratifiedKFold\n",
        "\n",
        "et_pipe = Pipeline([\n",
        "    ('scaler', StandardScaler()),\n",
        "    ('et', ExtraTreesClassifier(n_estimators=100, random_state=42))\n",
        "])\n",
        "\n",
        "scores = cross_validate(et_pipe, X, y,\n",
        "                        cv=StratifiedKFold(shuffle=True, random_state=42))\n",
        "print(scores['test_score'])\n",
        "print(scores['test_score'].mean())"
      ],
      "metadata": {
        "colab": {
          "base_uri": "https://localhost:8080/"
        },
        "id": "leADRZ-wQ75J",
        "outputId": "bf0d18a0-3f94-403a-a47b-822ee86d9e2e"
      },
      "execution_count": 75,
      "outputs": [
        {
          "output_type": "stream",
          "name": "stdout",
          "text": [
            "[0.95   0.9625 0.9875 0.95   0.95  ]\n",
            "0.9600000000000002\n"
          ]
        }
      ]
    },
    {
      "cell_type": "code",
      "source": [
        "from sklearn.linear_model import LogisticRegression\n",
        "\n",
        "lr_pipe = Pipeline([\n",
        "    ('scaler', StandardScaler()),\n",
        "    ('lr', LogisticRegression(random_state=42))\n",
        "])\n",
        "\n",
        "scores = cross_validate(lr_pipe, X, y,\n",
        "                        cv=StratifiedKFold(shuffle=True, random_state=42))\n",
        "print(scores['test_score'])\n",
        "print(scores['test_score'].mean())"
      ],
      "metadata": {
        "colab": {
          "base_uri": "https://localhost:8080/"
        },
        "id": "bPbm33-1RpDS",
        "outputId": "5b93425a-7be1-4a67-d30e-b94955c469c0"
      },
      "execution_count": 76,
      "outputs": [
        {
          "output_type": "stream",
          "name": "stdout",
          "text": [
            "[0.9875 0.975  0.975  0.975  0.9625]\n",
            "0.975\n"
          ]
        }
      ]
    }
  ]
}